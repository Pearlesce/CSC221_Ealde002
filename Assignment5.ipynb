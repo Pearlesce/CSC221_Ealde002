{
  "nbformat": 4,
  "nbformat_minor": 0,
  "metadata": {
    "colab": {
      "provenance": [],
      "authorship_tag": "ABX9TyMgw9++DvwFgHXsyeZJ32Cw",
      "include_colab_link": true
    },
    "kernelspec": {
      "name": "python3",
      "display_name": "Python 3"
    },
    "language_info": {
      "name": "python"
    }
  },
  "cells": [
    {
      "cell_type": "markdown",
      "metadata": {
        "id": "view-in-github",
        "colab_type": "text"
      },
      "source": [
        "<a href=\"https://colab.research.google.com/github/Pearlesce/CSC221_Ealde002/blob/main/Assignment5.ipynb\" target=\"_parent\"><img src=\"https://colab.research.google.com/assets/colab-badge.svg\" alt=\"Open In Colab\"/></a>"
      ]
    },
    {
      "cell_type": "markdown",
      "source": [
        "Read through Crash Ch. 4 and work through it as a Colab like we did in class. You will \"hand in\" a big Colab called Assignment5.ipynb that I can just run from your GitHub.\n",
        "\n",
        "Try the examples as shown in the text.\n",
        "\n",
        "Try the Try It Yourself challenges. If some seem redundant, explain that in your Colab and move on!\n",
        "\n",
        "\n",
        "Write a function calledfactorial(n) that computes the factorial of a positive integer n using a list. Then, modify the factorial definition to remove the numbers 4, 13, and 22 from the product."
      ],
      "metadata": {
        "id": "U6JphCxMANca"
      }
    },
    {
      "cell_type": "code",
      "execution_count": 1,
      "metadata": {
        "colab": {
          "base_uri": "https://localhost:8080/"
        },
        "id": "9sHYXire_RLh",
        "outputId": "3f99708e-f7fc-4f46-a02e-a57dab087a2d"
      },
      "outputs": [
        {
          "output_type": "stream",
          "name": "stdout",
          "text": [
            "Alice, that was a great trick\n",
            "I can't wait to see your next trick, Alice.\n",
            "\n",
            "David, that was a great trick\n",
            "I can't wait to see your next trick, David.\n",
            "\n",
            "Carolina, that was a great trick\n",
            "I can't wait to see your next trick, Carolina.\n",
            "\n",
            "Thank you, everyone! That was a great magic show!\n"
          ]
        }
      ],
      "source": [
        "# In-text Examples\n",
        "# Will use comments for redundant code\n",
        "magicians = ['alice', 'david', 'carolina']\n",
        "for magician in magicians:\n",
        "  #print(magician)\n",
        "  print(f\"{magician.title()}, that was a great trick\")\n",
        "  print(f\"I can't wait to see your next trick, {magician.title()}.\\n\")\n",
        "print(\"Thank you, everyone! That was a great magic show!\")\n",
        "#I'm not doing the indentation errors. It's repetitive and fairly easy to debug via error messages"
      ]
    },
    {
      "cell_type": "code",
      "source": [
        "#Try It Yourself 4-1 and 4-2\n",
        "fav_pizza = ['pepperoni', 'chicken bacon ranch', 'meat lovers']\n",
        "for pizza in fav_pizza:\n",
        "  #print(pizza)\n",
        "  print(f\"I like {pizza} pizza!\")\n",
        "print(\"I just really like pizza.\\n\")\n",
        "\n",
        "animals = ['bearded dragon', 'western hognose', 'dumpy tree frog']\n",
        "for animal in animals:\n",
        "  #print(animal)\n",
        "  print(f\"A {animal} would make a great, if unusual, pet.\")\n",
        "print(\"If exotics are your thing, any of these are awesome pets!\")"
      ],
      "metadata": {
        "colab": {
          "base_uri": "https://localhost:8080/"
        },
        "id": "6uxgsoIZFE9W",
        "outputId": "bab04c04-8ea5-483b-94bb-7a7108301c28"
      },
      "execution_count": 2,
      "outputs": [
        {
          "output_type": "stream",
          "name": "stdout",
          "text": [
            "I like pepperoni pizza!\n",
            "I like chicken bacon ranch pizza!\n",
            "I like meat lovers pizza!\n",
            "I just really like pizza.\n",
            "\n",
            "A bearded dragon would make a great, if unusual, pet.\n",
            "A western hognose would make a great, if unusual, pet.\n",
            "A dumpy tree frog would make a great, if unusual, pet.\n",
            "If exotics are your thing, any of these are awesome pets!\n"
          ]
        }
      ]
    },
    {
      "cell_type": "code",
      "source": [
        "#In-text Examples\n",
        "for value in range(1, 6):\n",
        "  print(value)\n",
        "#numbers = list(range(1, 6))\n",
        "#print(numbers)\n",
        "#even_numbers = list(range(2, 11, 2))\n",
        "#print(even_numbers)\n",
        "#squares = []\n",
        "#for value in range(1, 11):\n",
        "  #square = value ** 2\n",
        "  #squares.append(value ** 2)\n",
        "#print(squares)\n",
        "digits = [1, 2, 3, 4, 5, 6, 7, 8, 9, 0]\n",
        "#print(min(digits))\n",
        "#print(max(digits))\n",
        "#print(sum(digits))\n",
        "squares = [value ** 2 for value in range(1, 11)]\n",
        "print(squares)"
      ],
      "metadata": {
        "colab": {
          "base_uri": "https://localhost:8080/"
        },
        "id": "Hzs15gqrJvBH",
        "outputId": "efebfd75-847b-46ab-ce6d-bebbd613a60e"
      },
      "execution_count": 3,
      "outputs": [
        {
          "output_type": "stream",
          "name": "stdout",
          "text": [
            "1\n",
            "2\n",
            "3\n",
            "4\n",
            "5\n",
            "[1, 4, 9, 16, 25, 36, 49, 64, 81, 100]\n"
          ]
        }
      ]
    },
    {
      "cell_type": "code",
      "source": [
        "#Try It Yourself\n",
        "#for count in range (1, 21):\n",
        "  #print(count)\n",
        "millions = list(range(1, 1000001))\n",
        "#for numbers in millions:\n",
        "  #print(numbers)\n",
        "print(min(millions))\n",
        "print(max(millions))\n",
        "print(sum(millions))\n",
        "#odds = list(range(1, 20, 2))\n",
        "#for odd in odds:\n",
        "  #print(odd)\n",
        "#4.7 and 4.8 are redundant, skipping\n",
        "cubes = [value ** 3 for value in range(1, 11)]\n",
        "print(cubes)"
      ],
      "metadata": {
        "colab": {
          "base_uri": "https://localhost:8080/"
        },
        "id": "t-ACYw_AMmY9",
        "outputId": "6e278213-b75f-4c39-8b3e-60be50ff788d"
      },
      "execution_count": 4,
      "outputs": [
        {
          "output_type": "stream",
          "name": "stdout",
          "text": [
            "1\n",
            "1000000\n",
            "500000500000\n",
            "[1, 8, 27, 64, 125, 216, 343, 512, 729, 1000]\n"
          ]
        }
      ]
    },
    {
      "cell_type": "code",
      "source": [
        "#In Text Examples\n",
        "players = ['charles', 'martina', 'michael', 'florence', 'eli']\n",
        "#print(players[0:3])\n",
        "#print(players[1:4])\n",
        "#print(players[:4])\n",
        "#print(players[2:])\n",
        "print(\"Here are the first three players on my team:\")\n",
        "for player in players[:3]:\n",
        "  print(player.title())\n",
        "my_foods = ['pizza', 'falafel', 'carrot cake']\n",
        "friend_foods = my_foods[:]\n",
        "my_foods.append('cannoli')\n",
        "friend_foods.append('ice cream')\n",
        "print(\"My favorite foods are:\")\n",
        "print(my_foods)\n",
        "print(\"\\nMy friend's favorite foods are:\")\n",
        "print(friend_foods)"
      ],
      "metadata": {
        "colab": {
          "base_uri": "https://localhost:8080/"
        },
        "id": "g0EHcMpFPb8U",
        "outputId": "c2996dbc-5df2-4ff8-ab6d-eb148c3a47c2"
      },
      "execution_count": 5,
      "outputs": [
        {
          "output_type": "stream",
          "name": "stdout",
          "text": [
            "Here are the first three players on my team:\n",
            "Charles\n",
            "Martina\n",
            "Michael\n",
            "My favorite foods are:\n",
            "['pizza', 'falafel', 'carrot cake', 'cannoli']\n",
            "\n",
            "My friend's favorite foods are:\n",
            "['pizza', 'falafel', 'carrot cake', 'ice cream']\n"
          ]
        }
      ]
    },
    {
      "cell_type": "code",
      "source": [
        "#Try It Yourself\n",
        "print('The first, middle, and last three items in the list are:')\n",
        "print(digits[0:3])\n",
        "print(digits[4:7])\n",
        "print(digits[7:])\n",
        "friend_pizzas = fav_pizza[:]\n",
        "fav_pizza.append('veggie')\n",
        "friend_pizzas.append('hawaiian')\n",
        "print(\"My favorite pizzas are:\")\n",
        "#for pies in fav_pizza:\n",
        "print(fav_pizza)\n",
        "print(\"My friend's favorite pizzas are:\")\n",
        "#for pizza in friend_pizzas:\n",
        "print(friend_pizzas)"
      ],
      "metadata": {
        "colab": {
          "base_uri": "https://localhost:8080/"
        },
        "id": "TzaFKNGjRNmg",
        "outputId": "da3b9165-fcbf-44ce-eb0a-3b674e235652"
      },
      "execution_count": 6,
      "outputs": [
        {
          "output_type": "stream",
          "name": "stdout",
          "text": [
            "The first, middle, and last three items in the list are:\n",
            "[1, 2, 3]\n",
            "[5, 6, 7]\n",
            "[8, 9, 0]\n",
            "My favorite pizzas are:\n",
            "['pepperoni', 'chicken bacon ranch', 'meat lovers', 'veggie']\n",
            "My friend's favorite pizzas are:\n",
            "['pepperoni', 'chicken bacon ranch', 'meat lovers', 'hawaiian']\n"
          ]
        }
      ]
    },
    {
      "cell_type": "code",
      "source": [
        "#In Text Examples\n",
        "\n",
        "dimensions = (200, 50)\n",
        "print(\"Original dimensions:\")\n",
        "for dimension in dimensions:\n",
        "  print(dimension)\n",
        "dimensions = (400, 100)\n",
        "print(\"\\nModified dimensions:\")\n",
        "for dimension in dimensions:\n",
        "  print(dimension)"
      ],
      "metadata": {
        "colab": {
          "base_uri": "https://localhost:8080/"
        },
        "id": "9iemchz7UVz4",
        "outputId": "2769f9de-8454-4624-b1e5-fcee419eae4a"
      },
      "execution_count": 9,
      "outputs": [
        {
          "output_type": "stream",
          "name": "stdout",
          "text": [
            "Original dimensions:\n",
            "200\n",
            "50\n",
            "\n",
            "Modified dimensions:\n",
            "400\n",
            "100\n"
          ]
        }
      ]
    },
    {
      "cell_type": "code",
      "source": [
        "#Try It Yourself\n",
        "buffet = ('chicken fingers', 'steak', 'fries', 'ice cream', 'jello')\n",
        "print(\"Old Menu:\")\n",
        "for food in buffet:\n",
        "  print(food)\n",
        "buffet = ('chicken nuggets', 'burgers', 'fries', 'ice cream', 'jello')\n",
        "print(\"\\nNew Menu:\")\n",
        "for food in buffet:\n",
        "  print(food)\n"
      ],
      "metadata": {
        "colab": {
          "base_uri": "https://localhost:8080/"
        },
        "id": "sEYORttUV6Xl",
        "outputId": "656ef276-d704-4410-a199-842ab7122b89"
      },
      "execution_count": 11,
      "outputs": [
        {
          "output_type": "stream",
          "name": "stdout",
          "text": [
            "Old Menu:\n",
            "chicken fingers\n",
            "steak\n",
            "fries\n",
            "ice cream\n",
            "jello\n",
            "\n",
            "New Menu:\n",
            "chicken nuggets\n",
            "burgers\n",
            "fries\n",
            "ice cream\n",
            "jello\n"
          ]
        }
      ]
    },
    {
      "cell_type": "markdown",
      "source": [
        "I didn't do the last Try It Yourself because I follow SUNY Potsdam's Coding Style Guide, that is actually a modified PEP 8 guide. I can show you it to you one day if you'd like to review it."
      ],
      "metadata": {
        "id": "ieBkIqe4XG26"
      }
    },
    {
      "cell_type": "code",
      "source": [
        "def factorial(n):\n",
        "  my_list = [element for element in range(1, n + 1)]\n",
        "  product = 1\n",
        "  #print(my_list)\n",
        "  for n in my_list:\n",
        "    product *= n\n",
        "  return product\n",
        "print(factorial(5))\n",
        "print(factorial(10))\n",
        "print(factorial(20))\n",
        "print(factorial(50))\n",
        "\n",
        "def special_factorial(n):\n",
        "  my_list2 = [element for element in range(1, n + 1)]\n",
        "  product = 1\n",
        "  for x in my_list2:\n",
        "    if x == 4:\n",
        "      my_list2.remove(4)\n",
        "    elif x == 13:\n",
        "      my_list2.remove(13)\n",
        "    elif x == 22:\n",
        "      my_list2.remove(22)\n",
        "  my_list3 = my_list2[:]\n",
        "  for x in my_list3:\n",
        "    product *= x\n",
        "  return product\n",
        "print(special_factorial(5))\n",
        "print(special_factorial(10))\n",
        "print(special_factorial(20))\n",
        "print(special_factorial(50))"
      ],
      "metadata": {
        "colab": {
          "base_uri": "https://localhost:8080/"
        },
        "id": "kScXaCt_Xt04",
        "outputId": "a7243514-f5cd-4a53-e4a8-245ecad5efa5"
      },
      "execution_count": 88,
      "outputs": [
        {
          "output_type": "stream",
          "name": "stdout",
          "text": [
            "120\n",
            "3628800\n",
            "2432902008176640000\n",
            "30414093201713378043612608166064768844377641568960512000000000000\n",
            "30\n",
            "907200\n",
            "46786577080320000\n",
            "26585745805693512275885146998308364374455980392448000000000000\n"
          ]
        }
      ]
    }
  ]
}