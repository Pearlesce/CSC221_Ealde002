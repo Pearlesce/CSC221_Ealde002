{
  "nbformat": 4,
  "nbformat_minor": 0,
  "metadata": {
    "colab": {
      "provenance": [],
      "authorship_tag": "ABX9TyMb2kPX2BLkBQTJuEvWSDyF",
      "include_colab_link": true
    },
    "kernelspec": {
      "name": "python3",
      "display_name": "Python 3"
    },
    "language_info": {
      "name": "python"
    }
  },
  "cells": [
    {
      "cell_type": "markdown",
      "metadata": {
        "id": "view-in-github",
        "colab_type": "text"
      },
      "source": [
        "<a href=\"https://colab.research.google.com/github/Pearlesce/CSC221_Ealde002/blob/main/Assignment6.ipynb\" target=\"_parent\"><img src=\"https://colab.research.google.com/assets/colab-badge.svg\" alt=\"Open In Colab\"/></a>"
      ]
    },
    {
      "cell_type": "markdown",
      "source": [
        "Read through Crash Ch. 5 and work through it as a Colab like we did in class. You will \"hand in\" a big Colab called Assignment6.ipynb that I can just run from your GitHub.\n",
        "\n",
        "Try the examples as shown in the text.\n",
        "\n",
        "Try the Try It Yourself challenges. You don't have to do them all, but definitely do 5-1, 5-2, 5-3, 5-6, 5-12\n",
        "\n",
        "Do what is suggested in 5-13! Come up with YOUR OWN problem and write a program using only what we have covered in class or in lab to solve it. There should be no two submissions that are similar. Make sure your problem is unique!\n",
        "\n",
        "FYI I changed the settings in Colab so the indentation is 4 spaces, not 2."
      ],
      "metadata": {
        "id": "f1wPOfy4U4Vc"
      }
    },
    {
      "cell_type": "code",
      "execution_count": null,
      "metadata": {
        "colab": {
          "base_uri": "https://localhost:8080/"
        },
        "id": "bsT23iZZUecY",
        "outputId": "51e6f3ab-10c7-4f02-a8b8-28522cbaa538"
      },
      "outputs": [
        {
          "output_type": "stream",
          "name": "stdout",
          "text": [
            "Audi\n",
            "BMW\n",
            "Subaru\n",
            "Toyota\n"
          ]
        }
      ],
      "source": [
        "#In Text Examples\n",
        "cars = ['audi', 'bmw', 'subaru', 'toyota']\n",
        "for car in cars:\n",
        "    if car == 'bmw':\n",
        "        print(car.upper())\n",
        "    else:\n",
        "        print(car.title())"
      ]
    },
    {
      "cell_type": "code",
      "source": [
        "car = 'Audi'\n",
        "car.lower() == 'audi'"
      ],
      "metadata": {
        "colab": {
          "base_uri": "https://localhost:8080/"
        },
        "id": "aM3j8zQHWC2o",
        "outputId": "06015350-6297-4118-9218-79e697cc9f5b"
      },
      "execution_count": null,
      "outputs": [
        {
          "output_type": "execute_result",
          "data": {
            "text/plain": [
              "True"
            ]
          },
          "metadata": {},
          "execution_count": 3
        }
      ]
    },
    {
      "cell_type": "code",
      "source": [
        "answer = 17\n",
        "if answer != 42:\n",
        "    print(\"That is not the correct answer. Please try again!\")"
      ],
      "metadata": {
        "colab": {
          "base_uri": "https://localhost:8080/"
        },
        "id": "dkHDpKqkWUjD",
        "outputId": "15b631d4-3494-4c8a-e6f8-73dfc755a208"
      },
      "execution_count": null,
      "outputs": [
        {
          "output_type": "stream",
          "name": "stdout",
          "text": [
            "That is not the correct answer. Please try again!\n"
          ]
        }
      ]
    },
    {
      "cell_type": "code",
      "source": [
        "#Difference between And and Or Multiple Conditions. I thought this was important\n",
        "print(f'And Conditions:\\nComparing 2 Ages')\n",
        "age_0 = 22\n",
        "age_1 = 18\n",
        "print(age_0 >= 21 and age_1 >= 21)\n",
        "age_1 = 22\n",
        "print(age_0 >= 21 and age_1 >= 21)\n",
        "print(f'Or conditions:\\nComparing 2 Ages')\n",
        "age_2 = 22\n",
        "age_3 = 18\n",
        "print(age_2 >= 21 or age_3 >= 21)\n",
        "age_2 = 16\n",
        "print(age_2 >= 21 or age_3 >= 21)"
      ],
      "metadata": {
        "colab": {
          "base_uri": "https://localhost:8080/"
        },
        "id": "yTwZYZELWvkI",
        "outputId": "12091cb8-0352-40c4-8681-0fc385e098a2"
      },
      "execution_count": null,
      "outputs": [
        {
          "output_type": "stream",
          "name": "stdout",
          "text": [
            "And Conditions:\n",
            "Comparing 2 Ages\n",
            "False\n",
            "True\n",
            "Or conditions:\n",
            "Comparing 2 Ages\n",
            "True\n",
            "False\n"
          ]
        }
      ]
    },
    {
      "cell_type": "code",
      "source": [
        "requested_toppings = ['mushrooms', 'onions', 'pineapple']\n",
        "print(f'mushrooms'in requested_toppings)\n",
        "print(f'pepperoni' in requested_toppings)"
      ],
      "metadata": {
        "colab": {
          "base_uri": "https://localhost:8080/"
        },
        "id": "3UcFKCJZYvYP",
        "outputId": "a7d54b4b-a4df-453d-f53c-567bf20a9f40"
      },
      "execution_count": null,
      "outputs": [
        {
          "output_type": "stream",
          "name": "stdout",
          "text": [
            "True\n",
            "False\n"
          ]
        }
      ]
    },
    {
      "cell_type": "code",
      "source": [
        "banned_users = ['andrew', 'carolina', 'david']\n",
        "user = 'marie'\n",
        "if user not in banned_users:\n",
        "    print(f\"{user.title()}, you can post a response if you wish.\")"
      ],
      "metadata": {
        "colab": {
          "base_uri": "https://localhost:8080/"
        },
        "id": "jTkl9Jd3ZYZJ",
        "outputId": "a2d9360d-2f45-4ee8-bb8a-4c40861ffc2f"
      },
      "execution_count": null,
      "outputs": [
        {
          "output_type": "stream",
          "name": "stdout",
          "text": [
            "Marie, you can post a response if you wish.\n"
          ]
        }
      ]
    },
    {
      "cell_type": "code",
      "source": [
        "#Try It Yourself 5-1\n",
        "car = 'subaru'\n",
        "print(\"Is car == 'subaru'? I predict True.\")\n",
        "print(car == 'subaru')\n",
        "\n",
        "print(\"\\nIs car == 'audi'? I predict False.\")\n",
        "print(car == 'audi')\n",
        "\n",
        "print(\"\\n10 more tests below!\")\n",
        "\n",
        "truck = 'chevy'\n",
        "semi = 'bigrig'\n",
        "momCar = 'subaru'\n",
        "dog = 'guinness'\n",
        "stout = 'guinness'\n",
        "cat = 'jack'\n",
        "rum = 'jack'\n",
        "print(truck == 'chevy')\n",
        "print(car == truck)\n",
        "print(car == momCar)\n",
        "print(momCar == 'bigrig')\n",
        "print(truck == 'audi')\n",
        "print(dog == stout)\n",
        "print(stout == car)\n",
        "print(cat == 'jack')\n",
        "print(rum == 'jack')\n",
        "print(cat == dog)"
      ],
      "metadata": {
        "colab": {
          "base_uri": "https://localhost:8080/"
        },
        "id": "sZ0E-i8sZt5Y",
        "outputId": "bb183a02-4d17-4556-a52c-c6c001b4a831"
      },
      "execution_count": null,
      "outputs": [
        {
          "output_type": "stream",
          "name": "stdout",
          "text": [
            "Is car == 'subaru'? I predict True.\n",
            "True\n",
            "\n",
            "Is car == 'audi'? I predict False.\n",
            "False\n",
            "\n",
            "10 more tests below!\n",
            "True\n",
            "False\n",
            "True\n",
            "False\n",
            "False\n",
            "True\n",
            "False\n",
            "True\n",
            "True\n",
            "False\n"
          ]
        }
      ]
    },
    {
      "cell_type": "code",
      "source": [
        "#Try It Yourself 5-2\n",
        "#Inequality of Strings\n",
        "#lower()\n",
        "#numberical tests\n",
        "#AND and OR\n",
        "#whether items are or are not in a list\n",
        "print(\"String Inequality:\")\n",
        "game = 'monopoly'\n",
        "print(game == 'monopoly')\n",
        "print(game == 'checkers')\n",
        "\n",
        "print(f\"\\nIgnoring Case\")\n",
        "movie = 'Bladerunner'\n",
        "print(movie.lower() == 'bladerunner')\n",
        "\n",
        "print(f\"\\nNumberical Tests\")\n",
        "answerToEverything = 42\n",
        "passingGrade = 70\n",
        "print(\"Is 42 the Answer to Everything?\\n\", answerToEverything == 42)\n",
        "print(\"Is the Answer to Everything enough to pass the class?\\n\",\n",
        "      answerToEverything == passingGrade)\n",
        "\n",
        "print(f\"\\nAnd Or Tests\")\n",
        "lunch1 = 10\n",
        "lunch2 = 15\n",
        "print(lunch1 >= lunch2)\n",
        "print(lunch1 == lunch2)\n",
        "print(lunch1 <= lunch2)\n",
        "\n",
        "print(f\"\\nWhether item is or is not in a list\")\n",
        "dormDrinks = ['monster', 'redbull', 'water', 'soda']\n",
        "print('juice' in dormDrinks)\n",
        "drink = 'coca cola'\n",
        "if drink not in dormDrinks:\n",
        "    print(f\"{drink.title()}? Not in my dorm!\")"
      ],
      "metadata": {
        "colab": {
          "base_uri": "https://localhost:8080/"
        },
        "id": "Jk9i_60oeo8d",
        "outputId": "3066442e-b8e3-4ee3-ab9e-5aaab5f6b7b9"
      },
      "execution_count": null,
      "outputs": [
        {
          "output_type": "stream",
          "name": "stdout",
          "text": [
            "String Inequality:\n",
            "True\n",
            "False\n",
            "\n",
            "Ignoring Case\n",
            "True\n",
            "\n",
            "Numberical Tests\n",
            "Is 42 the Answer to Everything?\n",
            " True\n",
            "Is the Answer to Everything enough to pass the class?\n",
            " False\n",
            "\n",
            "And Or Tests\n",
            "False\n",
            "False\n",
            "True\n",
            "\n",
            "Whether item is or is not in a list\n",
            "False\n",
            "Coca Cola? Not in my dorm!\n"
          ]
        }
      ]
    },
    {
      "cell_type": "code",
      "source": [
        "#In Text Examples\n",
        "\n",
        "#age = 19\n",
        "age = 17\n",
        "if age >= 18:\n",
        "    print(\"You are old enough to vote!\")\n",
        "    print(\"Have you registered to vote yet?\")\n",
        "else:\n",
        "    print(\"Sorry, you are too young to vote.\")\n",
        "    print(\"Please register to vote as soon as you turn 18!\")\n",
        "\n",
        "admission = 12\n",
        "if admission < 4:\n",
        "    price = 0\n",
        "elif admission < 18:\n",
        "    price = 25\n",
        "elif admission < 65:\n",
        "    price = 40\n",
        "elif admission >= 65:\n",
        "    price = 20\n",
        "print(f\"Your admission cost is ${price}\\n\")\n",
        "\n",
        "requested_toppings = ['mushrooms', 'extra cheese']\n",
        "if 'mushrooms' in requested_toppings:\n",
        "    print(\"Adding mushrooms\")\n",
        "if 'pepperoni' in requested_toppings:\n",
        "    print(\"Adding pepperoni\")\n",
        "if 'extra cheese' in requested_toppings:\n",
        "    print(\"Adding extra cheese\")\n",
        "print(\"\\nFinished making your pizza!\")"
      ],
      "metadata": {
        "colab": {
          "base_uri": "https://localhost:8080/"
        },
        "id": "Zggy_z9VZW7U",
        "outputId": "71dcc20a-6f1e-4661-e21e-6b820fb93828"
      },
      "execution_count": null,
      "outputs": [
        {
          "output_type": "stream",
          "name": "stdout",
          "text": [
            "Sorry, you are too young to vote.\n",
            "Please register to vote as soon as you turn 18!\n",
            "Your admission cost is $25\n",
            "\n",
            "Adding mushrooms\n",
            "Adding extra cheese\n",
            "\n",
            "Finished making your pizza!\n"
          ]
        }
      ]
    },
    {
      "cell_type": "code",
      "source": [
        "#Try It Yourself 5.3 and 5.6\n",
        "print(\"Alien Colors 1\")\n",
        "\n",
        "alien_color = 'green'\n",
        "\n",
        "if alien_color == 'green':\n",
        "    print(f\"A {alien_color} alien! You just earned 5 points!\")\n",
        "if alien_color == 'red':\n",
        "    print(f\"A {alien_color} alien! You just earned 5 points!\")\n",
        "\n",
        "print(\"\\nStages of Life\")\n",
        "\n",
        "age = 4\n",
        "\n",
        "if age < 2:\n",
        "    print(\"You are a baby.\")\n",
        "elif age < 4:\n",
        "    print(\"You are a toddler.\")\n",
        "elif age < 13:\n",
        "    print(\"You are a kid.\")\n",
        "elif age < 20:\n",
        "    print(\"You are a teenager.\")\n",
        "elif age < 65:\n",
        "    print(\"You are an adult\")\n",
        "elif age >= 65:\n",
        "    print(\"You are an elder\")"
      ],
      "metadata": {
        "colab": {
          "base_uri": "https://localhost:8080/"
        },
        "id": "HQ_PXJFtdNqg",
        "outputId": "926b0d71-c958-4443-8dfe-27236cda64f7"
      },
      "execution_count": null,
      "outputs": [
        {
          "output_type": "stream",
          "name": "stdout",
          "text": [
            "Alien Colors 1\n",
            "A green alien! You just earned 5 points!\n",
            "\n",
            "Stages of Life\n",
            "You are a kid.\n"
          ]
        }
      ]
    },
    {
      "cell_type": "code",
      "source": [
        "#In Text Exercises\n",
        "\n",
        "available_toppings = ['mushrooms', 'olives', 'green peppers', 'pepperoni',\n",
        "                      'pineapple', 'extra cheese']\n",
        "\n",
        "requested_toppings = ['mushrooms', 'french fries', 'extra cheese']\n",
        "\n",
        "for requested_topping in requested_toppings:\n",
        "    if requested_topping in available_toppings:\n",
        "        print(f\"Adding {requested_topping}.\")\n",
        "    else:\n",
        "        print(f\"Sorry, we don't have {requested_topping}.\")\n",
        "print(\"\\nFinished making your pizza!\")\n",
        "\n"
      ],
      "metadata": {
        "colab": {
          "base_uri": "https://localhost:8080/"
        },
        "id": "GzrI11VtgMFK",
        "outputId": "6bea1ca6-f0ed-4bba-cd69-d24531af0ebe"
      },
      "execution_count": null,
      "outputs": [
        {
          "output_type": "stream",
          "name": "stdout",
          "text": [
            "Adding mushrooms.\n",
            "Sorry, we don't have french fries.\n",
            "Adding extra cheese.\n",
            "\n",
            "Finished making your pizza!\n"
          ]
        }
      ]
    },
    {
      "cell_type": "markdown",
      "source": [
        "For Try It Yourself 5.13, there are a few problems I'd like to solve with my skills. I know a little of both Java and Python now. Some of the programs I'd like to get experience writing is maybe a Tower of Hanoi problem, I'd like to play some more with recursion, and maybe write a Battleship game. But for now, I'm going to play with some lists"
      ],
      "metadata": {
        "id": "eN0FI1cilhGt"
      }
    },
    {
      "cell_type": "code",
      "source": [
        "# Try It Yourself 5.13\n",
        "wingFlavors = ['spicy maple', 'maple bacon', 'sandstoner', 'hoopie toopie']\n",
        "wingTypes = ['bone in', 'boneless', 'tenders', 'duck']\n",
        "\n",
        "print(f\"Wing Night at the Pub! We have these wings on sale {wingTypes}\")\n",
        "wing = input(\"What wing type would you like? \")\n",
        "\n",
        "print(f\"Awesome! Our wing flavors tonight are {wingFlavors}\")\n",
        "sauce = input(\"What flavor would you like? \")\n",
        "\n",
        "if sauce in wingFlavors:\n",
        "    print(\"Great choice!\")\n",
        "    print(f\"You ordered {wing} with {sauce}.\")\n",
        "else:\n",
        "    print(f\"\\nThis isn't Wingstop! We don't have {sauce}\")\n",
        "print(f\"\\nEnjoy your meal!\")"
      ],
      "metadata": {
        "id": "oLE20QuqqI4R",
        "colab": {
          "base_uri": "https://localhost:8080/"
        },
        "outputId": "d6bc2c1c-399d-4628-edd8-2008dc11ba8b"
      },
      "execution_count": 15,
      "outputs": [
        {
          "output_type": "stream",
          "name": "stdout",
          "text": [
            "Wing Night at the Pub! We have these wings on sale ['bone in', 'boneless', 'tenders', 'duck']\n",
            "What wing type would you like? boneless\n",
            "Awesome! Our wing flavors tonight are ['spicy maple', 'maple bacon', 'sandstoner', 'hoopie toopie']\n",
            "What flavor would you like? spicy maple\n",
            "Great choice!\n",
            "You ordered boneless with spicy maple.\n",
            "\n",
            "Enjoy your meal\n"
          ]
        }
      ]
    }
  ]
}