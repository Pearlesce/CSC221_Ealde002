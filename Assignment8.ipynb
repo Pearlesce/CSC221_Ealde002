{
  "nbformat": 4,
  "nbformat_minor": 0,
  "metadata": {
    "colab": {
      "provenance": [],
      "authorship_tag": "ABX9TyOzLeenuq/zPVWTB/MzMfMd",
      "include_colab_link": true
    },
    "kernelspec": {
      "name": "python3",
      "display_name": "Python 3"
    },
    "language_info": {
      "name": "python"
    }
  },
  "cells": [
    {
      "cell_type": "markdown",
      "metadata": {
        "id": "view-in-github",
        "colab_type": "text"
      },
      "source": [
        "<a href=\"https://colab.research.google.com/github/Pearlesce/CSC221_Ealde002/blob/main/Assignment8.ipynb\" target=\"_parent\"><img src=\"https://colab.research.google.com/assets/colab-badge.svg\" alt=\"Open In Colab\"/></a>"
      ]
    },
    {
      "cell_type": "markdown",
      "source": [
        "Try the examples as shown in the text.\n",
        "\n",
        "Try the Try It Yourself challenges. You don't have to do them all, but definitely do 7-1, 7-3, 7-5, 7-6, and 7-8.\n",
        "\n",
        "Make a super basic calculator using input and while\n",
        "\n",
        "The total starts at zero.\n",
        "\n",
        "Ask the user for a number.\n",
        "\n",
        "Ask the user for an operator which can be +, -, *, or /\n",
        "\n",
        "Perform the operation.\n",
        "For example, if the current total is 12, and the user types 100<enter>+<enter>, you should display the new total 112.\n",
        "If the current total is 45 and the user types 1<enter>-<enter>, you should display the new total 44."
      ],
      "metadata": {
        "id": "HTV2UqGa6fI5"
      }
    },
    {
      "cell_type": "code",
      "execution_count": 1,
      "metadata": {
        "colab": {
          "base_uri": "https://localhost:8080/"
        },
        "id": "YpjmpLxk6b3s",
        "outputId": "12ea30f5-8893-46c3-ca27-1fca223bd51f"
      },
      "outputs": [
        {
          "output_type": "stream",
          "name": "stdout",
          "text": [
            "Tell me something, and I will repeat it back to you: Hello everyone!\n",
            "Hello everyone!\n"
          ]
        }
      ],
      "source": [
        "#In Text Exercises\n",
        "message = input(\"Tell me something, and I will repeat it back to you: \")\n",
        "print(message)"
      ]
    },
    {
      "cell_type": "code",
      "source": [
        "name = input(\"Please enter your name: \")\n",
        "print(f\"\\nHello, {name}!\")"
      ],
      "metadata": {
        "colab": {
          "base_uri": "https://localhost:8080/"
        },
        "id": "fpyndSgF5jAX",
        "outputId": "f69589fe-5602-4d7d-e70c-2df636a7fc0f"
      },
      "execution_count": 3,
      "outputs": [
        {
          "output_type": "stream",
          "name": "stdout",
          "text": [
            "Please enter your name: Liz\n",
            "\n",
            "Hello, Liz!\n"
          ]
        }
      ]
    },
    {
      "cell_type": "code",
      "source": [
        "prompt = \"If you share your name, we can personalize the messages you see.\"\n",
        "prompt += \"\\nWhat's your first name? \"\n",
        "name = input(prompt)\n",
        "print(f\"\\nHello, {name}!\")"
      ],
      "metadata": {
        "colab": {
          "base_uri": "https://localhost:8080/"
        },
        "id": "gBlXiVE_5zBo",
        "outputId": "bb37b067-81bd-4109-9ddb-5ce9dc46b818"
      },
      "execution_count": 4,
      "outputs": [
        {
          "output_type": "stream",
          "name": "stdout",
          "text": [
            "If you share your name, we can personalize the messages you see.\n",
            "What's your first name? Liz\n",
            "\n",
            "Hello, Liz!\n"
          ]
        }
      ]
    },
    {
      "cell_type": "code",
      "source": [
        "age = input(\"How old are you? \")\n",
        "age = int(age)\n",
        "age >= 18"
      ],
      "metadata": {
        "colab": {
          "base_uri": "https://localhost:8080/"
        },
        "id": "_bfRVsbq6dd6",
        "outputId": "2806112e-48a4-455f-e1f8-25cd539fb9f3"
      },
      "execution_count": 7,
      "outputs": [
        {
          "name": "stdout",
          "output_type": "stream",
          "text": [
            "How old are you? 17\n"
          ]
        },
        {
          "output_type": "execute_result",
          "data": {
            "text/plain": [
              "False"
            ]
          },
          "metadata": {},
          "execution_count": 7
        }
      ]
    },
    {
      "cell_type": "code",
      "source": [
        "height = input(\"How tall are you, in inches? \")\n",
        "height = int(height)\n",
        "\n",
        "if height >= 48:\n",
        "    print(\"\\nYou're tall enough to ride!\")\n",
        "else:\n",
        "    print(\"\\nYou'll be able to ride when you're a little older.\")"
      ],
      "metadata": {
        "colab": {
          "base_uri": "https://localhost:8080/"
        },
        "id": "5vEf2Ney6qC-",
        "outputId": "2a0492c3-2190-4c44-9a5d-3f54ab6958a6"
      },
      "execution_count": 9,
      "outputs": [
        {
          "output_type": "stream",
          "name": "stdout",
          "text": [
            "How tall are you, in inches? 60\n",
            "\n",
            "You're tall enough to ride!\n"
          ]
        }
      ]
    },
    {
      "cell_type": "code",
      "source": [
        "number = input(\"Enter a number, and I'll tell you if it's even or odd: \")\n",
        "number = int(number)\n",
        "\n",
        "if number % 2 == 0:\n",
        "    print(f\"\\nThe number {number} is even.\")\n",
        "else:\n",
        "    print(f\"\\nThe number {number} is odd.\")"
      ],
      "metadata": {
        "colab": {
          "base_uri": "https://localhost:8080/"
        },
        "id": "1djUgB-a7gco",
        "outputId": "d74a227f-9fde-472a-e19f-363f94940894"
      },
      "execution_count": 11,
      "outputs": [
        {
          "output_type": "stream",
          "name": "stdout",
          "text": [
            "Enter a number, and I'll tell you if it's even or odd: 20\n",
            "\n",
            "The number 20 is even.\n"
          ]
        }
      ]
    },
    {
      "cell_type": "code",
      "source": [
        "#Try It Yourself 7-1\n",
        "prompt = \"Hello, welcome to Rent-A-Lemon!\"\n",
        "prompt += \"\\nWhat car are you looking for today? \"\n",
        "car = input(prompt)\n",
        "print(f\"Okay! We'll see if we have a {car} in stock!\")"
      ],
      "metadata": {
        "colab": {
          "base_uri": "https://localhost:8080/"
        },
        "id": "S4dGU8kx7-fX",
        "outputId": "c1907713-c866-4a10-fa42-cd7ca2a66ce1"
      },
      "execution_count": 14,
      "outputs": [
        {
          "output_type": "stream",
          "name": "stdout",
          "text": [
            "Hello, welcome to Rent-A-Lemon!\n",
            "What car are you looking for today? ford\n",
            "Okay! We'll see if we have a ford in stock!\n"
          ]
        }
      ]
    },
    {
      "cell_type": "code",
      "source": [
        "#Try It Yourself 7-3\n",
        "rules = \"Want to see a magic trick?\"\n",
        "rules += \"\\nGive me a number and I'll tell you if its a multiple of 10! \"\n",
        "multiple = input(rules)\n",
        "multiple = int(multiple)\n",
        "\n",
        "if multiple % 10 == 0:\n",
        "    print(f\"{multiple} is a multiple of 10!\")\n",
        "else:\n",
        "    print(f\"{multiple} is not a multiple of 10!\")"
      ],
      "metadata": {
        "colab": {
          "base_uri": "https://localhost:8080/"
        },
        "id": "yQ3PTBTk9BIb",
        "outputId": "c2a56e6f-39b4-4627-c2cc-7fdf505d45e8"
      },
      "execution_count": 21,
      "outputs": [
        {
          "output_type": "stream",
          "name": "stdout",
          "text": [
            "Want to see a magic trick?\n",
            "Give me a number and I'll tell you if its a multiple of 10! 300\n",
            "300 is a multiple of 10!\n"
          ]
        }
      ]
    },
    {
      "cell_type": "code",
      "source": [
        "#In Text Exercises\n",
        "current_number = 1\n",
        "while current_number <= 5:\n",
        "    print(current_number)\n",
        "    current_number += 1"
      ],
      "metadata": {
        "colab": {
          "base_uri": "https://localhost:8080/"
        },
        "id": "aAypuHDk-bxz",
        "outputId": "a298af4e-e0af-44c1-911e-d072a494c0a5"
      },
      "execution_count": 23,
      "outputs": [
        {
          "output_type": "stream",
          "name": "stdout",
          "text": [
            "1\n",
            "2\n",
            "3\n",
            "4\n",
            "5\n"
          ]
        }
      ]
    },
    {
      "cell_type": "code",
      "source": [
        "prompt = \"\\nTell me something, and I'll repeat it back to you:\"\n",
        "prompt += \"\\nEnter 'quit' to end the program. \"\n",
        "\n",
        "active = True\n",
        "while active:\n",
        "    message = input(prompt)\n",
        "\n",
        "    if message == 'quit':\n",
        "        active = False\n",
        "    else:\n",
        "        print(message)"
      ],
      "metadata": {
        "colab": {
          "base_uri": "https://localhost:8080/"
        },
        "id": "Clf7QnR6-1Ml",
        "outputId": "5bbb3624-2e41-422c-b0d2-567208f87e4f"
      },
      "execution_count": 26,
      "outputs": [
        {
          "name": "stdout",
          "output_type": "stream",
          "text": [
            "\n",
            "Tell me something, and I'll repeat it back to you:\n",
            "Enter 'quit' to end the program. Hi\n",
            "Hi\n",
            "\n",
            "Tell me something, and I'll repeat it back to you:\n",
            "Enter 'quit' to end the program. no\n",
            "no\n",
            "\n",
            "Tell me something, and I'll repeat it back to you:\n",
            "Enter 'quit' to end the program. quit\n"
          ]
        }
      ]
    },
    {
      "cell_type": "code",
      "source": [
        "prompt = \"\\nPlease enter the name of a city you have visited:\"\n",
        "prompt += \"\\n(Enter 'quit' when you are finished.) \"\n",
        "\n",
        "while True:\n",
        "    city = input(prompt)\n",
        "\n",
        "    if city == 'quit':\n",
        "        break\n",
        "    else:\n",
        "        print(f\"I'd love to go to {city.title()}!\")"
      ],
      "metadata": {
        "colab": {
          "base_uri": "https://localhost:8080/"
        },
        "id": "kMBullgQ_SUI",
        "outputId": "de2eac6a-2a73-4f49-8594-8c3dc8e9508a"
      },
      "execution_count": 28,
      "outputs": [
        {
          "name": "stdout",
          "output_type": "stream",
          "text": [
            "\n",
            "Please enter the name of a city you have visited:\n",
            "(Enter 'quit' when you are finished.) denver\n",
            "I'd love to go to Denver!\n",
            "\n",
            "Please enter the name of a city you have visited:\n",
            "(Enter 'quit' when you are finished.) quit\n"
          ]
        }
      ]
    },
    {
      "cell_type": "code",
      "source": [
        "current_number = 0\n",
        "while current_number < 10:\n",
        "    current_number += 1\n",
        "    if current_number % 2 == 0:\n",
        "        continue\n",
        "    print(current_number)"
      ],
      "metadata": {
        "colab": {
          "base_uri": "https://localhost:8080/"
        },
        "id": "_DjCntapFEEX",
        "outputId": "441dd6ff-98ca-43bb-9f13-9b0f73d52c11"
      },
      "execution_count": 29,
      "outputs": [
        {
          "output_type": "stream",
          "name": "stdout",
          "text": [
            "1\n",
            "3\n",
            "5\n",
            "7\n",
            "9\n"
          ]
        }
      ]
    },
    {
      "cell_type": "code",
      "source": [
        "#Try It Yourself 7-5\n",
        "prompt = \"Welcome to Cheap Movies, where your age determines ticket cost!\"\n",
        "prompt += \"\\nHow old are you? \"\n",
        "\n",
        "age = input(prompt)\n",
        "age = int(age)\n",
        "if age < 3:\n",
        "    print(\"Your ticket is free!\")\n",
        "elif age < 12:\n",
        "    print(\"Your ticket is $10!\")\n",
        "else:\n",
        "    print(\"Your ticket is $12!\")"
      ],
      "metadata": {
        "colab": {
          "base_uri": "https://localhost:8080/"
        },
        "id": "_ZmILecVFfDU",
        "outputId": "36f45b71-9d99-4b7d-cc9b-82a230c1cc10"
      },
      "execution_count": 34,
      "outputs": [
        {
          "output_type": "stream",
          "name": "stdout",
          "text": [
            "Welcome to Cheap Movies, where your age determines ticket cost!\n",
            "How old are you? 13\n",
            "Your ticket is $12!\n"
          ]
        }
      ]
    },
    {
      "cell_type": "code",
      "source": [
        "#Try It Yourself 7-6\n",
        "\n",
        "#Version 1 Conditional Test\n",
        "\n",
        "prompt = \"\\nWhat toppings would you like on your pizza?\"\n",
        "prompt += \"\\nIf you're done adding toppings, say 'done'! \"\n",
        "\n",
        "cook = True\n",
        "while cook:\n",
        "    topping = input(prompt)\n",
        "\n",
        "    if topping == 'done':\n",
        "        cook = False\n",
        "    else:\n",
        "        print(f\"Adding {topping} to your pizza!\")"
      ],
      "metadata": {
        "colab": {
          "base_uri": "https://localhost:8080/"
        },
        "id": "yMkUoV-CHgF0",
        "outputId": "bbd17261-93b0-4e30-cdee-eda585922c9b"
      },
      "execution_count": 37,
      "outputs": [
        {
          "name": "stdout",
          "output_type": "stream",
          "text": [
            "\n",
            "What toppings would you like on your pizza?\n",
            "If you're done adding toppings, say 'done'! pepperoni\n",
            "Adding pepperoni to your pizza!\n",
            "\n",
            "What toppings would you like on your pizza?\n",
            "If you're done adding toppings, say 'done'! cheese\n",
            "Adding cheese to your pizza!\n",
            "\n",
            "What toppings would you like on your pizza?\n",
            "If you're done adding toppings, say 'done'! done\n"
          ]
        }
      ]
    },
    {
      "cell_type": "code",
      "source": [
        "#Version 2 Active variable\n",
        "\n",
        "prompt = \"Welcome to Cheap Movies, where your age determines ticket cost!\"\n",
        "prompt += \"\\nHow many tonight? \"\n",
        "\n",
        "tickets = input(prompt)\n",
        "tickets = int(tickets)\n",
        "\n",
        "counter = 0\n",
        "prompt_age = \"\\nGreat! How old are you? \"\n",
        "\n",
        "while counter < tickets:\n",
        "    counter += 1\n",
        "    age = input(prompt_age)\n",
        "    age = int(age)\n",
        "    if age < 3:\n",
        "        print(\"Your ticket is free!\")\n",
        "    elif age < 12:\n",
        "        print(\"Your ticket is $10!\")\n",
        "    else:\n",
        "        print(\"Your ticket is $12!\")"
      ],
      "metadata": {
        "colab": {
          "base_uri": "https://localhost:8080/"
        },
        "id": "DCvXNhZpN3PE",
        "outputId": "35a7ec1b-11be-4a47-de74-5187c4546710"
      },
      "execution_count": 40,
      "outputs": [
        {
          "output_type": "stream",
          "name": "stdout",
          "text": [
            "Welcome to Cheap Movies, where your age determines ticket cost!\n",
            "How many tonight?3\n",
            "\n",
            "Great! How old are you? 20\n",
            "Your ticket is $12!\n",
            "\n",
            "Great! How old are you? 2\n",
            "Your ticket is free!\n",
            "\n",
            "Great! How old are you? 5\n",
            "Your ticket is $10!\n"
          ]
        }
      ]
    },
    {
      "cell_type": "code",
      "source": [
        "#Version 3 Break statement\n",
        "\n",
        "prompt = \"\\nWhat toppings would you like on your pizza?\"\n",
        "prompt += \"\\nIf you're done adding toppings, say 'done'! \"\n",
        "\n",
        "while True:\n",
        "    topping = input(prompt)\n",
        "\n",
        "    if topping == 'done':\n",
        "        break\n",
        "    else:\n",
        "        print(f\"Adding {topping} to your pizza!\")"
      ],
      "metadata": {
        "colab": {
          "base_uri": "https://localhost:8080/"
        },
        "id": "qLGMQ_MdRrg1",
        "outputId": "9576375d-cf87-4606-8064-fb2d6f2f7a4b"
      },
      "execution_count": 41,
      "outputs": [
        {
          "name": "stdout",
          "output_type": "stream",
          "text": [
            "\n",
            "What toppings would you like on your pizza?\n",
            "If you're done adding toppings, say 'done'! pepperoni\n",
            "Adding pepperoni to your pizza!\n",
            "\n",
            "What toppings would you like on your pizza?\n",
            "If you're done adding toppings, say 'done'! cheese\n",
            "Adding cheese to your pizza!\n",
            "\n",
            "What toppings would you like on your pizza?\n",
            "If you're done adding toppings, say 'done'! done\n"
          ]
        }
      ]
    },
    {
      "cell_type": "code",
      "source": [
        "#In Text Exercises\n",
        "unconfirmed_users = ['alice', 'brian', 'candace']\n",
        "confirmed_users = []\n",
        "\n",
        "while unconfirmed_users:\n",
        "    current_user = unconfirmed_users.pop()\n",
        "    print(f\"Verifying user: {current_user.title()}\")\n",
        "    confirmed_users.append(current_user)\n",
        "\n",
        "print(f\"\\nThe following users have been confirmed:\")\n",
        "for confirmed_user in confirmed_users:\n",
        "    print(confirmed_user.title())\n",
        ""
      ],
      "metadata": {
        "colab": {
          "base_uri": "https://localhost:8080/"
        },
        "id": "xUiqur4tSWA_",
        "outputId": "d7c71846-9498-4d0b-a0cb-0c6a50ccf2ca"
      },
      "execution_count": 43,
      "outputs": [
        {
          "output_type": "stream",
          "name": "stdout",
          "text": [
            "Verifying user: Candace\n",
            "Verifying user: Brian\n",
            "Verifying user: Alice\n",
            "\n",
            "The following users have been confirmed:\n",
            "Candace\n",
            "Brian\n",
            "Alice\n"
          ]
        }
      ]
    },
    {
      "cell_type": "code",
      "source": [
        "pets = ['dog', 'cat', 'dog', 'goldfish', 'cat', 'rabbit', 'cat']\n",
        "print(pets)\n",
        "\n",
        "while 'cat' in pets:\n",
        "    pets.remove('cat')\n",
        "\n",
        "print(pets)"
      ],
      "metadata": {
        "colab": {
          "base_uri": "https://localhost:8080/"
        },
        "id": "yakHs5voVsvp",
        "outputId": "a5dc8e6b-3e27-4407-8be2-4db278e1a37a"
      },
      "execution_count": 45,
      "outputs": [
        {
          "output_type": "stream",
          "name": "stdout",
          "text": [
            "['dog', 'cat', 'dog', 'goldfish', 'cat', 'rabbit', 'cat']\n",
            "['dog', 'dog', 'goldfish', 'rabbit']\n"
          ]
        }
      ]
    },
    {
      "cell_type": "code",
      "source": [
        "responses = {}\n",
        "\n",
        "polling_active = True\n",
        "while polling_active:\n",
        "    name = input(\"\\nWhat is your name? \")\n",
        "    response = input(\"Which mountain would you like to climb someday? \")\n",
        "\n",
        "    responses[name] = response\n",
        "    repeat = input(\"Would you like to let another person respond? (yes/ no) \")\n",
        "    if repeat == 'no':\n",
        "        polling_active = False\n",
        "\n",
        "print(\"\\n--- Poll Results ---\")\n",
        "for name, response in responses.items():\n",
        "    print(f\"{name} would like to climb {response}.\")"
      ],
      "metadata": {
        "colab": {
          "base_uri": "https://localhost:8080/"
        },
        "id": "9oSeDqbFWeOA",
        "outputId": "f2bf83a2-86ec-47dc-9371-0a407c881a60"
      },
      "execution_count": 49,
      "outputs": [
        {
          "output_type": "stream",
          "name": "stdout",
          "text": [
            "\n",
            "What is your name? liz\n",
            "Which mountain would you like to climb someday?denali\n",
            "Would you like to let another person respond? (yes/ no) yes\n",
            "\n",
            "What is your name? niahm\n",
            "Which mountain would you like to climb someday?whiteface\n",
            "Would you like to let another person respond? (yes/ no) no\n",
            "\n",
            "--- Poll Results ---\n",
            "liz would like to climb denali.\n",
            "niahm would like to climb whiteface.\n"
          ]
        }
      ]
    },
    {
      "cell_type": "code",
      "source": [
        "#Try It Yourself 7-8\n",
        "sandwich_orders = ['pastrami', 'grilled cheese', 'ham and swiss',\n",
        "                   'chicken panini', 'reuben', 'caprese']\n",
        "finished_sandwiches = []\n",
        "\n",
        "while sandwich_orders:\n",
        "    finished = sandwich_orders.pop()\n",
        "    print(f\"I made your {finished} sandwich.\")\n",
        "    finished_sandwiches.append(finished)\n",
        "\n",
        "print(\"\\nThe following sandwiches were made:\")\n",
        "for sandwich in finished_sandwiches:\n",
        "    print(sandwich.title())"
      ],
      "metadata": {
        "colab": {
          "base_uri": "https://localhost:8080/"
        },
        "id": "vZ3AmsVSYcx9",
        "outputId": "620338cc-0a8c-4708-bcea-87373de0375c"
      },
      "execution_count": 51,
      "outputs": [
        {
          "output_type": "stream",
          "name": "stdout",
          "text": [
            "I made your caprese sandwich.\n",
            "I made your reuben sandwich.\n",
            "I made your chicken panini sandwich.\n",
            "I made your ham and swiss sandwich.\n",
            "I made your grilled cheese sandwich.\n",
            "I made your pastrami sandwich.\n",
            "\n",
            "The following sandwiches were made:\n",
            "Caprese\n",
            "Reuben\n",
            "Chicken Panini\n",
            "Ham And Swiss\n",
            "Grilled Cheese\n",
            "Pastrami\n"
          ]
        }
      ]
    },
    {
      "cell_type": "code",
      "source": [
        "#Calculator using while and inputs\n",
        "\n",
        "print(\"This is a calculator.\")\n",
        "\n",
        "total = 0\n",
        "print (total)\n",
        "while True:\n",
        "    prompt = \"\\nPlease enter a number: \"\n",
        "    calculate = input(prompt)\n",
        "    calculate = int(calculate)\n",
        "    print(f\"\\nNow you and add (+), subract (-), multiply (*) or divide (/)\")\n",
        "    operator = input(\"What is the operator you want to use?\"\n",
        "                     \"(type '=' to quit)\")\n",
        "    if operator == '=':\n",
        "        print(\"So long, and thanks for the all the fish!\")\n",
        "        break\n",
        "    calculate = int(calculate)\n",
        "    if operator == '+':\n",
        "        total = total + calculate\n",
        "        print(total)\n",
        "    elif operator == '-':\n",
        "        total = total - calculate\n",
        "        print(total)\n",
        "    elif operator == '*':\n",
        "        total = total * calculate\n",
        "        print(total)\n",
        "    elif operator == '/':\n",
        "        total = total / calculate\n",
        "        print(total)"
      ],
      "metadata": {
        "colab": {
          "base_uri": "https://localhost:8080/"
        },
        "id": "7b5eqgYNeFj-",
        "outputId": "01e2d541-71c2-471d-8c89-082c7f6159e3"
      },
      "execution_count": 60,
      "outputs": [
        {
          "output_type": "stream",
          "name": "stdout",
          "text": [
            "This is a calculator.\n",
            "0\n",
            "\n",
            "Please enter a number: 1\n",
            "\n",
            "Now you and add (+), subract (-), multiply (*) or divide (/)\n",
            "What is the operator you want to use?(type '=' to quit)+\n",
            "1\n",
            "\n",
            "Please enter a number: 5\n",
            "\n",
            "Now you and add (+), subract (-), multiply (*) or divide (/)\n",
            "What is the operator you want to use?(type '=' to quit)*\n",
            "5\n",
            "\n",
            "Please enter a number: 4\n",
            "\n",
            "Now you and add (+), subract (-), multiply (*) or divide (/)\n",
            "What is the operator you want to use?(type '=' to quit)=\n",
            "So long, and thanks for the all the fish!\n"
          ]
        }
      ]
    }
  ]
}