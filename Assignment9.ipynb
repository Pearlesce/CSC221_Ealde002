{
  "nbformat": 4,
  "nbformat_minor": 0,
  "metadata": {
    "colab": {
      "provenance": [],
      "authorship_tag": "ABX9TyN6lBH0cyelR3QOXU96rVHW",
      "include_colab_link": true
    },
    "kernelspec": {
      "name": "python3",
      "display_name": "Python 3"
    },
    "language_info": {
      "name": "python"
    }
  },
  "cells": [
    {
      "cell_type": "markdown",
      "metadata": {
        "id": "view-in-github",
        "colab_type": "text"
      },
      "source": [
        "<a href=\"https://colab.research.google.com/github/Pearlesce/CSC221_Ealde002/blob/main/Assignment9.ipynb\" target=\"_parent\"><img src=\"https://colab.research.google.com/assets/colab-badge.svg\" alt=\"Open In Colab\"/></a>"
      ]
    },
    {
      "cell_type": "markdown",
      "source": [
        "Liz Alden Assignment 9: Functions Part 1\n",
        "\n",
        "Do TIY 8-2, 8-3, 8-4, 8-14\n",
        "\n",
        "Write a function that takes two numbers and returns their sum and a list containing both numbers in sorted order. The second number defaults to pi if it is not provided.\n",
        "\n",
        "Write enough test cases for your function to convince yourself that it is working.\n",
        "\n",
        "Modify your function above to print out the parameters and results of the function, but only if an optional parameter called 'verbose' is True."
      ],
      "metadata": {
        "id": "XuX1njPEIOhy"
      }
    },
    {
      "cell_type": "code",
      "source": [
        "#In Text Examples\n",
        "''' I am still doing these along the way as they really do help me\n",
        "with understanding the concepts'''\n",
        "\n",
        "def greet_user(username):\n",
        "    \"\"\"Display a simple greeting.\"\"\"\n",
        "    print(f\"Hello, {username.title()}!\")\n",
        "\n",
        "greet_user('jesse')"
      ],
      "metadata": {
        "colab": {
          "base_uri": "https://localhost:8080/"
        },
        "id": "yqJr_9IbIU8l",
        "outputId": "ee47cd6d-0929-4efb-be50-1c924962e6fe"
      },
      "execution_count": 2,
      "outputs": [
        {
          "output_type": "stream",
          "name": "stdout",
          "text": [
            "Hello, Jesse!\n"
          ]
        }
      ]
    },
    {
      "cell_type": "code",
      "source": [
        "#Try It Yourself 8-2\n",
        "\n",
        "def favorite_book(title):\n",
        "    print(f\"One of my favorite book series is {title.title()}!\")\n",
        "\n",
        "favorite_book('harry potter')"
      ],
      "metadata": {
        "colab": {
          "base_uri": "https://localhost:8080/"
        },
        "id": "-bUUNUmYJoox",
        "outputId": "959f7fe2-abfd-40ef-94be-f5a4636d81a7"
      },
      "execution_count": 5,
      "outputs": [
        {
          "output_type": "stream",
          "name": "stdout",
          "text": [
            "One of my favorite book series is Harry Potter!\n"
          ]
        }
      ]
    },
    {
      "cell_type": "code",
      "source": [
        "#In Text Examples\n",
        "\n",
        "def describe_pet(animal_type, pet_name):\n",
        "    \"\"\"Display information about a pet.\"\"\"\n",
        "    print(f\"\\nI have a {animal_type}.\")\n",
        "    print(f\"My animal {animal_type}'s name is {pet_name.title()}.\")\n",
        "\n",
        "describe_pet('hamster', 'harry')\n",
        "describe_pet('dog', 'willie')\n",
        "\n",
        "print('\\nOrder matters! Showing example of bad ordering:')\n",
        "describe_pet('harry', 'hamster')\n",
        "\n",
        "#Keyword Arguments\n",
        "\n",
        "describe_pet(animal_type = 'hamster', pet_name = 'harry')\n",
        "\n",
        "#Default Values\n",
        "\n",
        "def describe_pet(pet_name, animal_type = 'dog'):\n",
        "    \"\"\"Display information about a pet.\"\"\"\n",
        "    print(f\"\\nI have a {animal_type}.\")\n",
        "    print(f\"My animal {animal_type}'s name is {pet_name.title()}.\")\n",
        "\n",
        "describe_pet(pet_name = 'willie')"
      ],
      "metadata": {
        "colab": {
          "base_uri": "https://localhost:8080/"
        },
        "id": "gn7F_tBmKg9y",
        "outputId": "5bdc753c-9350-483e-afda-3ec0d61913a2"
      },
      "execution_count": 13,
      "outputs": [
        {
          "output_type": "stream",
          "name": "stdout",
          "text": [
            "\n",
            "I have a hamster.\n",
            "My animal hamster's name is Harry.\n",
            "\n",
            "I have a dog.\n",
            "My animal dog's name is Willie.\n",
            "\n",
            "Order matters! Showing example of bad ordering:\n",
            "\n",
            "I have a harry.\n",
            "My animal harry's name is Hamster.\n",
            "\n",
            "I have a hamster.\n",
            "My animal hamster's name is Harry.\n",
            "\n",
            "I have a dog.\n",
            "My animal dog's name is Willie.\n"
          ]
        }
      ]
    },
    {
      "cell_type": "code",
      "source": [
        "#Try It Yourself 8-3\n",
        "\n",
        "def make_shirt(shirt_size, message):\n",
        "    print(f\"\\nYou ordered a size {shirt_size.title()}, with the message '{message.title()}'.\")\n",
        "\n",
        "make_shirt('small', 'i love dragons')\n",
        "make_shirt(shirt_size = 'large', message = 'cats are awesome')"
      ],
      "metadata": {
        "colab": {
          "base_uri": "https://localhost:8080/"
        },
        "id": "sddwWe5NLLYE",
        "outputId": "49a7c5e6-a206-408d-e630-74f8ceb786f7"
      },
      "execution_count": 15,
      "outputs": [
        {
          "output_type": "stream",
          "name": "stdout",
          "text": [
            "\n",
            "You ordered a size Small, with the message 'I Love Dragons'.\n",
            "\n",
            "You ordered a size Large, with the message 'Cats Are Awesome'.\n"
          ]
        }
      ]
    },
    {
      "cell_type": "code",
      "source": [
        "#Try It Yourself 8-4\n",
        "\n",
        "def make_shirt(shirt_size = 'large', message = 'i love python'):\n",
        "    print(f\"\\nYou ordered a size {shirt_size.title()}, with the message '{message.title()}'.\")\n",
        "\n",
        "make_shirt()\n",
        "make_shirt(shirt_size = 'medium')\n",
        "make_shirt(shirt_size = 'small', message = 'cookies')"
      ],
      "metadata": {
        "colab": {
          "base_uri": "https://localhost:8080/"
        },
        "id": "ZyMxaS6ZObk_",
        "outputId": "5450d10a-c98d-4dc1-e125-98316a7f0e52"
      },
      "execution_count": 17,
      "outputs": [
        {
          "output_type": "stream",
          "name": "stdout",
          "text": [
            "\n",
            "You ordered a size Large, with the message 'I Love Python'.\n",
            "\n",
            "You ordered a size Medium, with the message 'I Love Python'.\n",
            "\n",
            "You ordered a size Small, with the message 'Cookies'.\n"
          ]
        }
      ]
    },
    {
      "cell_type": "code",
      "source": [
        "#In Text Exercises\n",
        "\n",
        "def get_formatted_name(first_name, last_name, middle_name = ''):\n",
        "    \"\"\"Return a full name, neatly formatted.\"\"\"\n",
        "    if middle_name:\n",
        "        full_name = f\"{first_name} {middle_name} {last_name}\"\n",
        "    else:\n",
        "        full_name = f\"{first_name} {last_name}\"\n",
        "    return full_name.title()\n",
        "\n",
        "musician = get_formatted_name('jimi', 'hendrix')\n",
        "print(musician)\n",
        "\n",
        "musician = get_formatted_name('john', 'hooker', 'lee')\n",
        "print(musician)"
      ],
      "metadata": {
        "colab": {
          "base_uri": "https://localhost:8080/"
        },
        "id": "VxHXj2YxPtwd",
        "outputId": "04f450c7-1935-4af5-b521-e9c9aab714dd"
      },
      "execution_count": 19,
      "outputs": [
        {
          "output_type": "stream",
          "name": "stdout",
          "text": [
            "Jimi Hendrix\n",
            "John Lee Hooker\n"
          ]
        }
      ]
    },
    {
      "cell_type": "code",
      "source": [
        "def build_person(first_name, last_name, age = None):\n",
        "    '''Return a dictionary of information about a person'''\n",
        "    person = {'first': first_name, 'last': last_name}\n",
        "    if age:\n",
        "        person ['age'] = age\n",
        "    return person\n",
        "\n",
        "musician = build_person('jimi', 'hendrix', age = 27)\n",
        "print(musician)"
      ],
      "metadata": {
        "colab": {
          "base_uri": "https://localhost:8080/"
        },
        "id": "Ke7Kgo2tbwca",
        "outputId": "d9a05f73-0a49-41c7-aa4f-e2fdd46ac31c"
      },
      "execution_count": 21,
      "outputs": [
        {
          "output_type": "stream",
          "name": "stdout",
          "text": [
            "{'first': 'jimi', 'last': 'hendrix', 'age': 27}\n"
          ]
        }
      ]
    },
    {
      "cell_type": "code",
      "source": [
        "while True:\n",
        "    print(\"\\nPlease tell me your name:\")\n",
        "    print(\"(enter 'q' at any time to quit)\")\n",
        "\n",
        "    f_name = input(\"First name: \")\n",
        "    if f_name == 'q':\n",
        "        break\n",
        "\n",
        "    l_name = input(\"Last name: \")\n",
        "    if l_name == 'q':\n",
        "        break\n",
        "\n",
        "    formatted_name = get_formatted_name(f_name, l_name)\n",
        "    print(f\"Hello, {formatted_name}!\")"
      ],
      "metadata": {
        "colab": {
          "base_uri": "https://localhost:8080/"
        },
        "id": "4bHblG5sczED",
        "outputId": "697f668e-9fc4-46f4-bb4a-068f6a8454de"
      },
      "execution_count": 23,
      "outputs": [
        {
          "name": "stdout",
          "output_type": "stream",
          "text": [
            "\n",
            "Please tell me your name:\n",
            "(enter 'q' at any time to quit)\n",
            "First name: liz\n",
            "Last name: alden\n",
            "Hello, Liz Alden!\n",
            "\n",
            "Please tell me your name:\n",
            "(enter 'q' at any time to quit)\n",
            "First name: q\n"
          ]
        }
      ]
    },
    {
      "cell_type": "code",
      "source": [
        "def greet_users(names):\n",
        "    '''Print a simple greeting to each user in the list.'''\n",
        "    for name in names:\n",
        "        msg = f\"Hello, {name.title()}!\"\n",
        "        print(msg)\n",
        "\n",
        "usernames = ['hannah', 'ty', 'margot']\n",
        "greet_users(usernames)"
      ],
      "metadata": {
        "colab": {
          "base_uri": "https://localhost:8080/"
        },
        "id": "oU8M5STsd2f2",
        "outputId": "84f7ba38-5bb4-408d-e482-201a53a52de4"
      },
      "execution_count": 24,
      "outputs": [
        {
          "output_type": "stream",
          "name": "stdout",
          "text": [
            "Hello, Hannah!\n",
            "Hello, Ty!\n",
            "Hello, Margot!\n"
          ]
        }
      ]
    },
    {
      "cell_type": "code",
      "source": [
        "'''\n",
        "Simulate printing each design, until none are left\n",
        "Move each design to completed_models after printing\n",
        "'''\n",
        "def print_models(unprinted_designs, completed_models):\n",
        "    while unprinted_designs:\n",
        "        current_design = unprinted_designs.pop()\n",
        "        print(f\"Printing model: {current_design}\")\n",
        "        completed_models.append(current_design)\n",
        "\n",
        "def show_completed_models(completed_models):\n",
        "    '''Show all the models that were printed'''\n",
        "    print(\"\\nThe following models have been printed:\")\n",
        "    for completed_model in completed_models:\n",
        "        print(completed_model)\n",
        "\n",
        "unprinted_designs = ['phone case', 'robot pendant', 'dodecahedron']\n",
        "completed_models = []\n",
        "\n",
        "print_models(unprinted_designs, completed_models)\n",
        "'''\n",
        "Sometimes you don't want functions to modify your lists. Use:\n",
        "    function_name(list_name[:])\n",
        "to send a copy of the list to the function, but only on smaller lists\n",
        "as this can be less efficient\n",
        "'''\n",
        "show_completed_models(completed_models)"
      ],
      "metadata": {
        "colab": {
          "base_uri": "https://localhost:8080/"
        },
        "id": "77-XGCfOeXo0",
        "outputId": "4d05394f-4a0e-4ee3-b416-ee02eed41683"
      },
      "execution_count": 27,
      "outputs": [
        {
          "output_type": "stream",
          "name": "stdout",
          "text": [
            "Printing model: dodecahedron\n",
            "Printing model: robot pendant\n",
            "Printing model: phone case\n",
            "\n",
            "The following models have been printed:\n",
            "dodecahedron\n",
            "robot pendant\n",
            "phone case\n"
          ]
        }
      ]
    },
    {
      "cell_type": "code",
      "source": [
        "def make_pizza(size, *toppings):\n",
        "\n",
        "    print(f\"\\nMaking a {size}-inch pizza with the following toppings:\")\n",
        "    for topping in toppings:\n",
        "        print(f\"- {topping}\")\n",
        "\n",
        "make_pizza(16, 'pepperoni')\n",
        "make_pizza(12, 'mushrooms', 'green peppers', 'extra cheese')"
      ],
      "metadata": {
        "colab": {
          "base_uri": "https://localhost:8080/"
        },
        "id": "e3U73dPMmVjv",
        "outputId": "473ed054-c976-4f31-c298-e57ffcd0c06b"
      },
      "execution_count": 30,
      "outputs": [
        {
          "output_type": "stream",
          "name": "stdout",
          "text": [
            "\n",
            "Making a 16-inch pizza with the following toppings:\n",
            "- pepperoni\n",
            "\n",
            "Making a 12-inch pizza with the following toppings:\n",
            "- mushrooms\n",
            "- green peppers\n",
            "- extra cheese\n"
          ]
        }
      ]
    },
    {
      "cell_type": "code",
      "source": [
        "def build_profile(first, last, **user_info):\n",
        "    '''Build a dictionary containing everything we know about a user'''\n",
        "    user_info['first_name'] = first\n",
        "    user_info['last_name'] = last\n",
        "    return user_info\n",
        "\n",
        "user_profile = build_profile('albert', 'einstein',\n",
        "                             location = 'princeton',\n",
        "                             field ='physics')\n",
        "print(user_profile)"
      ],
      "metadata": {
        "colab": {
          "base_uri": "https://localhost:8080/"
        },
        "id": "LZct9UfNneq_",
        "outputId": "261f638c-c2b8-44e0-9054-f55514569020"
      },
      "execution_count": 31,
      "outputs": [
        {
          "output_type": "stream",
          "name": "stdout",
          "text": [
            "{'location': 'princeton', 'field': 'physics', 'first_name': 'albert', 'last_name': 'einstein'}\n"
          ]
        }
      ]
    },
    {
      "cell_type": "code",
      "source": [
        "#Try It Yourself 8-14\n",
        "def make_car(make, model, **car_info):\n",
        "    car_info['Make'] = make\n",
        "    car_info['Model'] = model\n",
        "    return car_info\n",
        "\n",
        "car = make_car('subaru', 'outback', color = 'blue', tow_package = True)\n",
        "print(car)\n"
      ],
      "metadata": {
        "colab": {
          "base_uri": "https://localhost:8080/"
        },
        "id": "aTSOpnI_oYjy",
        "outputId": "fdfa2a19-e4f5-4bbe-810d-b2c3ca5eb4ec"
      },
      "execution_count": 32,
      "outputs": [
        {
          "output_type": "stream",
          "name": "stdout",
          "text": [
            "{'color': 'blue', 'tow_package': True, 'Make': 'subaru', 'Model': 'outback'}\n"
          ]
        }
      ]
    },
    {
      "cell_type": "code",
      "source": [
        "'''\n",
        "Write a function that takes two numbers and returns their sum and a list\n",
        "containing both numbers in sorted order. The second number defaults to pi if it\n",
        "is not provided.\n",
        "\n",
        "Write enough test cases for your function to convince yourself that it is\n",
        "working.\n",
        "\n",
        "Modify your function above to print out the parameters and results of the\n",
        "function, but only if an optional parameter called 'verbose' is True.\n",
        "'''\n",
        "import math\n",
        "def fun_with_numbers(num_a, num_b = math.pi):\n",
        "    num_list = [num_a, num_b]\n",
        "    num_sort = sorted(num_list)\n",
        "    print(num_sort)\n",
        "    print(sum(num_list))\n",
        "\n",
        "try_me = fun_with_numbers(2, 5)\n",
        "try_me = fun_with_numbers(67, 5)\n",
        "try_me = fun_with_numbers(15)\n",
        "try_me = fun_with_numbers(1)"
      ],
      "metadata": {
        "colab": {
          "base_uri": "https://localhost:8080/"
        },
        "id": "SrdIG2wbqHd9",
        "outputId": "4e9ff88b-4745-4842-b5b6-f8692c88c5d6"
      },
      "execution_count": 50,
      "outputs": [
        {
          "output_type": "stream",
          "name": "stdout",
          "text": [
            "[2, 5]\n",
            "7\n",
            "[5, 67]\n",
            "72\n",
            "[3.141592653589793, 15]\n",
            "18.141592653589793\n",
            "[1, 3.141592653589793]\n",
            "4.141592653589793\n"
          ]
        }
      ]
    },
    {
      "cell_type": "code",
      "source": [
        "import math\n",
        "def fun_with_numbers(num_a, num_b = math.pi, verbose = False):\n",
        "    if verbose == True:\n",
        "        num_list = [num_a, num_b]\n",
        "        num_sort = sorted(num_list)\n",
        "        print(num_sort)\n",
        "        print(sum(num_list))\n",
        "    else:\n",
        "        print()\n",
        "\n",
        "try_me = fun_with_numbers(2, 5)\n",
        "try_me = fun_with_numbers(67, 5, True)\n",
        "try_me = fun_with_numbers(15)\n",
        "try_me = fun_with_numbers(num_a = 1, verbose = True)"
      ],
      "metadata": {
        "colab": {
          "base_uri": "https://localhost:8080/"
        },
        "id": "RaPrH_Eo1FzI",
        "outputId": "9cc49df5-d8d4-476b-957e-5ab90077c9dc"
      },
      "execution_count": 52,
      "outputs": [
        {
          "output_type": "stream",
          "name": "stdout",
          "text": [
            "\n",
            "[5, 67]\n",
            "72\n",
            "\n",
            "[1, 3.141592653589793]\n",
            "4.141592653589793\n"
          ]
        }
      ]
    }
  ]
}