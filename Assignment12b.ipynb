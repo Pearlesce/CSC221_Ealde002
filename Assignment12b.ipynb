{
  "nbformat": 4,
  "nbformat_minor": 0,
  "metadata": {
    "colab": {
      "provenance": [],
      "authorship_tag": "ABX9TyPccw+5GLGBs37ER/SuS98u",
      "include_colab_link": true
    },
    "kernelspec": {
      "name": "python3",
      "display_name": "Python 3"
    },
    "language_info": {
      "name": "python"
    }
  },
  "cells": [
    {
      "cell_type": "markdown",
      "metadata": {
        "id": "view-in-github",
        "colab_type": "text"
      },
      "source": [
        "<a href=\"https://colab.research.google.com/github/Pearlesce/CSC221_Ealde002/blob/main/Assignment12b.ipynb\" target=\"_parent\"><img src=\"https://colab.research.google.com/assets/colab-badge.svg\" alt=\"Open In Colab\"/></a>"
      ]
    },
    {
      "cell_type": "markdown",
      "source": [
        "Liz Alden\n",
        "\n",
        "Assignment 12 Part 2b\n",
        "\n",
        "Coming up wth your own Inheritance Classes\n",
        "\n",
        "Come up with a class idea that would benefit from inheritance and code it up."
      ],
      "metadata": {
        "id": "iDBGE2rbCK83"
      }
    },
    {
      "cell_type": "code",
      "source": [
        "class Employee:\n",
        "    \"\"\"This class attempts to build a simple employee object\"\"\"\n",
        "\n",
        "    def __init__(self, name, emp_id, hours, wage= 15):\n",
        "        \"\"\"Initializing a basic employee\"\"\"\n",
        "\n",
        "        self.name = name\n",
        "        self.emp_id = emp_id\n",
        "        self.hours = hours\n",
        "        self.wage = wage\n",
        "\n",
        "    def identify(self):\n",
        "        \"\"\"This class stores employee info and dispays their name and id number\"\"\"\n",
        "\n",
        "        identity = (self.name, (self.emp_id, self.hours))\n",
        "        print(f\"Hello {self.name.title()}. Your ID is {self.emp_id}\")\n",
        "\n",
        "    def salary(self):\n",
        "        \"\"\"\n",
        "        This class calculates and returns the employee's wage based on\n",
        "        weekly hours worked\n",
        "        \"\"\"\n",
        "\n",
        "        hourly_wage = self.wage\n",
        "        hourly_wage = hourly_wage * self.hours\n",
        "        return f\"You made {hourly_wage} this week.\"\n",
        "\n",
        "    def job_desc(self):\n",
        "        \"\"\"Prints the job description of the employee\"\"\"\n",
        "\n",
        "        print(\"Your job is to grab the coffee, intern!\")\n",
        "\n"
      ],
      "metadata": {
        "id": "_fwcebvhDHJS"
      },
      "execution_count": 25,
      "outputs": []
    },
    {
      "cell_type": "code",
      "source": [
        "class Janitor(Employee):\n",
        "    \"\"\"This class attempts to build a Janitor Employee\"\"\"\n",
        "\n",
        "    def __init__(self, name, emp_id, hours, wage):\n",
        "        \"\"\"Initializing the Janitor class\"\"\"\n",
        "\n",
        "        super().__init__(name, emp_id, hours, wage)\n",
        "\n",
        "    def salary(self):\n",
        "        \"\"\"\n",
        "        This function calculates and returns the Janitor's wage based on weekly\n",
        "        hours worked\n",
        "        \"\"\"\n",
        "\n",
        "        hourly_wage = self.wage * self.hours\n",
        "        return f\"You made {hourly_wage} this week, Janitor.\"\n",
        "\n",
        "    def job_desc(self):\n",
        "        \"\"\"prints the job description of the Janitor\"\"\"\n",
        "\n",
        "        print(\"Sweeping and mopping is your jam!\")\n"
      ],
      "metadata": {
        "id": "pRFtZq58JbLC"
      },
      "execution_count": 24,
      "outputs": []
    },
    {
      "cell_type": "code",
      "source": [
        "class Secretary(Employee):\n",
        "    \"\"\"This class attempts to build a Secretary Class\"\"\"\n",
        "\n",
        "    def __init__ (self, name, emp_id, wage= 10000):\n",
        "        \"\"\"Initializing the Secretary object\"\"\"\n",
        "\n",
        "        super().__init__(name, emp_id, wage)\n",
        "        self.wage = wage\n",
        "\n",
        "\n",
        "    def salary(self):\n",
        "        \"\"\"This function returns the yearly salary for the Secretary class\"\"\"\n",
        "\n",
        "        yearly_salary = self.wage\n",
        "        return f\"Secretaries earn a yearly salary! Your salary is {yearly_salary}\"\n",
        "\n",
        "    def job_desc(self):\n",
        "        \"\"\"This function prints the job description of the Secretary\"\"\"\n",
        "\n",
        "        print(\"You'll be taking calls and writing messages!\")\n"
      ],
      "metadata": {
        "id": "aHnbzzmCMJer"
      },
      "execution_count": 23,
      "outputs": []
    },
    {
      "cell_type": "code",
      "source": [
        "class Legal_Secretary(Secretary):\n",
        "    \"\"\"This class will attempt to create a Legal secretary object\"\"\"\n",
        "\n",
        "    def __init__ (self, name, emp_id, wage= 10000):\n",
        "        \"\"\"Initializing the Legal Secretary object\"\"\"\n",
        "\n",
        "        super().__init__(name, emp_id, wage)\n",
        "        self.wage = wage\n",
        "\n",
        "    def salary(self):\n",
        "        \"\"\"\n",
        "        This function calculates and returns the yearly salary for the Legal\n",
        "        Secretary\n",
        "        \"\"\"\n",
        "\n",
        "        yearly_salary = self.wage + 5000\n",
        "        return f\"Your yearly salary is {yearly_salary}\"\n",
        "\n",
        "    def job_desc(self):\n",
        "        \"\"\"This function prints the job description of the Legal Secretary\"\"\"\n",
        "\n",
        "        print(\"You will scan, file, and copy legal documents.\")\n"
      ],
      "metadata": {
        "id": "TJjjdOX4xjGy"
      },
      "execution_count": 22,
      "outputs": []
    },
    {
      "cell_type": "code",
      "source": [
        "emp1 = Employee('albert einstein', 1, 12)\n",
        "emp1.identify()\n",
        "emp1.job_desc()\n",
        "emp1.salary()"
      ],
      "metadata": {
        "colab": {
          "base_uri": "https://localhost:8080/",
          "height": 70
        },
        "id": "MVdQ3SrCzrRt",
        "outputId": "e1971d3c-e887-4cb4-fc8a-b487f2752169"
      },
      "execution_count": 26,
      "outputs": [
        {
          "output_type": "stream",
          "name": "stdout",
          "text": [
            "Hello Albert Einstein. Your ID is 1\n",
            "Your job is to grab the coffee, intern!\n"
          ]
        },
        {
          "output_type": "execute_result",
          "data": {
            "text/plain": [
              "'You made 180 this week.'"
            ],
            "application/vnd.google.colaboratory.intrinsic+json": {
              "type": "string"
            }
          },
          "metadata": {},
          "execution_count": 26
        }
      ]
    },
    {
      "cell_type": "code",
      "source": [
        "emp2 = Janitor('reese witherspoon', 2, 40, 16)\n",
        "emp2.identify()\n",
        "emp2.job_desc()\n",
        "emp2.salary()"
      ],
      "metadata": {
        "colab": {
          "base_uri": "https://localhost:8080/",
          "height": 70
        },
        "id": "ey4fBHp1ztIm",
        "outputId": "af69e94a-5d6f-4d2d-d7ca-63ae126cec1f"
      },
      "execution_count": 27,
      "outputs": [
        {
          "output_type": "stream",
          "name": "stdout",
          "text": [
            "Hello Reese Witherspoon. Your ID is 2\n",
            "Sweeping and mopping is your jam!\n"
          ]
        },
        {
          "output_type": "execute_result",
          "data": {
            "text/plain": [
              "'You made 640 this week, Janitor.'"
            ],
            "application/vnd.google.colaboratory.intrinsic+json": {
              "type": "string"
            }
          },
          "metadata": {},
          "execution_count": 27
        }
      ]
    },
    {
      "cell_type": "code",
      "source": [
        "emp3 = Secretary('johnny depp', 3)\n",
        "emp3.identify()\n",
        "emp3.job_desc()\n",
        "emp3.salary()"
      ],
      "metadata": {
        "colab": {
          "base_uri": "https://localhost:8080/",
          "height": 70
        },
        "id": "6n7cNoh6zufF",
        "outputId": "5a199cd6-b6da-4bf3-f012-ca496a7538ab"
      },
      "execution_count": 28,
      "outputs": [
        {
          "output_type": "stream",
          "name": "stdout",
          "text": [
            "Hello Johnny Depp. Your ID is 3\n",
            "You'll be taking calls and writing messages!\n"
          ]
        },
        {
          "output_type": "execute_result",
          "data": {
            "text/plain": [
              "'Secretaries earn a yearly salary! Your salary is 10000'"
            ],
            "application/vnd.google.colaboratory.intrinsic+json": {
              "type": "string"
            }
          },
          "metadata": {},
          "execution_count": 28
        }
      ]
    },
    {
      "cell_type": "code",
      "source": [
        "emp4 = Legal_Secretary('meryl streep', 4)\n",
        "emp4.identify()\n",
        "emp4.job_desc()\n",
        "emp4.salary()"
      ],
      "metadata": {
        "colab": {
          "base_uri": "https://localhost:8080/",
          "height": 70
        },
        "id": "UcMy_qzozvAq",
        "outputId": "401a7a77-e2a5-4b93-cecc-4da4b30785da"
      },
      "execution_count": 29,
      "outputs": [
        {
          "output_type": "stream",
          "name": "stdout",
          "text": [
            "Hello Meryl Streep. Your ID is 4\n",
            "You will scan, file, and copy legal documents.\n"
          ]
        },
        {
          "output_type": "execute_result",
          "data": {
            "text/plain": [
              "'Your yearly salary is 15000'"
            ],
            "application/vnd.google.colaboratory.intrinsic+json": {
              "type": "string"
            }
          },
          "metadata": {},
          "execution_count": 29
        }
      ]
    }
  ]
}