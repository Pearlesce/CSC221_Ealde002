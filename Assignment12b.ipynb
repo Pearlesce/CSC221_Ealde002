{
  "nbformat": 4,
  "nbformat_minor": 0,
  "metadata": {
    "colab": {
      "provenance": [],
      "authorship_tag": "ABX9TyM898pRYMJeuBtIjjXpvNCA",
      "include_colab_link": true
    },
    "kernelspec": {
      "name": "python3",
      "display_name": "Python 3"
    },
    "language_info": {
      "name": "python"
    }
  },
  "cells": [
    {
      "cell_type": "markdown",
      "metadata": {
        "id": "view-in-github",
        "colab_type": "text"
      },
      "source": [
        "<a href=\"https://colab.research.google.com/github/Pearlesce/CSC221_Ealde002/blob/main/Assignment12b.ipynb\" target=\"_parent\"><img src=\"https://colab.research.google.com/assets/colab-badge.svg\" alt=\"Open In Colab\"/></a>"
      ]
    },
    {
      "cell_type": "markdown",
      "source": [
        "Liz Alden\n",
        "\n",
        "Assignment 12 Part 2b\n",
        "\n",
        "Coming up wth your own Inheritance Classes\n",
        "\n",
        "Come up with a class idea that would benefit from inheritance and code it up."
      ],
      "metadata": {
        "id": "iDBGE2rbCK83"
      }
    },
    {
      "cell_type": "code",
      "source": [
        "class Employee:\n",
        "    \"\"\"This class attempts to build a simple employee object\"\"\"\n",
        "\n",
        "    def __init__(self, name, emp_id, hours, wage= 15):\n",
        "        \"\"\"Initializing a basic employee\"\"\"\n",
        "\n",
        "        self.name = name\n",
        "        self.emp_id = emp_id\n",
        "        self.hours = hours\n",
        "        self.wage = wage\n",
        "\n",
        "    def identify(self):\n",
        "        \"\"\"This class stores employee info and dispays their name and id number\"\"\"\n",
        "\n",
        "        identity = (self.name, (self.emp_id, self.hours))\n",
        "        return f\"Hello {self.name.title()}. Your ID is {self.emp_id}\"\n",
        "\n",
        "    def salary(self):\n",
        "        \"\"\"\n",
        "        This class calculates and returns the employee's wage based on\n",
        "        weekly hours worked\n",
        "        \"\"\"\n",
        "\n",
        "        hourly_wage = self.wage\n",
        "        hourly_wage = hourly_wage * self.hours\n",
        "        return f\"You made {hourly_wage} this week.\"\n",
        "\n",
        "    def job_desc(self):\n",
        "        \"\"\"Prints the job description of the employee\"\"\"\n",
        "\n",
        "        return \"Your job is to grab the coffee, intern!\"\n",
        "\n"
      ],
      "metadata": {
        "id": "_fwcebvhDHJS"
      },
      "execution_count": 30,
      "outputs": []
    },
    {
      "cell_type": "code",
      "source": [
        "class Janitor(Employee):\n",
        "    \"\"\"This class attempts to build a Janitor Employee\"\"\"\n",
        "\n",
        "    def __init__(self, name, emp_id, hours, wage):\n",
        "        \"\"\"Initializing the Janitor class\"\"\"\n",
        "\n",
        "        super().__init__(name, emp_id, hours, wage)\n",
        "\n",
        "    def salary(self):\n",
        "        \"\"\"\n",
        "        This function calculates and returns the Janitor's wage based on weekly\n",
        "        hours worked\n",
        "        \"\"\"\n",
        "\n",
        "        hourly_wage = self.wage * self.hours\n",
        "        return f\"You made {hourly_wage} this week, Janitor.\"\n",
        "\n",
        "    def job_desc(self):\n",
        "        \"\"\"prints the job description of the Janitor\"\"\"\n",
        "\n",
        "        return \"Sweeping and mopping is your jam!\"\n"
      ],
      "metadata": {
        "id": "pRFtZq58JbLC"
      },
      "execution_count": 31,
      "outputs": []
    },
    {
      "cell_type": "code",
      "source": [
        "class Secretary(Employee):\n",
        "    \"\"\"This class attempts to build a Secretary Class\"\"\"\n",
        "\n",
        "    def __init__ (self, name, emp_id, wage= 10000):\n",
        "        \"\"\"Initializing the Secretary object\"\"\"\n",
        "\n",
        "        super().__init__(name, emp_id, wage)\n",
        "        self.wage = wage\n",
        "\n",
        "\n",
        "    def salary(self):\n",
        "        \"\"\"This function returns the yearly salary for the Secretary class\"\"\"\n",
        "\n",
        "        yearly_salary = self.wage\n",
        "        return f\"Secretaries earn a yearly salary! Your salary is {yearly_salary}\"\n",
        "\n",
        "    def job_desc(self):\n",
        "        \"\"\"This function prints the job description of the Secretary\"\"\"\n",
        "\n",
        "        return \"You'll be taking calls and writing messages!\"\n"
      ],
      "metadata": {
        "id": "aHnbzzmCMJer"
      },
      "execution_count": 32,
      "outputs": []
    },
    {
      "cell_type": "code",
      "source": [
        "class Legal_Secretary(Secretary):\n",
        "    \"\"\"This class will attempt to create a Legal secretary object\"\"\"\n",
        "\n",
        "    def __init__ (self, name, emp_id, wage= 10000):\n",
        "        \"\"\"Initializing the Legal Secretary object\"\"\"\n",
        "\n",
        "        super().__init__(name, emp_id, wage)\n",
        "        self.wage = wage\n",
        "\n",
        "    def salary(self):\n",
        "        \"\"\"\n",
        "        This function calculates and returns the yearly salary for the Legal\n",
        "        Secretary\n",
        "        \"\"\"\n",
        "\n",
        "        yearly_salary = self.wage + 5000\n",
        "        return f\"Your yearly salary is {yearly_salary}\"\n",
        "\n",
        "    def job_desc(self):\n",
        "        \"\"\"This function prints the job description of the Legal Secretary\"\"\"\n",
        "\n",
        "        return \"You will scan, file, and copy legal documents.\"\n"
      ],
      "metadata": {
        "id": "TJjjdOX4xjGy"
      },
      "execution_count": 33,
      "outputs": []
    },
    {
      "cell_type": "code",
      "source": [
        "emp1 = Employee('albert einstein', 1, 12)\n",
        "print(emp1.identify())\n",
        "print(emp1.job_desc())\n",
        "print(emp1.salary())"
      ],
      "metadata": {
        "colab": {
          "base_uri": "https://localhost:8080/"
        },
        "id": "MVdQ3SrCzrRt",
        "outputId": "a5b9ac6a-3d1e-486e-ab8b-6090fe194315"
      },
      "execution_count": 34,
      "outputs": [
        {
          "output_type": "stream",
          "name": "stdout",
          "text": [
            "Hello Albert Einstein. Your ID is 1\n",
            "Your job is to grab the coffee, intern!\n",
            "You made 180 this week.\n"
          ]
        }
      ]
    },
    {
      "cell_type": "code",
      "source": [
        "emp2 = Janitor('reese witherspoon', 2, 40, 16)\n",
        "print(emp2.identify())\n",
        "print(emp2.job_desc())\n",
        "print(emp2.salary())"
      ],
      "metadata": {
        "colab": {
          "base_uri": "https://localhost:8080/"
        },
        "id": "ey4fBHp1ztIm",
        "outputId": "df3c9609-445e-4e47-d198-445e00b0141a"
      },
      "execution_count": 35,
      "outputs": [
        {
          "output_type": "stream",
          "name": "stdout",
          "text": [
            "Hello Reese Witherspoon. Your ID is 2\n",
            "Sweeping and mopping is your jam!\n",
            "You made 640 this week, Janitor.\n"
          ]
        }
      ]
    },
    {
      "cell_type": "code",
      "source": [
        "emp3 = Secretary('johnny depp', 3)\n",
        "print(emp3.identify())\n",
        "print(emp3.job_desc())\n",
        "print(emp3.salary())"
      ],
      "metadata": {
        "colab": {
          "base_uri": "https://localhost:8080/"
        },
        "id": "6n7cNoh6zufF",
        "outputId": "90935f30-11e7-4842-dd17-a2c99372afec"
      },
      "execution_count": 36,
      "outputs": [
        {
          "output_type": "stream",
          "name": "stdout",
          "text": [
            "Hello Johnny Depp. Your ID is 3\n",
            "You'll be taking calls and writing messages!\n",
            "Secretaries earn a yearly salary! Your salary is 10000\n"
          ]
        }
      ]
    },
    {
      "cell_type": "code",
      "source": [
        "emp4 = Legal_Secretary('meryl streep', 4)\n",
        "print(emp4.identify())\n",
        "print(emp4.job_desc())\n",
        "print(emp4.salary())"
      ],
      "metadata": {
        "colab": {
          "base_uri": "https://localhost:8080/"
        },
        "id": "UcMy_qzozvAq",
        "outputId": "04297036-7301-4164-ffc7-d01a20bf4d1a"
      },
      "execution_count": 37,
      "outputs": [
        {
          "output_type": "stream",
          "name": "stdout",
          "text": [
            "Hello Meryl Streep. Your ID is 4\n",
            "You will scan, file, and copy legal documents.\n",
            "Your yearly salary is 15000\n"
          ]
        }
      ]
    }
  ]
}