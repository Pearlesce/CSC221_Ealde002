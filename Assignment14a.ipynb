{
  "nbformat": 4,
  "nbformat_minor": 0,
  "metadata": {
    "colab": {
      "provenance": [],
      "authorship_tag": "ABX9TyNTeYiivpxRtq5U4LxhgQ1f",
      "include_colab_link": true
    },
    "kernelspec": {
      "name": "python3",
      "display_name": "Python 3"
    },
    "language_info": {
      "name": "python"
    }
  },
  "cells": [
    {
      "cell_type": "markdown",
      "metadata": {
        "id": "view-in-github",
        "colab_type": "text"
      },
      "source": [
        "<a href=\"https://colab.research.google.com/github/Pearlesce/CSC221_Ealde002/blob/main/Assignment14a.ipynb\" target=\"_parent\"><img src=\"https://colab.research.google.com/assets/colab-badge.svg\" alt=\"Open In Colab\"/></a>"
      ]
    },
    {
      "cell_type": "markdown",
      "source": [
        "Liz Alden\n",
        "\n",
        "Assignment 14 - Exception Handling\n",
        "\n",
        "Let's get professional with our exception handling!\n",
        "\n",
        "Remember the simple calculator you made? Let's modify it:\n",
        "Enhance it so you just type in: number op number <enter>, like \"13 / 5 <enter>\" I'd expect you to print something like: \"13 / 5 = 2.6\"\n",
        "Use string.split(' ') to separate the numbers and operator. You may assume the operator always has spaces on either side of it.\n",
        "Convert the numbers using float(arg[0]) and float(arg[2])\n",
        "Execute accordingly.\n",
        "Add try: ... except: throughout to make the system robust and error-proof!\n",
        "Demonstrate how robust your code is!\n",
        "\n",
        "Now let's modify your file handling code form Assignment 13. Add try: ... except: where appropriate for all your functions. Make sure files not being found or containing erroneous or poorly-formatted information cannot cause any crashes. Make sure you create several corrupt files to exercise all of your exception handling code!"
      ],
      "metadata": {
        "id": "tscm784ycWvK"
      }
    },
    {
      "cell_type": "code",
      "execution_count": null,
      "metadata": {
        "colab": {
          "base_uri": "https://localhost:8080/"
        },
        "id": "uKChXboScJHG",
        "outputId": "690e5689-468b-453b-f3c2-4e26549035c6"
      },
      "outputs": [
        {
          "name": "stdout",
          "output_type": "stream",
          "text": [
            "Please enter a number, an operator, and another number (= to exit).\n",
            "=\n"
          ]
        }
      ],
      "source": [
        "#Calculator using exception handling\n",
        "\n",
        "print(\"Please enter a number, an operator, and another number (= to exit).\")\n",
        "\n",
        "total = 0\n",
        "while True:\n",
        "\n",
        "    try:\n",
        "        calculate = input()\n",
        "        if calculate == '=':\n",
        "            break\n",
        "        calculate = calculate.split(' ')\n",
        "        calc1 = float(calculate[0])\n",
        "        calc2 = float(calculate[2])\n",
        "\n",
        "        operator = calculate[1]\n",
        "\n",
        "        if operator == '+':\n",
        "            total = calc1 + calc2\n",
        "            print(total)\n",
        "        if operator == '-':\n",
        "            total = calc1 - calc2\n",
        "            print(total)\n",
        "        if operator == '*':\n",
        "            total = calc1 * calc2\n",
        "            print(total)\n",
        "        if operator == '**':\n",
        "            total = calc1 ** calc2\n",
        "            print(total)\n",
        "        if operator == '/':\n",
        "            total = calc1 / calc2\n",
        "            print(total)\n",
        "        if operator == '%':\n",
        "            total = calc1 % calc2\n",
        "            print(total)\n",
        "    except ZeroDivisionError as ex:\n",
        "        print(f\"{ex.args}\")\n",
        "    except ValueError as ex:\n",
        "        print(f\"{ex.args}.\")"
      ]
    },
    {
      "cell_type": "code",
      "source": [
        "#Check 14b in GitHub for the file parcer exception handling exersize"
      ],
      "metadata": {
        "id": "alL7Yyawk9Ei"
      },
      "execution_count": null,
      "outputs": []
    }
  ]
}