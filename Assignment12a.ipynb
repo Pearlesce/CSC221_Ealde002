{
  "nbformat": 4,
  "nbformat_minor": 0,
  "metadata": {
    "colab": {
      "provenance": [],
      "authorship_tag": "ABX9TyNMYHNtKXj8pQHsCuz6JlTc",
      "include_colab_link": true
    },
    "kernelspec": {
      "name": "python3",
      "display_name": "Python 3"
    },
    "language_info": {
      "name": "python"
    }
  },
  "cells": [
    {
      "cell_type": "markdown",
      "metadata": {
        "id": "view-in-github",
        "colab_type": "text"
      },
      "source": [
        "<a href=\"https://colab.research.google.com/github/Pearlesce/CSC221_Ealde002/blob/main/Assignment12a.ipynb\" target=\"_parent\"><img src=\"https://colab.research.google.com/assets/colab-badge.svg\" alt=\"Open In Colab\"/></a>"
      ]
    },
    {
      "cell_type": "markdown",
      "source": [
        "Liz Alden\n",
        "\n",
        "Assignment 12: Classes Part 2a\n",
        "\n",
        "Program two inheritance classes: Money and self-directed Inheritance project\n",
        "\n",
        "For the Money Class:\n",
        "\n",
        "Make an object oriented design that represents US money.\n",
        "\n",
        "Make use of inheritance in the different classes!\n",
        "\n",
        "Make various \"wallets\" of bills and coins.\n",
        "\n",
        "Printing and the sum of the money should be included as\n",
        "functions.\n",
        "\n",
        "Build test cases with different quantities of bills and coins\n",
        "to test for correct behavior."
      ],
      "metadata": {
        "id": "SCy0SpnhM350"
      }
    },
    {
      "cell_type": "code",
      "source": [
        "class Money:\n",
        "    \"\"\"A class to model US Money\"\"\"\n",
        "\n",
        "    def __init__ (self, name, amount):\n",
        "        \"\"\"Initialize the name and amount attributes\"\"\"\n",
        "\n",
        "        self.name = name\n",
        "        self.amount = amount\n",
        "\n",
        "    def build_wallet(self):\n",
        "        \"\"\"This function builds the wallet of the Money Class\"\"\"\n",
        "\n",
        "        wallet = []\n",
        "        wallet.append(self.name)\n",
        "        wallet.append(self.amount)\n",
        "        return wallet\n",
        "\n",
        "    def print_wallet(self):\n",
        "        \"\"\"This class prints the contents of the wallet for testing purposes\"\"\"\n",
        "\n",
        "        return f\"You have {self.amount} {self.name.title()} in your wallet.\"\n",
        "\n",
        "    def get_sum(self):\n",
        "        \"\"\"This function builds, adds and returns the wallet amount\"\"\"\n",
        "\n",
        "        sum_wallet = 0\n",
        "        sum_wallet += self.amount\n",
        "        return f\"The amount of money in your wallet is {sum_wallet}.\"\n"
      ],
      "metadata": {
        "id": "fOMBZoFEO-mZ"
      },
      "execution_count": 33,
      "outputs": []
    },
    {
      "cell_type": "code",
      "source": [
        "class Bills(Money):\n",
        "    \"\"\"A class to Model US bills\"\"\"\n",
        "\n",
        "    def __init__(self, name, amount):\n",
        "        \"\"\"Initializing the attributes of the parent class\"\"\"\n",
        "\n",
        "        super().__init__(name, amount)\n",
        "\n",
        "    def build_wallet(self):\n",
        "        \"\"\"This function builds the wallet of the Money Class\"\"\"\n",
        "\n",
        "        wallet = []\n",
        "        wallet.append(self.name)\n",
        "        wallet.append(self.amount)\n",
        "        return wallet\n",
        "\n",
        "    def print_wallet(self):\n",
        "        \"\"\"Prints the wallet, but with bills in mind\"\"\"\n",
        "\n",
        "        return f\"You have {self.amount} {self.name.title()} in your wallet\"\n",
        "\n",
        "    def get_sum(self):\n",
        "        \"\"\"\n",
        "        This function adds and returns the amount in the wallet,\n",
        "        but with Bill Denominations in mind\n",
        "        \"\"\"\n",
        "\n",
        "        sum_wallet = 0\n",
        "        sum_wallet += self.amount\n",
        "        return f\"The total in your wallet is {sum_wallet}.\"\n"
      ],
      "metadata": {
        "id": "UGTZZOXmRsVO"
      },
      "execution_count": 34,
      "outputs": []
    },
    {
      "cell_type": "code",
      "source": [
        "#child of bills one\n",
        "class One(Bills):\n",
        "    \"\"\"A Class that models the one dollar bill\"\"\"\n",
        "\n",
        "    def __init__(self, amount, name= 'one'):\n",
        "        \"\"\"Initializing the attributes of the Ones class\"\"\"\n",
        "\n",
        "        super().__init__(name, amount)\n",
        "\n",
        "    def print_wallet(self):\n",
        "        \"\"\"Prints the wallet contents\"\"\"\n",
        "\n",
        "        return f\"You have {self.amount} {self.name.title()} dollar bills in your wallet.\"\n",
        "\n",
        "    def get_sum(self):\n",
        "        \"\"\"This function adds and returns the amount of Ones in the wallet.\"\"\"\n",
        "\n",
        "        sum_wallet = 0\n",
        "        sum_wallet += self.amount\n",
        "        return f\"The cash amount of 1's in your wallet is ${sum_wallet}\"\n"
      ],
      "metadata": {
        "id": "aNp29PXuemtm"
      },
      "execution_count": 35,
      "outputs": []
    },
    {
      "cell_type": "code",
      "source": [
        "#child of bills five\n",
        "class Five(Bills):\n",
        "    \"\"\"A Class that models a Five dollar bill\"\"\"\n",
        "\n",
        "    def __init__(self, amount, name= 'five'):\n",
        "        \"\"\"Initializing the attributes of the Fives class\"\"\"\n",
        "\n",
        "        super().__init__(name, amount)\n",
        "\n",
        "    def print_wallet(self):\n",
        "        \"\"\"Prints the wallet contents\"\"\"\n",
        "\n",
        "        return f\"You have {self.amount} {self.name.title()} dollar bills in your wallet.\"\n",
        "\n",
        "    def get_sum(self):\n",
        "        \"\"\"Adds the amount of Fives in the wallet and returns that amount.\"\"\"\n",
        "\n",
        "        sum_wallet = 0\n",
        "        sum_wallet = self.amount * 5\n",
        "        return f\"The cash amount of 5's in your wallet is ${sum_wallet}.\"\n"
      ],
      "metadata": {
        "id": "jpfl5TeWetKe"
      },
      "execution_count": 36,
      "outputs": []
    },
    {
      "cell_type": "code",
      "source": [
        "#child of bills ten\n",
        "class Ten(Bills):\n",
        "    \"\"\"A Class that models a Ten Dollar bill\"\"\"\n",
        "\n",
        "    def __init__(self, amount, name= 'ten'):\n",
        "        \"\"\"Initializing the attributes of the Tens class\"\"\"\n",
        "\n",
        "        super().__init__(name, amount)\n",
        "\n",
        "    def print_wallet(self):\n",
        "        \"\"\"Prints the wallet contents\"\"\"\n",
        "\n",
        "        return f\"You have {self.amount} {self.name.title()} dollar bills in your wallet.\"\n",
        "\n",
        "    def get_sum(self):\n",
        "        \"\"\"Adds the amount of Tens in the wallet and returns that amount.\"\"\"\n",
        "\n",
        "        sum_wallet = 0\n",
        "        sum_wallet = self.amount * 10\n",
        "        return f\"The cash amount of 10's in your wallet is ${sum_wallet}.\"\n"
      ],
      "metadata": {
        "id": "0CnGR4CaewkC"
      },
      "execution_count": 37,
      "outputs": []
    },
    {
      "cell_type": "code",
      "source": [
        "class Twenty(Bills):\n",
        "    \"\"\"A Class that models a Twenty Dollar Bill\"\"\"\n",
        "\n",
        "    def __init__ (self, amount, name= \"twenty\"):\n",
        "        \"\"\"Initializing the attributes of the Twenty Class\"\"\"\n",
        "\n",
        "        super().__init__(name, amount)\n",
        "\n",
        "    def print_wallet(self):\n",
        "        \"\"\"Prints the wallet contents\"\"\"\n",
        "\n",
        "        return f\"You have {self.amount} {self.name.title()} dollar bills in your wallet.\"\n",
        "\n",
        "    def get_sum(self):\n",
        "        \"\"\"Adds the amount of Twentys in the wallet and returns that amount.\"\"\"\n",
        "\n",
        "        sum_wallet = 0\n",
        "        sum_wallet = self.amount * 20\n",
        "        return f\"The cash amount of 20's in your wallet is ${sum_wallet}.\""
      ],
      "metadata": {
        "id": "D5UakeFRnC3w"
      },
      "execution_count": 38,
      "outputs": []
    },
    {
      "cell_type": "code",
      "source": [
        "class Coins(Money):\n",
        "    \"\"\"A Class to Model US Coins\"\"\"\n",
        "\n",
        "    def __init__(self, name, amount):\n",
        "        super().__init__(name, amount)\n",
        "\n",
        "    def print_wallet(self):\n",
        "        \"\"\"Prints the wallet, but with coins in mind\"\"\"\n",
        "\n",
        "        return f\"You have {self.amount} {self.name} in your wallet.\"\n",
        "\n",
        "    def get_sum(self):\n",
        "        \"\"\"This method adds and returns the wallet with coins in mind\"\"\"\n",
        "\n",
        "        sum_wallet = 0\n",
        "        sum_wallet += self.amount\n",
        "        return f\"The amount of coins in your wallet is {sum_wallet}.\"\n"
      ],
      "metadata": {
        "id": "xN3u3g-noEwi"
      },
      "execution_count": 39,
      "outputs": []
    },
    {
      "cell_type": "code",
      "source": [
        "#penny\n",
        "class Penny(Coins):\n",
        "    \"\"\"A Class that models a Penny\"\"\"\n",
        "\n",
        "    def __init__ (self, amount, name= \"penny\"):\n",
        "        \"\"\"Initializing the attributes of the Penny Class\"\"\"\n",
        "\n",
        "        super().__init__(name, amount)\n",
        "\n",
        "    def print_wallet(self):\n",
        "        \"\"\"Prints the wallet, but with coins in mind\"\"\"\n",
        "\n",
        "        return f\"You have {self.amount} {self.name} in your wallet.\"\n",
        "\n",
        "    def get_sum(self):\n",
        "        \"\"\"This method adds and returns the amount of Pennies in the wallet\"\"\"\n",
        "\n",
        "        sum_amount = 0\n",
        "        sum_wallet = self.amount / 100\n",
        "        return f\"The cash amount of pennies in your wallet is ${sum_wallet}\"\n"
      ],
      "metadata": {
        "id": "IegbtMtprVTa"
      },
      "execution_count": 40,
      "outputs": []
    },
    {
      "cell_type": "code",
      "source": [
        "#nickel\n",
        "class Nickel(Coins):\n",
        "    \"\"\"A Class that models a Nickel\"\"\"\n",
        "\n",
        "    def __init__ (self, amount, name= \"nickel\"):\n",
        "        \"\"\"Initializing the attributes of the Nickel Class\"\"\"\n",
        "\n",
        "        super().__init__(name, amount)\n",
        "\n",
        "    def print_wallet(self):\n",
        "        \"\"\"Prints the wallet, but with coins in mind\"\"\"\n",
        "\n",
        "        return f\"You have {self.amount} {self.name} in your wallet.\"\n",
        "\n",
        "    def get_sum(self):\n",
        "        \"\"\"This method adds and returns the amount of Nickles in the wallet\"\"\"\n",
        "\n",
        "        sum_amount = 0\n",
        "        sum_wallet = (self.amount / 100) * 5\n",
        "        return f\"The cash amount of nickles in your wallet is ${sum_wallet}\"\n"
      ],
      "metadata": {
        "id": "Ihx1OoGarYFn"
      },
      "execution_count": 41,
      "outputs": []
    },
    {
      "cell_type": "code",
      "source": [
        "#dime\n",
        "class Dime(Coins):\n",
        "    \"\"\"A Class that models a Dime\"\"\"\n",
        "\n",
        "    def __init__ (self, amount, name= \"dime\"):\n",
        "        \"\"\"Initializing the attributes of the Dime Class\"\"\"\n",
        "\n",
        "        super().__init__(name, amount)\n",
        "\n",
        "    def print_wallet(self):\n",
        "        \"\"\"Prints the wallet, but with coins in mind\"\"\"\n",
        "\n",
        "        return f\"You have {self.amount} {self.name} in your wallet.\"\n",
        "\n",
        "    def get_sum(self):\n",
        "        \"\"\"This method adds and returns the amount of Dimes in the wallet\"\"\"\n",
        "\n",
        "        sum_amount = 0\n",
        "        sum_wallet = self.amount / 10\n",
        "        return f\"The cash amount of dimes in your wallet is ${sum_wallet}\"\n"
      ],
      "metadata": {
        "id": "xLjsmzxdrZal"
      },
      "execution_count": 42,
      "outputs": []
    },
    {
      "cell_type": "code",
      "source": [
        "#quarter\n",
        "class Quarter(Coins):\n",
        "    \"\"\"A Class that models a Quarter\"\"\"\n",
        "\n",
        "    def __init__ (self, amount, name= \"quarter\"):\n",
        "        \"\"\"Initializing the attributes of the Quarter Class\"\"\"\n",
        "\n",
        "        super().__init__(name, amount)\n",
        "\n",
        "    def print_wallet(self):\n",
        "        \"\"\"Prints the wallet, but with coins in mind\"\"\"\n",
        "\n",
        "        return f\"You have {self.amount} {self.name} in your wallet.\"\n",
        "\n",
        "    def get_sum(self):\n",
        "        \"\"\"This method adds and returns the amount of Quarters in the wallet\"\"\"\n",
        "\n",
        "        sum_amount = 0\n",
        "        sum_wallet = (self.amount / 100) * 25\n",
        "        return f\"The cash amount of quarters in your wallet is ${sum_wallet}\"\n"
      ],
      "metadata": {
        "id": "n3ywuGBErbI-"
      },
      "execution_count": 43,
      "outputs": []
    },
    {
      "cell_type": "code",
      "source": [
        "print(\"Test 1: Money Class:\")\n",
        "test1 = Money('one', 1)\n",
        "print(test1.build_wallet())\n",
        "print(test1.print_wallet())\n",
        "print(test1.get_sum())"
      ],
      "metadata": {
        "colab": {
          "base_uri": "https://localhost:8080/"
        },
        "id": "Iz5145-_-kNg",
        "outputId": "eb5ed855-a588-42e8-b16a-969008f07e57"
      },
      "execution_count": 44,
      "outputs": [
        {
          "output_type": "stream",
          "name": "stdout",
          "text": [
            "Test 1: Money Class:\n",
            "['one', 1]\n",
            "You have 1 One in your wallet.\n",
            "The amount of money in your wallet is 1.\n"
          ]
        }
      ]
    },
    {
      "cell_type": "code",
      "source": [
        "print(\"Test 2: Bills Class:\")\n",
        "test2 = Bills('bills', 10)\n",
        "print(test2.build_wallet())\n",
        "print(test2.print_wallet())\n",
        "print(test2.get_sum())"
      ],
      "metadata": {
        "colab": {
          "base_uri": "https://localhost:8080/"
        },
        "id": "xMaEiHIf-lQR",
        "outputId": "c3459094-f0e5-4f7c-c03f-253860995dce"
      },
      "execution_count": 45,
      "outputs": [
        {
          "output_type": "stream",
          "name": "stdout",
          "text": [
            "Test 2: Bills Class:\n",
            "['bills', 10]\n",
            "You have 10 Bills in your wallet\n",
            "The total in your wallet is 10.\n"
          ]
        }
      ]
    },
    {
      "cell_type": "code",
      "source": [
        "print(\"Test 3: Ones Class:\")\n",
        "test3 = One(36)\n",
        "print(test3.build_wallet())\n",
        "print(test3.print_wallet())\n",
        "print(test3.get_sum())"
      ],
      "metadata": {
        "colab": {
          "base_uri": "https://localhost:8080/"
        },
        "id": "Kc_scHDG_Eum",
        "outputId": "37c609f2-d496-4c50-cb66-09490e8fa482"
      },
      "execution_count": 46,
      "outputs": [
        {
          "output_type": "stream",
          "name": "stdout",
          "text": [
            "Test 3: Ones Class:\n",
            "['one', 36]\n",
            "You have 36 One dollar bills in your wallet.\n",
            "The cash amount of 1's in your wallet is $36\n"
          ]
        }
      ]
    },
    {
      "cell_type": "code",
      "source": [
        "print(\"Test 4: Fives Class:\")\n",
        "test4 = Five(27)\n",
        "print(test4.build_wallet())\n",
        "print(test4.print_wallet())\n",
        "print(test4.get_sum())"
      ],
      "metadata": {
        "colab": {
          "base_uri": "https://localhost:8080/"
        },
        "id": "2aFR3whZ_pzj",
        "outputId": "a9a8f3a3-6178-4e41-d870-41a989e9144d"
      },
      "execution_count": 55,
      "outputs": [
        {
          "output_type": "stream",
          "name": "stdout",
          "text": [
            "Test 4: Fives Class:\n",
            "['five', 27]\n",
            "You have 27 Five dollar bills in your wallet.\n",
            "The cash amount of 5's in your wallet is $135.\n"
          ]
        }
      ]
    },
    {
      "cell_type": "code",
      "source": [
        "print(\"Test 5: Tens Class:\")\n",
        "test5 = Ten(5)\n",
        "print(test5.build_wallet())\n",
        "print(test5.print_wallet())\n",
        "print(test5.get_sum())"
      ],
      "metadata": {
        "colab": {
          "base_uri": "https://localhost:8080/"
        },
        "id": "AD9XMVOUAKbu",
        "outputId": "da1bf694-8f8e-44e8-8c11-b81c36d67cae"
      },
      "execution_count": 56,
      "outputs": [
        {
          "output_type": "stream",
          "name": "stdout",
          "text": [
            "Test 5: Tens Class:\n",
            "['ten', 5]\n",
            "You have 5 Ten dollar bills in your wallet.\n",
            "The cash amount of 10's in your wallet is $50.\n"
          ]
        }
      ]
    },
    {
      "cell_type": "code",
      "source": [
        "print(\"Test 6: Twenties Class:\")\n",
        "test6 = Twenty(99)\n",
        "print(test6.build_wallet())\n",
        "print(test6.print_wallet())\n",
        "print(test6.get_sum())"
      ],
      "metadata": {
        "colab": {
          "base_uri": "https://localhost:8080/"
        },
        "id": "4DP4Z1YLAf6l",
        "outputId": "6727b79c-efb0-4cff-fd19-1eeb3342dac8"
      },
      "execution_count": 57,
      "outputs": [
        {
          "output_type": "stream",
          "name": "stdout",
          "text": [
            "Test 6: Twenties Class:\n",
            "['twenty', 99]\n",
            "You have 99 Twenty dollar bills in your wallet.\n",
            "The cash amount of 20's in your wallet is $1980.\n"
          ]
        }
      ]
    },
    {
      "cell_type": "code",
      "source": [
        "print(\"Test 7: Coins Class:\")\n",
        "test7 = Coins('coin', 7)\n",
        "print(test7.build_wallet())\n",
        "print(test7.print_wallet())\n",
        "print(test7.get_sum())"
      ],
      "metadata": {
        "id": "RCS6Ch8UArs7",
        "colab": {
          "base_uri": "https://localhost:8080/"
        },
        "outputId": "e0707dc2-02b6-4301-a2df-be766e9c95f2"
      },
      "execution_count": 58,
      "outputs": [
        {
          "output_type": "stream",
          "name": "stdout",
          "text": [
            "Test 7: Coins Class:\n",
            "['coin', 7]\n",
            "You have 7 coin in your wallet.\n",
            "The amount of coins in your wallet is 7.\n"
          ]
        }
      ]
    },
    {
      "cell_type": "code",
      "source": [
        "print(\"Test 8: Penny Class:\")\n",
        "test8 = Penny(700)\n",
        "print(test8.build_wallet())\n",
        "print(test8.print_wallet())\n",
        "print(test8.get_sum())"
      ],
      "metadata": {
        "colab": {
          "base_uri": "https://localhost:8080/"
        },
        "id": "Ejgt9ELNBWb6",
        "outputId": "a0145475-5277-4bd3-ef5b-e7e57fb84c57"
      },
      "execution_count": 59,
      "outputs": [
        {
          "output_type": "stream",
          "name": "stdout",
          "text": [
            "Test 8: Penny Class:\n",
            "['penny', 700]\n",
            "You have 700 penny in your wallet.\n",
            "The cash amount of pennies in your wallet is $7.0\n"
          ]
        }
      ]
    },
    {
      "cell_type": "code",
      "source": [
        "print(\"Test 9: Nickel Class:\")\n",
        "test9 = Nickel(29)\n",
        "print(test9.build_wallet())\n",
        "print(test9.print_wallet())\n",
        "print(test9.get_sum())"
      ],
      "metadata": {
        "colab": {
          "base_uri": "https://localhost:8080/"
        },
        "id": "iAwmtjVJBhvZ",
        "outputId": "d4235826-50ad-4ba6-f9eb-5c13efac9aa3"
      },
      "execution_count": 60,
      "outputs": [
        {
          "output_type": "stream",
          "name": "stdout",
          "text": [
            "Test 9: Nickel Class:\n",
            "['nickel', 29]\n",
            "You have 29 nickel in your wallet.\n",
            "The cash amount of nickles in your wallet is $1.45\n"
          ]
        }
      ]
    },
    {
      "cell_type": "code",
      "source": [
        "print(\"Test 10: Dime Class:\")\n",
        "test10 = Dime(37)\n",
        "print(test10.build_wallet())\n",
        "print(test10.print_wallet())\n",
        "print(test10.get_sum())"
      ],
      "metadata": {
        "colab": {
          "base_uri": "https://localhost:8080/"
        },
        "id": "JCmVrsX_Brjk",
        "outputId": "ff1e617a-971a-47c4-d80d-ae48d7e4fbab"
      },
      "execution_count": 61,
      "outputs": [
        {
          "output_type": "stream",
          "name": "stdout",
          "text": [
            "Test 10: Dime Class:\n",
            "['dime', 37]\n",
            "You have 37 dime in your wallet.\n",
            "The cash amount of dimes in your wallet is $3.7\n"
          ]
        }
      ]
    },
    {
      "cell_type": "code",
      "source": [
        "print(\"Test 11: Quarter Class:\")\n",
        "test11 = Quarter(601)\n",
        "print(test11.build_wallet())\n",
        "print(test11.print_wallet())\n",
        "print(test11.get_sum())"
      ],
      "metadata": {
        "colab": {
          "base_uri": "https://localhost:8080/"
        },
        "id": "U6NFrUh-B4bx",
        "outputId": "cea994ee-4110-49d3-da1e-17113da267cb"
      },
      "execution_count": 62,
      "outputs": [
        {
          "output_type": "stream",
          "name": "stdout",
          "text": [
            "Test 11: Quarter Class:\n",
            "['quarter', 601]\n",
            "You have 601 quarter in your wallet.\n",
            "The cash amount of quarters in your wallet is $150.25\n"
          ]
        }
      ]
    }
  ]
}