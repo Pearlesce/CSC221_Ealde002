{
  "nbformat": 4,
  "nbformat_minor": 0,
  "metadata": {
    "colab": {
      "provenance": [],
      "authorship_tag": "ABX9TyPvQNd1L54VfEM/df1Jl8J2",
      "include_colab_link": true
    },
    "kernelspec": {
      "name": "python3",
      "display_name": "Python 3"
    },
    "language_info": {
      "name": "python"
    }
  },
  "cells": [
    {
      "cell_type": "markdown",
      "metadata": {
        "id": "view-in-github",
        "colab_type": "text"
      },
      "source": [
        "<a href=\"https://colab.research.google.com/github/Pearlesce/CSC221_Ealde002/blob/main/Assignment12a.ipynb\" target=\"_parent\"><img src=\"https://colab.research.google.com/assets/colab-badge.svg\" alt=\"Open In Colab\"/></a>"
      ]
    },
    {
      "cell_type": "markdown",
      "source": [
        "Liz Alden\n",
        "\n",
        "Assignment 12: Classes Part 2a\n",
        "\n",
        "Program two inheritance classes: Money and self-directed Inheritance project\n",
        "\n",
        "For the Money Class:\n",
        "\n",
        "Make an object oriented design that represents US money.\n",
        "\n",
        "Make use of inheritance in the different classes!\n",
        "\n",
        "Make various \"wallets\" of bills and coins.\n",
        "\n",
        "Printing and the sum of the money should be included as\n",
        "functions.\n",
        "\n",
        "Build test cases with different quantities of bills and coins\n",
        "to test for correct behavior."
      ],
      "metadata": {
        "id": "SCy0SpnhM350"
      }
    },
    {
      "cell_type": "code",
      "source": [
        "class Money:\n",
        "    \"\"\"A class to model US Money\"\"\"\n",
        "\n",
        "    def __init__ (self, name, amount):\n",
        "        \"\"\"Initialize the name and amount attributes\"\"\"\n",
        "        self.name = name\n",
        "        self.amount = amount\n",
        "\n",
        "    def build_wallet(self):\n",
        "        \"\"\"This function builds the wallet of the Money Class\"\"\"\n",
        "        wallet = []\n",
        "        wallet.append(self.name)\n",
        "        wallet.append(self.amount)\n",
        "        return wallet\n",
        "\n",
        "    def print_wallet(self):\n",
        "        \"\"\"This class prints the contents of the wallet for testing purposes\"\"\"\n",
        "        print(f\"You have {self.amount} {self.name.title()} in your wallet.\")\n",
        "\n",
        "    def get_sum(self):\n",
        "        \"\"\"This function builds, adds and returns the wallet amount\"\"\"\n",
        "        sum_wallet = 0\n",
        "        sum_wallet += self.amount\n",
        "        return f\"The amount of money in your wallet is {sum_wallet}.\"\n",
        "\n",
        "print(\"Test 1: Money Class:\")\n",
        "test1 = Money('one', 1)\n",
        "print(test1.build_wallet())\n",
        "test1.print_wallet()\n",
        "test1.get_sum()"
      ],
      "metadata": {
        "colab": {
          "base_uri": "https://localhost:8080/",
          "height": 87
        },
        "id": "fOMBZoFEO-mZ",
        "outputId": "f90852e8-9cfe-48d6-ede0-45dae777699e"
      },
      "execution_count": 122,
      "outputs": [
        {
          "output_type": "stream",
          "name": "stdout",
          "text": [
            "Test 1: Money Class:\n",
            "['one', 1]\n",
            "You have 1 One in your wallet.\n"
          ]
        },
        {
          "output_type": "execute_result",
          "data": {
            "text/plain": [
              "'The amount of money in your wallet is 1.'"
            ],
            "application/vnd.google.colaboratory.intrinsic+json": {
              "type": "string"
            }
          },
          "metadata": {},
          "execution_count": 122
        }
      ]
    },
    {
      "cell_type": "code",
      "source": [
        "class Bills(Money):\n",
        "    \"\"\"A class to Model US bills\"\"\"\n",
        "\n",
        "    def __init__(self, name, amount):\n",
        "        \"\"\"Initializing the attributes of the parent class\"\"\"\n",
        "        super().__init__(name, amount)\n",
        "\n",
        "    def build_wallet(self):\n",
        "        \"\"\"This function builds the wallet of the Money Class\"\"\"\n",
        "        wallet = []\n",
        "        wallet.append(self.name)\n",
        "        wallet.append(self.amount)\n",
        "        return wallet\n",
        "\n",
        "    def print_wallet(self):\n",
        "        \"\"\"Prints the wallet, but with bills in mind\"\"\"\n",
        "        print(f\"You have {self.amount} {self.name.title()} bills in your wallet\")\n",
        "\n",
        "    def get_sum(self):\n",
        "        \"\"\"\n",
        "        This function adds and returns the amount in the wallet,\n",
        "        but with Bill Denominations in mind\n",
        "        \"\"\"\n",
        "        sum_wallet = 0\n",
        "        sum_wallet += self.amount\n",
        "        return f\"The total in your wallet is {sum_wallet}.\"\n"
      ],
      "metadata": {
        "id": "UGTZZOXmRsVO"
      },
      "execution_count": 123,
      "outputs": []
    },
    {
      "cell_type": "code",
      "source": [
        "#child of bills one\n",
        "class One(Bills):\n",
        "    \"\"\"A Class that models the one dollar bill\"\"\"\n",
        "\n",
        "    def __init__(self, amount, name= 'one'):\n",
        "        \"\"\"Initializing the attributes of the Ones class\"\"\"\n",
        "        super().__init__(name, amount)\n",
        "\n",
        "    def print_wallet(self):\n",
        "        \"\"\"Prints the wallet contents\"\"\"\n",
        "        super().print_wallet()\n",
        "\n",
        "    def get_sum(self):\n",
        "        \"\"\"This function adds and returns the amount of Ones in the wallet.\"\"\"\n",
        "        sum_wallet = 0\n",
        "        sum_wallet += self.amount\n",
        "        return f\"The cash amount of 1's in your wallet is ${sum_wallet}\"\n"
      ],
      "metadata": {
        "id": "aNp29PXuemtm"
      },
      "execution_count": 124,
      "outputs": []
    },
    {
      "cell_type": "code",
      "source": [
        "#child of bills five\n",
        "class Five(Bills):\n",
        "    \"\"\"A Class that models a Five dollar bill\"\"\"\n",
        "\n",
        "    def __init__(self, amount, name= 'five'):\n",
        "        \"\"\"Initializing the attributes of the Fives class\"\"\"\n",
        "        super().__init__(name, amount)\n",
        "\n",
        "    def get_sum(self):\n",
        "        \"\"\"Adds the amount of Fives in the wallet and returns that amount.\"\"\"\n",
        "        sum_wallet = 0\n",
        "        sum_wallet = self.amount * 5\n",
        "        return f\"The cash amount of 5's in your wallet is ${sum_wallet}.\"\n"
      ],
      "metadata": {
        "id": "jpfl5TeWetKe"
      },
      "execution_count": 125,
      "outputs": []
    },
    {
      "cell_type": "code",
      "source": [
        "#child of bills ten\n",
        "class Ten(Bills):\n",
        "    \"\"\"A Class that models a Ten Dollar bill\"\"\"\n",
        "\n",
        "    def __init__(self, amount, name= 'ten'):\n",
        "        \"\"\"Initializing the attributes of the Tens class\"\"\"\n",
        "        super().__init__(name, amount)\n",
        "\n",
        "    def get_sum(self):\n",
        "        \"\"\"Adds the amount of Tens in the wallet and returns that amount.\"\"\"\n",
        "        sum_wallet = 0\n",
        "        sum_wallet = self.amount * 10\n",
        "        return f\"The cash amount of 10's in your wallet is ${sum_wallet}.\"\n"
      ],
      "metadata": {
        "id": "0CnGR4CaewkC"
      },
      "execution_count": 126,
      "outputs": []
    },
    {
      "cell_type": "code",
      "source": [
        "class Twenty(Bills):\n",
        "    \"\"\"A Class that models a Twenty Dollar Bill\"\"\"\n",
        "\n",
        "    def __init__ (self, amount, name= \"twenty\"):\n",
        "        \"\"\"Initializing the attributes of the Twenty Class\"\"\"\n",
        "        super().__init__(name, amount)\n",
        "\n",
        "    def get_sum(self):\n",
        "        \"\"\"Adds the amount of Twentys in the wallet and returns that amount.\"\"\"\n",
        "        sum_wallet = 0\n",
        "        sum_wallet = self.amount * 20\n",
        "        return f\"The cash amount of 20's in your wallet is ${sum_wallet}.\""
      ],
      "metadata": {
        "id": "D5UakeFRnC3w"
      },
      "execution_count": 127,
      "outputs": []
    },
    {
      "cell_type": "code",
      "source": [
        "class Coins(Money):\n",
        "    \"\"\"A Class to Model US Coins\"\"\"\n",
        "    def __init__(self, name, amount):\n",
        "        super().__init__(name, amount)\n",
        "\n",
        "    def print_wallet(self):\n",
        "        \"\"\"Prints the wallet, but with coins in mind\"\"\"\n",
        "        print(f\"You have {self.amount} {self.name} in your wallet.\")\n",
        "\n",
        "    def get_sum(self):\n",
        "        \"\"\"This method adds and returns the wallet with coins in mind\"\"\"\n",
        "        sum_wallet = 0\n",
        "        sum_wallet += self.amount\n",
        "        return f\"The amount of coins in your wallet is {sum_wallet}.\"\n"
      ],
      "metadata": {
        "id": "xN3u3g-noEwi"
      },
      "execution_count": 128,
      "outputs": []
    },
    {
      "cell_type": "code",
      "source": [
        "#penny\n",
        "class Penny(Coins):\n",
        "    \"\"\"A Class that models a Penny\"\"\"\n",
        "\n",
        "    def __init__ (self, amount, name= \"penny\"):\n",
        "        \"\"\"Initializing the attributes of the Penny Class\"\"\"\n",
        "        super().__init__(name, amount)\n",
        "\n",
        "    def get_sum(self):\n",
        "        \"\"\"This method adds and returns the amount of Pennies in the wallet\"\"\"\n",
        "        sum_amount = 0\n",
        "        sum_wallet = self.amount / 100\n",
        "        return f\"The cash amount of pennies in your wallet is ${sum_wallet}\"\n"
      ],
      "metadata": {
        "id": "IegbtMtprVTa"
      },
      "execution_count": 129,
      "outputs": []
    },
    {
      "cell_type": "code",
      "source": [
        "#nickel\n",
        "class Nickel(Coins):\n",
        "    \"\"\"A Class that models a Nickel\"\"\"\n",
        "\n",
        "    def __init__ (self, amount, name= \"nickel\"):\n",
        "        \"\"\"Initializing the attributes of the Nickel Class\"\"\"\n",
        "        super().__init__(name, amount)\n",
        "\n",
        "    def get_sum(self):\n",
        "        \"\"\"This method adds and returns the amount of Nickles in the wallet\"\"\"\n",
        "        sum_amount = 0\n",
        "        sum_wallet = (self.amount / 100) * 5\n",
        "        return f\"The cash amount of nickles in your wallet is ${sum_wallet}\"\n"
      ],
      "metadata": {
        "id": "Ihx1OoGarYFn"
      },
      "execution_count": 130,
      "outputs": []
    },
    {
      "cell_type": "code",
      "source": [
        "#dime\n",
        "class Dime(Coins):\n",
        "    \"\"\"A Class that models a Dime\"\"\"\n",
        "\n",
        "    def __init__ (self, amount, name= \"dime\"):\n",
        "        \"\"\"Initializing the attributes of the Dime Class\"\"\"\n",
        "        super().__init__(name, amount)\n",
        "\n",
        "    def get_sum(self):\n",
        "        \"\"\"This method adds and returns the amount of Dimes in the wallet\"\"\"\n",
        "        sum_amount = 0\n",
        "        sum_wallet = self.amount / 10\n",
        "        return f\"The cash amount of dimes in your wallet is ${sum_wallet}\"\n"
      ],
      "metadata": {
        "id": "xLjsmzxdrZal"
      },
      "execution_count": 131,
      "outputs": []
    },
    {
      "cell_type": "code",
      "source": [
        "#quarter\n",
        "class Quarter(Coins):\n",
        "    \"\"\"A Class that models a Quarter\"\"\"\n",
        "\n",
        "    def __init__ (self, amount, name= \"quarter\"):\n",
        "        \"\"\"Initializing the attributes of the Quarter Class\"\"\"\n",
        "        super().__init__(name, amount)\n",
        "\n",
        "    def get_sum(self):\n",
        "        \"\"\"This method adds and returns the amount of Quarters in the wallet\"\"\"\n",
        "        sum_amount = 0\n",
        "        sum_wallet = (self.amount / 100) * 25\n",
        "        return f\"The cash amount of quarters in your wallet is ${sum_wallet}\"\n"
      ],
      "metadata": {
        "id": "n3ywuGBErbI-"
      },
      "execution_count": 132,
      "outputs": []
    },
    {
      "cell_type": "code",
      "source": [
        "print(\"Test 1: Money Class:\")\n",
        "test1 = Money('one', 1)\n",
        "print(test1.build_wallet())\n",
        "test1.print_wallet()\n",
        "test1.get_sum()"
      ],
      "metadata": {
        "colab": {
          "base_uri": "https://localhost:8080/",
          "height": 87
        },
        "id": "Iz5145-_-kNg",
        "outputId": "0d8ec85b-e3e1-41ed-9b47-5c1d9656e7f3"
      },
      "execution_count": 133,
      "outputs": [
        {
          "output_type": "stream",
          "name": "stdout",
          "text": [
            "Test 1: Money Class:\n",
            "['one', 1]\n",
            "You have 1 One in your wallet.\n"
          ]
        },
        {
          "output_type": "execute_result",
          "data": {
            "text/plain": [
              "'The amount of money in your wallet is 1.'"
            ],
            "application/vnd.google.colaboratory.intrinsic+json": {
              "type": "string"
            }
          },
          "metadata": {},
          "execution_count": 133
        }
      ]
    },
    {
      "cell_type": "code",
      "source": [
        "print(\"Test 2: Bills Class:\")\n",
        "test2 = Bills('bills', 10)\n",
        "print(test2.build_wallet())\n",
        "test2.print_wallet()\n",
        "test2.get_sum()"
      ],
      "metadata": {
        "colab": {
          "base_uri": "https://localhost:8080/",
          "height": 87
        },
        "id": "xMaEiHIf-lQR",
        "outputId": "624fc668-1ad6-48d9-f7b4-e292d503d9a1"
      },
      "execution_count": 134,
      "outputs": [
        {
          "output_type": "stream",
          "name": "stdout",
          "text": [
            "Test 2: Bills Class:\n",
            "['bills', 10]\n",
            "You have 10 Bills bills in your wallet\n"
          ]
        },
        {
          "output_type": "execute_result",
          "data": {
            "text/plain": [
              "'The total in your wallet is 10.'"
            ],
            "application/vnd.google.colaboratory.intrinsic+json": {
              "type": "string"
            }
          },
          "metadata": {},
          "execution_count": 134
        }
      ]
    },
    {
      "cell_type": "code",
      "source": [
        "print(\"Test 3: Ones Class:\")\n",
        "test3 = One(36)\n",
        "print(test3.build_wallet())\n",
        "test3.print_wallet()\n",
        "test3.get_sum()"
      ],
      "metadata": {
        "colab": {
          "base_uri": "https://localhost:8080/",
          "height": 87
        },
        "id": "Kc_scHDG_Eum",
        "outputId": "b3155dd9-6c01-471e-975a-b269a07bef4d"
      },
      "execution_count": 135,
      "outputs": [
        {
          "output_type": "stream",
          "name": "stdout",
          "text": [
            "Test 3: Ones Class:\n",
            "['one', 36]\n",
            "You have 36 One bills in your wallet\n"
          ]
        },
        {
          "output_type": "execute_result",
          "data": {
            "text/plain": [
              "\"The cash amount of 1's in your wallet is $36\""
            ],
            "application/vnd.google.colaboratory.intrinsic+json": {
              "type": "string"
            }
          },
          "metadata": {},
          "execution_count": 135
        }
      ]
    },
    {
      "cell_type": "code",
      "source": [
        "print(\"Test 4: Fives Class:\")\n",
        "test4 = Five(27)\n",
        "print(test4.build_wallet())\n",
        "test4.print_wallet()\n",
        "test4.get_sum()"
      ],
      "metadata": {
        "colab": {
          "base_uri": "https://localhost:8080/",
          "height": 87
        },
        "id": "2aFR3whZ_pzj",
        "outputId": "97850027-e39c-4bf6-e758-fb3ee48b0e3b"
      },
      "execution_count": 136,
      "outputs": [
        {
          "output_type": "stream",
          "name": "stdout",
          "text": [
            "Test 4: Fives Class:\n",
            "['five', 27]\n",
            "You have 27 Five bills in your wallet\n"
          ]
        },
        {
          "output_type": "execute_result",
          "data": {
            "text/plain": [
              "\"The cash amount of 5's in your wallet is $135.\""
            ],
            "application/vnd.google.colaboratory.intrinsic+json": {
              "type": "string"
            }
          },
          "metadata": {},
          "execution_count": 136
        }
      ]
    },
    {
      "cell_type": "code",
      "source": [
        "print(\"Test 5: Tens Class:\")\n",
        "test5 = Ten(5)\n",
        "print(test5.build_wallet())\n",
        "test5.print_wallet()\n",
        "test5.get_sum()"
      ],
      "metadata": {
        "colab": {
          "base_uri": "https://localhost:8080/",
          "height": 87
        },
        "id": "AD9XMVOUAKbu",
        "outputId": "4d9f021a-c768-4b6c-b82c-72c41437a71f"
      },
      "execution_count": 137,
      "outputs": [
        {
          "output_type": "stream",
          "name": "stdout",
          "text": [
            "Test 5: Tens Class:\n",
            "['ten', 5]\n",
            "You have 5 Ten bills in your wallet\n"
          ]
        },
        {
          "output_type": "execute_result",
          "data": {
            "text/plain": [
              "\"The cash amount of 10's in your wallet is $50.\""
            ],
            "application/vnd.google.colaboratory.intrinsic+json": {
              "type": "string"
            }
          },
          "metadata": {},
          "execution_count": 137
        }
      ]
    },
    {
      "cell_type": "code",
      "source": [
        "print(\"Test 6: Twenties Class:\")\n",
        "test6 = Twenty(99)\n",
        "print(test6.build_wallet())\n",
        "test6.print_wallet()\n",
        "test6.get_sum()"
      ],
      "metadata": {
        "colab": {
          "base_uri": "https://localhost:8080/",
          "height": 87
        },
        "id": "4DP4Z1YLAf6l",
        "outputId": "257341d9-efdc-4856-c756-ed61b83451b3"
      },
      "execution_count": 138,
      "outputs": [
        {
          "output_type": "stream",
          "name": "stdout",
          "text": [
            "Test 6: Twenties Class:\n",
            "['twenty', 99]\n",
            "You have 99 Twenty bills in your wallet\n"
          ]
        },
        {
          "output_type": "execute_result",
          "data": {
            "text/plain": [
              "\"The cash amount of 20's in your wallet is $1980.\""
            ],
            "application/vnd.google.colaboratory.intrinsic+json": {
              "type": "string"
            }
          },
          "metadata": {},
          "execution_count": 138
        }
      ]
    },
    {
      "cell_type": "code",
      "source": [
        "print(\"Test 7: Coins Class:\")\n",
        "test7 = Coins('coin', 7)\n",
        "print(test7.build_wallet())\n",
        "test7.print_wallet()\n",
        "test7.get_sum()"
      ],
      "metadata": {
        "id": "RCS6Ch8UArs7",
        "colab": {
          "base_uri": "https://localhost:8080/",
          "height": 87
        },
        "outputId": "58377398-27ae-453c-f172-7952b4b55e94"
      },
      "execution_count": 143,
      "outputs": [
        {
          "output_type": "stream",
          "name": "stdout",
          "text": [
            "Test 7: Coins Class:\n",
            "['coin', 7]\n",
            "You have 7 coin in your wallet.\n"
          ]
        },
        {
          "output_type": "execute_result",
          "data": {
            "text/plain": [
              "'The amount of coins in your wallet is 7.'"
            ],
            "application/vnd.google.colaboratory.intrinsic+json": {
              "type": "string"
            }
          },
          "metadata": {},
          "execution_count": 143
        }
      ]
    },
    {
      "cell_type": "code",
      "source": [
        "print(\"Test 8: Penny Class:\")\n",
        "test8 = Penny(700)\n",
        "print(test8.build_wallet())\n",
        "test8.print_wallet()\n",
        "test8.get_sum()"
      ],
      "metadata": {
        "colab": {
          "base_uri": "https://localhost:8080/",
          "height": 87
        },
        "id": "Ejgt9ELNBWb6",
        "outputId": "69003e9b-43d4-4ec5-8370-d885357cfca4"
      },
      "execution_count": 144,
      "outputs": [
        {
          "output_type": "stream",
          "name": "stdout",
          "text": [
            "Test 8: Penny Class:\n",
            "['penny', 700]\n",
            "You have 700 penny in your wallet.\n"
          ]
        },
        {
          "output_type": "execute_result",
          "data": {
            "text/plain": [
              "'The cash amount of pennies in your wallet is $7.0'"
            ],
            "application/vnd.google.colaboratory.intrinsic+json": {
              "type": "string"
            }
          },
          "metadata": {},
          "execution_count": 144
        }
      ]
    },
    {
      "cell_type": "code",
      "source": [
        "print(\"Test 9: Nickel Class:\")\n",
        "test9 = Nickel(29)\n",
        "print(test9.build_wallet())\n",
        "test9.print_wallet()\n",
        "test9.get_sum()"
      ],
      "metadata": {
        "colab": {
          "base_uri": "https://localhost:8080/",
          "height": 87
        },
        "id": "iAwmtjVJBhvZ",
        "outputId": "a7f1f681-da2e-4850-e403-08a5409471f8"
      },
      "execution_count": 145,
      "outputs": [
        {
          "output_type": "stream",
          "name": "stdout",
          "text": [
            "Test 9: Nickel Class:\n",
            "['nickel', 29]\n",
            "You have 29 nickel in your wallet.\n"
          ]
        },
        {
          "output_type": "execute_result",
          "data": {
            "text/plain": [
              "'The cash amount of nickles in your wallet is $1.45'"
            ],
            "application/vnd.google.colaboratory.intrinsic+json": {
              "type": "string"
            }
          },
          "metadata": {},
          "execution_count": 145
        }
      ]
    },
    {
      "cell_type": "code",
      "source": [
        "print(\"Test 10: Dime Class:\")\n",
        "test10 = Dime(37)\n",
        "print(test10.build_wallet())\n",
        "test10.print_wallet()\n",
        "test10.get_sum()"
      ],
      "metadata": {
        "colab": {
          "base_uri": "https://localhost:8080/",
          "height": 87
        },
        "id": "JCmVrsX_Brjk",
        "outputId": "3e780a03-e24c-48d7-9d51-1b9c46c75232"
      },
      "execution_count": 146,
      "outputs": [
        {
          "output_type": "stream",
          "name": "stdout",
          "text": [
            "Test 10: Dime Class:\n",
            "['dime', 37]\n",
            "You have 37 dime in your wallet.\n"
          ]
        },
        {
          "output_type": "execute_result",
          "data": {
            "text/plain": [
              "'The cash amount of dimes in your wallet is $3.7'"
            ],
            "application/vnd.google.colaboratory.intrinsic+json": {
              "type": "string"
            }
          },
          "metadata": {},
          "execution_count": 146
        }
      ]
    },
    {
      "cell_type": "code",
      "source": [
        "print(\"Test 11: Quarter Class:\")\n",
        "test11 = Quarter(601)\n",
        "print(test11.build_wallet())\n",
        "test11.print_wallet()\n",
        "test11.get_sum()"
      ],
      "metadata": {
        "colab": {
          "base_uri": "https://localhost:8080/",
          "height": 87
        },
        "id": "U6NFrUh-B4bx",
        "outputId": "edb4798d-6253-4583-8e2f-d53257f927b6"
      },
      "execution_count": 147,
      "outputs": [
        {
          "output_type": "stream",
          "name": "stdout",
          "text": [
            "Test 11: Quarter Class:\n",
            "['quarter', 601]\n",
            "You have 601 quarter in your wallet.\n"
          ]
        },
        {
          "output_type": "execute_result",
          "data": {
            "text/plain": [
              "'The cash amount of quarters in your wallet is $150.25'"
            ],
            "application/vnd.google.colaboratory.intrinsic+json": {
              "type": "string"
            }
          },
          "metadata": {},
          "execution_count": 147
        }
      ]
    }
  ]
}