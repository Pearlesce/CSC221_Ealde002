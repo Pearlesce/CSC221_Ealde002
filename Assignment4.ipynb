{
  "nbformat": 4,
  "nbformat_minor": 0,
  "metadata": {
    "colab": {
      "provenance": [],
      "authorship_tag": "ABX9TyMGn6LXug0IaNsQ/tKEnYUW",
      "include_colab_link": true
    },
    "kernelspec": {
      "name": "python3",
      "display_name": "Python 3"
    },
    "language_info": {
      "name": "python"
    }
  },
  "cells": [
    {
      "cell_type": "markdown",
      "metadata": {
        "id": "view-in-github",
        "colab_type": "text"
      },
      "source": [
        "<a href=\"https://colab.research.google.com/github/Pearlesce/CSC221_Ealde002/blob/main/Assignment4.ipynb\" target=\"_parent\"><img src=\"https://colab.research.google.com/assets/colab-badge.svg\" alt=\"Open In Colab\"/></a>"
      ]
    },
    {
      "cell_type": "markdown",
      "source": [
        "Read through Crash Ch. 3 and work through it as a Colab like we did in class. You will \"hand in\" a big Colab called Assignment4.ipynb that I can just run from your GitHub.\n",
        "\n",
        "Try the examples as shown through in the text.\n",
        "\n",
        "Try the Try It Yourself challenges.\n",
        "\n",
        "Use your knowledge of list comprehension to solve the following problems:\n",
        "\n",
        "Print the cubes of all of the integers that are a multiple of 7 between 60 and 85\n",
        "\n",
        "Compute y = 7.4x + 51 for the set of values 40, 50, 120, -8, and 6."
      ],
      "metadata": {
        "id": "1fhOipvAA16M"
      }
    },
    {
      "cell_type": "code",
      "execution_count": 1,
      "metadata": {
        "id": "pp2q_qYdAuXC",
        "colab": {
          "base_uri": "https://localhost:8080/"
        },
        "outputId": "a5837f0c-2235-4e87-f641-a12faf35a60d"
      },
      "outputs": [
        {
          "output_type": "stream",
          "name": "stdout",
          "text": [
            "['trek', 'cannondale', 'redline', 'specialized']\n"
          ]
        }
      ],
      "source": [
        "#In-Text Examples\n",
        "bicycles = ['trek', 'cannondale', 'redline', 'specialized']\n",
        "print(bicycles)"
      ]
    },
    {
      "cell_type": "code",
      "source": [
        "print(bicycles[0])"
      ],
      "metadata": {
        "colab": {
          "base_uri": "https://localhost:8080/"
        },
        "id": "hwTlnvC0Gehv",
        "outputId": "5f2fbd87-32e9-496b-e541-9109f5a9167a"
      },
      "execution_count": 2,
      "outputs": [
        {
          "output_type": "stream",
          "name": "stdout",
          "text": [
            "trek\n"
          ]
        }
      ]
    },
    {
      "cell_type": "code",
      "source": [
        "print(bicycles[0].title())"
      ],
      "metadata": {
        "colab": {
          "base_uri": "https://localhost:8080/"
        },
        "id": "LbnhbiEuGoDI",
        "outputId": "ddd7116e-26de-4dce-bdbb-42c00d17ac98"
      },
      "execution_count": 3,
      "outputs": [
        {
          "output_type": "stream",
          "name": "stdout",
          "text": [
            "Trek\n"
          ]
        }
      ]
    },
    {
      "cell_type": "code",
      "source": [
        "print(bicycles[1])\n",
        "print(bicycles[3])"
      ],
      "metadata": {
        "colab": {
          "base_uri": "https://localhost:8080/"
        },
        "id": "uYQWLeFrGvAV",
        "outputId": "c8c75747-9c8f-44ee-ae1c-55776fd54d4d"
      },
      "execution_count": 4,
      "outputs": [
        {
          "output_type": "stream",
          "name": "stdout",
          "text": [
            "cannondale\n",
            "specialized\n"
          ]
        }
      ]
    },
    {
      "cell_type": "code",
      "source": [
        "print(bicycles[-1])"
      ],
      "metadata": {
        "colab": {
          "base_uri": "https://localhost:8080/"
        },
        "id": "pmM6wvg_HEqV",
        "outputId": "2057f4fd-377f-4348-f6ce-218b1a77e396"
      },
      "execution_count": 5,
      "outputs": [
        {
          "output_type": "stream",
          "name": "stdout",
          "text": [
            "specialized\n"
          ]
        }
      ]
    },
    {
      "cell_type": "code",
      "source": [
        "message = f\"My first bicycle was a {bicycles[0].title()}.\"\n",
        "print(message)"
      ],
      "metadata": {
        "colab": {
          "base_uri": "https://localhost:8080/"
        },
        "id": "CDUfQH6DHKsf",
        "outputId": "dd4829c4-c85d-483e-cc70-a0f2e2d619e1"
      },
      "execution_count": 6,
      "outputs": [
        {
          "output_type": "stream",
          "name": "stdout",
          "text": [
            "My first bicycle was a Trek.\n"
          ]
        }
      ]
    },
    {
      "cell_type": "code",
      "source": [
        "#Try It Yourself Exercises\n",
        "names = ['Nic', 'Nys', 'Evie', 'Randa', 'Guinners', 'Murphy']\n",
        "print(names[0])\n",
        "print(names[1])\n",
        "print(names[2])\n",
        "print(names[3])\n",
        "print(names[4])\n",
        "print(names[5])"
      ],
      "metadata": {
        "colab": {
          "base_uri": "https://localhost:8080/"
        },
        "id": "LEtD8PzEHe4y",
        "outputId": "dd0eae6b-16af-408d-9a03-5ece0cc3e9e4"
      },
      "execution_count": 7,
      "outputs": [
        {
          "output_type": "stream",
          "name": "stdout",
          "text": [
            "Nic\n",
            "Nys\n",
            "Evie\n",
            "Randa\n",
            "Guinners\n",
            "Murphy\n"
          ]
        }
      ]
    },
    {
      "cell_type": "code",
      "source": [
        "print(f\"My partner is Australian. His name is\",names[0])\n",
        "print(f\"My twin loves frogs. She's named\", names[1])\n",
        "print(f\"This fancy lady hooked Nic and I up! Introducing\", names[2])\n",
        "print(f\"Time for my older sister! Her name is\", names[3])\n",
        "print(f\"Time for the doggos! The oldest one is named after beer, but I call him\", names[4])\n",
        "print(f\"The last doggo no one wanted at first. He grew on everyone eventually. Here's\", names[5])"
      ],
      "metadata": {
        "colab": {
          "base_uri": "https://localhost:8080/"
        },
        "id": "G3akVNQNIULS",
        "outputId": "6133e19e-593e-49af-a1c6-65ff8a1ecff1"
      },
      "execution_count": 15,
      "outputs": [
        {
          "output_type": "stream",
          "name": "stdout",
          "text": [
            "My partner is Australian. His name is Nic\n",
            "My twin loves frogs. She's named Nys\n",
            "This fancy lady hooked Nic and I up! Introducing Evie\n",
            "Time for my older sister! Her name is Randa\n",
            "Time for the doggos! The oldest one is named after beer, but I call him Guinners\n",
            "The last doggo no one wanted at first. He grew on everyone eventually. Here's Murphy\n"
          ]
        }
      ]
    },
    {
      "cell_type": "code",
      "source": [
        "cars = ['Ford Focus', 'Chevy Impala','Scion TC', 'Subaru Forester', 'Tesla']\n",
        "print(f\"The first car I ever drove was a\", cars[0])\n",
        "print(f\"My favorite car growing up, which I finally got in 2020, was a\", cars[2])\n",
        "print(f\"After that, my mom owned a\", cars[1])\n",
        "print(f\"The next car I want to own is an early model\", cars[-1])\n",
        "print(f\"My mom's newest vehicle is\", cars[-2])"
      ],
      "metadata": {
        "colab": {
          "base_uri": "https://localhost:8080/"
        },
        "id": "4EOdF1l9KD0O",
        "outputId": "5cb15ea8-8b94-4573-9dbd-4e2b1338c243"
      },
      "execution_count": 16,
      "outputs": [
        {
          "output_type": "stream",
          "name": "stdout",
          "text": [
            "The first car I ever drove was a Ford Focus\n",
            "My favorite car growing up, which I finally got in 2020, was a Scion TC\n",
            "After that, my mom owned a Chevy Impala\n",
            "The next car I want to own is an early model Tesla\n",
            "My mom's newest vehicle is Subaru Forester\n"
          ]
        }
      ]
    },
    {
      "cell_type": "code",
      "source": [
        "#More In-Text Examples"
      ],
      "metadata": {
        "id": "ceset-oOLyPw"
      },
      "execution_count": null,
      "outputs": []
    },
    {
      "cell_type": "code",
      "source": [
        "motorcycles = ['honda', 'yamaha', 'suzuki']\n",
        "print(motorcycles)"
      ],
      "metadata": {
        "colab": {
          "base_uri": "https://localhost:8080/"
        },
        "id": "UFOY2QAaL12e",
        "outputId": "76e21b1e-9145-49e7-fecc-571aaf930855"
      },
      "execution_count": 17,
      "outputs": [
        {
          "output_type": "stream",
          "name": "stdout",
          "text": [
            "['honda', 'yamaha', 'suzuki']\n"
          ]
        }
      ]
    },
    {
      "cell_type": "code",
      "source": [
        "motorcycles[0] = 'ducati'\n",
        "print(motorcycles)"
      ],
      "metadata": {
        "colab": {
          "base_uri": "https://localhost:8080/"
        },
        "id": "tLdKJyLAQUMo",
        "outputId": "5f0d5a8d-cc73-4bd0-a2f8-3addfaeef21a"
      },
      "execution_count": 18,
      "outputs": [
        {
          "output_type": "stream",
          "name": "stdout",
          "text": [
            "['ducati', 'yamaha', 'suzuki']\n"
          ]
        }
      ]
    },
    {
      "cell_type": "code",
      "source": [
        "motorcycles.append('ducati')\n",
        "print(motorcycles)"
      ],
      "metadata": {
        "colab": {
          "base_uri": "https://localhost:8080/"
        },
        "id": "wiznEu0fQiD5",
        "outputId": "b4995b6c-54b7-4fd6-8084-ec73f6e711e7"
      },
      "execution_count": 19,
      "outputs": [
        {
          "output_type": "stream",
          "name": "stdout",
          "text": [
            "['ducati', 'yamaha', 'suzuki', 'ducati']\n"
          ]
        }
      ]
    },
    {
      "cell_type": "code",
      "source": [
        "motorcycles = []\n",
        "motorcycles.append('honda')\n",
        "motorcycles.append('yamaha')\n",
        "motorcycles.append('suzuki')\n",
        "print(motorcycles)"
      ],
      "metadata": {
        "colab": {
          "base_uri": "https://localhost:8080/"
        },
        "id": "CAJvFRW5Qtdk",
        "outputId": "ab059145-15cb-4876-b163-76334854a9aa"
      },
      "execution_count": 20,
      "outputs": [
        {
          "output_type": "stream",
          "name": "stdout",
          "text": [
            "['honda', 'yamaha', 'suzuki']\n"
          ]
        }
      ]
    },
    {
      "cell_type": "code",
      "source": [
        "motorcycles = ['honda', 'yamaha', 'suzuki']\n",
        "motorcycles.insert(0, 'ducati')\n",
        "print(motorcycles)"
      ],
      "metadata": {
        "colab": {
          "base_uri": "https://localhost:8080/"
        },
        "id": "CLBEXW8FRW9O",
        "outputId": "d67702fe-fa62-4198-a6f9-af658ff5b30a"
      },
      "execution_count": 24,
      "outputs": [
        {
          "output_type": "stream",
          "name": "stdout",
          "text": [
            "['ducati', 'honda', 'yamaha', 'suzuki']\n"
          ]
        }
      ]
    },
    {
      "cell_type": "code",
      "source": [
        "motorcycles = ['honda', 'yamaha', 'suzuki']\n",
        "del motorcycles[0]\n",
        "print(motorcycles)"
      ],
      "metadata": {
        "colab": {
          "base_uri": "https://localhost:8080/"
        },
        "id": "8fkPttmSRj3X",
        "outputId": "eea693e9-f88c-4847-dcbf-7e2be8c1b188"
      },
      "execution_count": 26,
      "outputs": [
        {
          "output_type": "stream",
          "name": "stdout",
          "text": [
            "['yamaha', 'suzuki']\n"
          ]
        }
      ]
    },
    {
      "cell_type": "code",
      "source": [
        "motorcycles = ['honda', 'yamaha', 'suzuki']\n",
        "print(motorcycles)\n",
        "popped_motorcycle = motorcycles.pop()\n",
        "print(motorcycles)\n",
        "print(popped_motorcycle)"
      ],
      "metadata": {
        "colab": {
          "base_uri": "https://localhost:8080/"
        },
        "id": "FPX1d665SuEb",
        "outputId": "5016798a-e92c-410c-b32b-38848485056a"
      },
      "execution_count": 27,
      "outputs": [
        {
          "output_type": "stream",
          "name": "stdout",
          "text": [
            "['honda', 'yamaha', 'suzuki']\n",
            "['honda', 'yamaha']\n",
            "suzuki\n"
          ]
        }
      ]
    },
    {
      "cell_type": "code",
      "source": [
        "motorcycles = ['honda', 'yamaha', 'suzuki']\n",
        "last_owned = motorcycles.pop()\n",
        "print(f\"The last motorcycle I owned was a {last_owned.title()}.\")"
      ],
      "metadata": {
        "colab": {
          "base_uri": "https://localhost:8080/"
        },
        "id": "mTM5JNaKTWZt",
        "outputId": "a00bf100-e2e1-413d-cfb4-ef0b162bd642"
      },
      "execution_count": 28,
      "outputs": [
        {
          "output_type": "stream",
          "name": "stdout",
          "text": [
            "The last motorcycle I owned was a Suzuki.\n"
          ]
        }
      ]
    },
    {
      "cell_type": "code",
      "source": [
        "motorcycles = ['honda', 'yamaha', 'suzuki']\n",
        "first_owned = motorcycles.pop(0)\n",
        "print(f\"The first motorcycle I owned was a {first_owned.title()}.\")"
      ],
      "metadata": {
        "colab": {
          "base_uri": "https://localhost:8080/"
        },
        "id": "Dk0UmiFOT7di",
        "outputId": "21a5ba00-ae2b-4ac8-a6a1-0ac9e8a52b53"
      },
      "execution_count": 29,
      "outputs": [
        {
          "output_type": "stream",
          "name": "stdout",
          "text": [
            "The first motorcycle I owned was a Honda.\n"
          ]
        }
      ]
    },
    {
      "cell_type": "code",
      "source": [
        "motorcycles = ['honda', 'yamaha', 'suzuki', 'ducati']\n",
        "print(motorcycles)\n",
        "motorcycles.remove('ducati')\n",
        "print(motorcycles)"
      ],
      "metadata": {
        "colab": {
          "base_uri": "https://localhost:8080/"
        },
        "id": "xkBF2QPDU1px",
        "outputId": "cea201d5-7aa7-4c84-b257-0b74f7f08851"
      },
      "execution_count": 31,
      "outputs": [
        {
          "output_type": "stream",
          "name": "stdout",
          "text": [
            "['honda', 'yamaha', 'suzuki', 'ducati']\n",
            "['honda', 'yamaha', 'suzuki']\n"
          ]
        }
      ]
    },
    {
      "cell_type": "code",
      "source": [
        "motorcycles = ['honda', 'yamaha', 'suzuki', 'ducati']\n",
        "print(motorcycles)\n",
        "too_expensive = 'ducati'\n",
        "motorcycles.remove(too_expensive)\n",
        "print(motorcycles)\n",
        "print(f\"\\nA {too_expensive.title()} is too expensive for me.\")"
      ],
      "metadata": {
        "colab": {
          "base_uri": "https://localhost:8080/"
        },
        "id": "N5dTyqOXVZlO",
        "outputId": "4140c705-afb1-409e-ec74-a8377ce0e0ea"
      },
      "execution_count": 32,
      "outputs": [
        {
          "output_type": "stream",
          "name": "stdout",
          "text": [
            "['honda', 'yamaha', 'suzuki', 'ducati']\n",
            "['honda', 'yamaha', 'suzuki']\n",
            "\n",
            "A Ducati is too expensive for me.\n"
          ]
        }
      ]
    },
    {
      "cell_type": "code",
      "source": [
        "#Try It Yourself Exercises\n",
        "guest_list1 = ['Alan Rickman', 'Robbie Coltrane', 'Helen McCrory', 'Leslie Phillips']\n",
        "print(f\"Mr. {guest_list1[0]}, you're cordially invited to my Dinner Party!\")\n",
        "print(f\"Mr. {guest_list1[1]}, you're cordially invited to my Dinner Party!\")\n",
        "print(f\"Mrs. {guest_list1[2]}, you're cordially invited to my Dinner Party!\")\n",
        "print(f\"Mr. {guest_list1[3]}, you're cordially invited to my Dinner Party\")"
      ],
      "metadata": {
        "colab": {
          "base_uri": "https://localhost:8080/"
        },
        "id": "DbVIbkNVV8xs",
        "outputId": "671ba50e-3de2-4115-a123-977041079a77"
      },
      "execution_count": 46,
      "outputs": [
        {
          "output_type": "stream",
          "name": "stdout",
          "text": [
            "Mr. Alan Rickman, you're cordially invited to my Dinner Party!\n",
            "Mr. Robbie Coltrane, you're cordially invited to my Dinner Party!\n",
            "Mrs. Helen McCrory, you're cordially invited to my Dinner Party!\n",
            "Mr. Leslie Phillips, you're cordially invited to my Dinner Party\n"
          ]
        }
      ]
    },
    {
      "cell_type": "code",
      "source": [
        "guest_list2 = guest_list1\n",
        "no_show = guest_list1.pop()\n",
        "print(f\"Unfortunately, Mr. {no_show} can't make it, tonight\")\n",
        "guest_list2.append('Robert Knox')\n",
        "print(f\"Mr. {guest_list2[0]}, you're cordially invited to my Revival Dinner Party!\")\n",
        "print(f\"Mr. {guest_list2[1]}, you're cordially invited to my Revival Dinner Party!\")\n",
        "print(f\"Mrs. {guest_list2[2]}, you're cordially invited to my Revival Dinner Party!\")\n",
        "print(f\"Mr. {guest_list2[3]}, you're cordially invited to my Revival Dinner Party\")"
      ],
      "metadata": {
        "colab": {
          "base_uri": "https://localhost:8080/"
        },
        "id": "6XJalj6TYDaA",
        "outputId": "75b5557e-b70f-4c68-b25d-389d7926cfb4"
      },
      "execution_count": 48,
      "outputs": [
        {
          "output_type": "stream",
          "name": "stdout",
          "text": [
            "Unfortunately, Mr. Robert Knox can't make it, tonight\n",
            "Mr. Alan Rickman, you're cordially invited to my Revival Dinner Party!\n",
            "Mr. Robbie Coltrane, you're cordially invited to my Revival Dinner Party!\n",
            "Mrs. Helen McCrory, you're cordially invited to my Revival Dinner Party!\n",
            "Mr. Robert Knox, you're cordially invited to my Revival Dinner Party\n"
          ]
        }
      ]
    },
    {
      "cell_type": "code",
      "source": [
        "print(\"We've found a bigger table!\")\n",
        "guest_list3 = guest_list2\n",
        "guest_list3.insert(0, \"Daniel Radcliff\")\n",
        "guest_list3.insert(2, \"Tom Felton\")\n",
        "guest_list3.append(\"Ralph Fiennes\")\n",
        "print(f\"Hello {guest_list3[0]}, you're cordially invited to my Revival Reunion Dinner party\")\n",
        "print(f\"Hello {guest_list3[1]}, you're cordially invited to my Revival Reunion Dinner party\")\n",
        "print(f\"Hello {guest_list3[2]}, you're cordially invited to my Revival Reunion Dinner party\")\n",
        "print(f\"Hello {guest_list3[3]}, you're cordially invited to my Revival Reunion Dinner party\")\n",
        "print(f\"Hello {guest_list3[4]}, you're cordially invited to my Revival Reunion Dinner party\")\n",
        "print(f\"Hello {guest_list3[5]}, you're cordially invited to my Revival Reunion Dinner party\")\n",
        "print(f\"Hello {guest_list3[6]}, you're cordially invited to my Revival Reunion Dinner party\")"
      ],
      "metadata": {
        "colab": {
          "base_uri": "https://localhost:8080/"
        },
        "id": "cZvHxeOJdr0p",
        "outputId": "8fedabb1-fce2-4037-b944-15f56854f301"
      },
      "execution_count": 49,
      "outputs": [
        {
          "output_type": "stream",
          "name": "stdout",
          "text": [
            "We've found a bigger table!\n",
            "Hello Daniel Radcliff, you're cordially invited to my Revival Reunion Dinner party\n",
            "Hello Alan Rickman, you're cordially invited to my Revival Reunion Dinner party\n",
            "Hello Tom Felton, you're cordially invited to my Revival Reunion Dinner party\n",
            "Hello Robbie Coltrane, you're cordially invited to my Revival Reunion Dinner party\n",
            "Hello Helen McCrory, you're cordially invited to my Revival Reunion Dinner party\n",
            "Hello Robert Knox, you're cordially invited to my Revival Reunion Dinner party\n",
            "Hello Ralph Fiennes, you're cordially invited to my Revival Reunion Dinner party\n"
          ]
        }
      ]
    },
    {
      "cell_type": "code",
      "source": [
        "guest_list4 = guest_list3\n",
        "not_invited = guest_list4.pop()\n",
        "print(f\"I'm sorry, {not_invited}, but I'm unable to provide you with dinner.\")\n",
        "not_invited = guest_list4.pop()\n",
        "print(f\"I'm sorry, {not_invited}, but I'm unable to provide you with dinner.\")\n",
        "not_invited = guest_list4.pop()\n",
        "print(f\"I'm sorry, {not_invited}, but I'm unable to provide you with dinner.\")\n",
        "not_invited = guest_list4.pop(0)\n",
        "print(f\"I'm sorry, {not_invited}, but I'm unable to provide you with dinner.\")\n",
        "not_invited = guest_list4.pop(1)\n",
        "print(f\"I'm sorry, {not_invited}, but I'm unable to provide you with dinner.\")\n",
        "print(f\"You're invited to the Revival Dinner Party, {guest_list4[0]}!\")\n",
        "print(f\"You're invited to the Revival Dinner Party, {guest_list4[1]}!\")\n",
        "del guest_list4[0]\n",
        "del guest_list4[0]\n",
        "print(guest_list4)"
      ],
      "metadata": {
        "colab": {
          "base_uri": "https://localhost:8080/"
        },
        "id": "szVGRwVjflPw",
        "outputId": "2bd30056-9ae6-495a-94ef-d1e677846b3d"
      },
      "execution_count": 50,
      "outputs": [
        {
          "output_type": "stream",
          "name": "stdout",
          "text": [
            "I'm sorry, Ralph Fiennes, but I'm unable to provide you with dinner.\n",
            "I'm sorry, Robert Knox, but I'm unable to provide you with dinner.\n",
            "I'm sorry, Helen McCrory, but I'm unable to provide you with dinner.\n",
            "I'm sorry, Daniel Radcliff, but I'm unable to provide you with dinner.\n",
            "I'm sorry, Tom Felton, but I'm unable to provide you with dinner.\n",
            "You're invited to the Revival Dinner Party, Alan Rickman!\n",
            "You're invited to the Revival Dinner Party, Robbie Coltrane!\n",
            "[]\n"
          ]
        }
      ]
    },
    {
      "cell_type": "code",
      "source": [
        "#More In-Text Examples"
      ],
      "metadata": {
        "id": "ZVooMNQkjlA1"
      },
      "execution_count": null,
      "outputs": []
    },
    {
      "cell_type": "code",
      "source": [
        "cars = ['bmw', 'audi', 'toyota', 'subaru']\n",
        "cars.sort()\n",
        "print(cars)"
      ],
      "metadata": {
        "colab": {
          "base_uri": "https://localhost:8080/"
        },
        "id": "oMhjwXj_jsY5",
        "outputId": "16ebbd83-69be-437b-deea-2c94158b6c8d"
      },
      "execution_count": 51,
      "outputs": [
        {
          "output_type": "stream",
          "name": "stdout",
          "text": [
            "['audi', 'bmw', 'subaru', 'toyota']\n"
          ]
        }
      ]
    },
    {
      "cell_type": "code",
      "source": [
        "cars.sort(reverse = True)\n",
        "print(cars)"
      ],
      "metadata": {
        "colab": {
          "base_uri": "https://localhost:8080/"
        },
        "id": "TwTCT_9oks87",
        "outputId": "9c14c5a2-aad6-4a9c-e2d4-f783ebd9de13"
      },
      "execution_count": 52,
      "outputs": [
        {
          "output_type": "stream",
          "name": "stdout",
          "text": [
            "['toyota', 'subaru', 'bmw', 'audi']\n"
          ]
        }
      ]
    },
    {
      "cell_type": "code",
      "source": [
        "cars = ['bmw', 'audi', 'toyota', 'subaru']\n",
        "print(\"Here is the original list: \")\n",
        "print(cars)\n",
        "print(\"\\nHere is the sorted list: \")\n",
        "print(sorted(cars))\n",
        "print(\"\\nHere is the original list again: \")\n",
        "print(cars)"
      ],
      "metadata": {
        "colab": {
          "base_uri": "https://localhost:8080/"
        },
        "id": "18MVcPsUk1Sm",
        "outputId": "9ba72a6b-143a-4605-df5c-51e360866f23"
      },
      "execution_count": 53,
      "outputs": [
        {
          "output_type": "stream",
          "name": "stdout",
          "text": [
            "Here is the original list: \n",
            "['bmw', 'audi', 'toyota', 'subaru']\n",
            "\n",
            "Here is the sorted list: \n",
            "['audi', 'bmw', 'subaru', 'toyota']\n",
            "\n",
            "Here is the original list again: \n",
            "['bmw', 'audi', 'toyota', 'subaru']\n"
          ]
        }
      ]
    },
    {
      "cell_type": "code",
      "source": [
        "cars.reverse()\n",
        "print(cars)"
      ],
      "metadata": {
        "colab": {
          "base_uri": "https://localhost:8080/"
        },
        "id": "6h86Zwk_nZGK",
        "outputId": "104b09e4-a45c-4df8-e5c1-fc1a2fb641bd"
      },
      "execution_count": 54,
      "outputs": [
        {
          "output_type": "stream",
          "name": "stdout",
          "text": [
            "['subaru', 'toyota', 'audi', 'bmw']\n"
          ]
        }
      ]
    },
    {
      "cell_type": "code",
      "source": [
        "len(cars)"
      ],
      "metadata": {
        "colab": {
          "base_uri": "https://localhost:8080/"
        },
        "id": "L3sDUdXqnf6Q",
        "outputId": "06bb520c-b970-4c36-b655-c288dc5c78f1"
      },
      "execution_count": 55,
      "outputs": [
        {
          "output_type": "execute_result",
          "data": {
            "text/plain": [
              "4"
            ]
          },
          "metadata": {},
          "execution_count": 55
        }
      ]
    },
    {
      "cell_type": "code",
      "source": [
        "#Try It Yourself Exersices\n",
        "want_to_visit = ['london', 'dublin', 'sydney', 'paris', 'wellington']\n",
        "print(want_to_visit)\n",
        "print(sorted(want_to_visit))\n",
        "print(want_to_visit)\n",
        "print(sorted(want_to_visit, reverse = True))\n",
        "print(want_to_visit)\n",
        "want_to_visit.reverse()\n",
        "print(want_to_visit)\n",
        "want_to_visit.reverse()\n",
        "print(want_to_visit)\n",
        "want_to_visit.sort()\n",
        "print(want_to_visit)\n",
        "want_to_visit.sort(reverse = True)\n",
        "print(want_to_visit)"
      ],
      "metadata": {
        "colab": {
          "base_uri": "https://localhost:8080/"
        },
        "id": "6sTS0mwonkjq",
        "outputId": "3b435fe9-03ba-46b6-9145-d15a954f7a32"
      },
      "execution_count": 56,
      "outputs": [
        {
          "output_type": "stream",
          "name": "stdout",
          "text": [
            "['london', 'dublin', 'sydney', 'paris', 'wellington']\n",
            "['dublin', 'london', 'paris', 'sydney', 'wellington']\n",
            "['london', 'dublin', 'sydney', 'paris', 'wellington']\n",
            "['wellington', 'sydney', 'paris', 'london', 'dublin']\n",
            "['london', 'dublin', 'sydney', 'paris', 'wellington']\n",
            "['wellington', 'paris', 'sydney', 'dublin', 'london']\n",
            "['london', 'dublin', 'sydney', 'paris', 'wellington']\n",
            "['dublin', 'london', 'paris', 'sydney', 'wellington']\n",
            "['wellington', 'sydney', 'paris', 'london', 'dublin']\n"
          ]
        }
      ]
    },
    {
      "cell_type": "code",
      "source": [
        "guest_list1 = ['Alan Rickman', 'Robbie Coltrane', 'Helen McCrory', 'Leslie Phillips']\n",
        "len(guest_list1)"
      ],
      "metadata": {
        "colab": {
          "base_uri": "https://localhost:8080/"
        },
        "id": "iwfE3Z0aqFHh",
        "outputId": "24fa9bcd-6912-4f5f-e2d0-ad03f89cf1a0"
      },
      "execution_count": 59,
      "outputs": [
        {
          "output_type": "execute_result",
          "data": {
            "text/plain": [
              "4"
            ]
          },
          "metadata": {},
          "execution_count": 59
        }
      ]
    },
    {
      "cell_type": "code",
      "source": [
        "every_function = ['mountains', 'rivers', 'countries', 'cities', 'languages']\n",
        "print(every_function)\n",
        "print(every_function[2])\n",
        "print(every_function[1].title())\n",
        "every_function.append('religions')\n",
        "print(every_function)\n",
        "every_function.insert(0, 'ages')\n",
        "print(every_function)\n",
        "del every_function[0]\n",
        "print(every_function)\n",
        "every_function.pop()\n",
        "print(every_function)\n",
        "every_function.remove('languages')\n",
        "print(every_function)\n",
        "print(sorted(every_function))\n",
        "every_function.sort(reverse = True)\n",
        "print(every_function)\n",
        "len(every_function)"
      ],
      "metadata": {
        "colab": {
          "base_uri": "https://localhost:8080/"
        },
        "id": "EdoNA5Dfqibw",
        "outputId": "d8161c01-f000-47b8-d1fb-d4d8028487e1"
      },
      "execution_count": 60,
      "outputs": [
        {
          "output_type": "stream",
          "name": "stdout",
          "text": [
            "['mountains', 'rivers', 'countries', 'cities', 'languages']\n",
            "countries\n",
            "Rivers\n",
            "['mountains', 'rivers', 'countries', 'cities', 'languages', 'religions']\n",
            "['ages', 'mountains', 'rivers', 'countries', 'cities', 'languages', 'religions']\n",
            "['mountains', 'rivers', 'countries', 'cities', 'languages', 'religions']\n",
            "['mountains', 'rivers', 'countries', 'cities', 'languages']\n",
            "['mountains', 'rivers', 'countries', 'cities']\n",
            "['cities', 'countries', 'mountains', 'rivers']\n",
            "['rivers', 'mountains', 'countries', 'cities']\n"
          ]
        },
        {
          "output_type": "execute_result",
          "data": {
            "text/plain": [
              "4"
            ]
          },
          "metadata": {},
          "execution_count": 60
        }
      ]
    },
    {
      "cell_type": "code",
      "source": [
        "#Making an index error for Try It Yourself\n",
        "print(every_function)\n",
        "print(every_function[4])"
      ],
      "metadata": {
        "colab": {
          "base_uri": "https://localhost:8080/",
          "height": 227
        },
        "id": "l4UR5bFGtURE",
        "outputId": "fab36b27-bf8a-4454-fa3b-7800feee4b27"
      },
      "execution_count": 61,
      "outputs": [
        {
          "output_type": "stream",
          "name": "stdout",
          "text": [
            "['rivers', 'mountains', 'countries', 'cities']\n"
          ]
        },
        {
          "output_type": "error",
          "ename": "IndexError",
          "evalue": "ignored",
          "traceback": [
            "\u001b[0;31m---------------------------------------------------------------------------\u001b[0m",
            "\u001b[0;31mIndexError\u001b[0m                                Traceback (most recent call last)",
            "\u001b[0;32m<ipython-input-61-5b4ddf6d5364>\u001b[0m in \u001b[0;36m<cell line: 3>\u001b[0;34m()\u001b[0m\n\u001b[1;32m      1\u001b[0m \u001b[0;31m#Making an error\u001b[0m\u001b[0;34m\u001b[0m\u001b[0;34m\u001b[0m\u001b[0m\n\u001b[1;32m      2\u001b[0m \u001b[0mprint\u001b[0m\u001b[0;34m(\u001b[0m\u001b[0mevery_function\u001b[0m\u001b[0;34m)\u001b[0m\u001b[0;34m\u001b[0m\u001b[0;34m\u001b[0m\u001b[0m\n\u001b[0;32m----> 3\u001b[0;31m \u001b[0mprint\u001b[0m\u001b[0;34m(\u001b[0m\u001b[0mevery_function\u001b[0m\u001b[0;34m[\u001b[0m\u001b[0;36m4\u001b[0m\u001b[0;34m]\u001b[0m\u001b[0;34m)\u001b[0m\u001b[0;34m\u001b[0m\u001b[0;34m\u001b[0m\u001b[0m\n\u001b[0m",
            "\u001b[0;31mIndexError\u001b[0m: list index out of range"
          ]
        }
      ]
    },
    {
      "cell_type": "code",
      "source": [
        "#Print the cubes of all of the integers that are a multiple of 7 between 60 and 85\n",
        "r1 = list(range(60, 85))\n",
        "print(r1)\n",
        "r2 = r1\n",
        "print(r2)\n",
        "r2 [0:3] = []\n",
        "print(r2)\n",
        "r3 = list(range(63, 85, 7))\n",
        "print(r3)\n",
        "cubes = [x ** 3 for x in r3]\n",
        "print(cubes)"
      ],
      "metadata": {
        "colab": {
          "base_uri": "https://localhost:8080/"
        },
        "id": "qTMKiw4at-Fy",
        "outputId": "7dd311c1-c271-4c30-8445-65bfb81bc3a2"
      },
      "execution_count": 85,
      "outputs": [
        {
          "output_type": "stream",
          "name": "stdout",
          "text": [
            "[60, 61, 62, 63, 64, 65, 66, 67, 68, 69, 70, 71, 72, 73, 74, 75, 76, 77, 78, 79, 80, 81, 82, 83, 84]\n",
            "[60, 61, 62, 63, 64, 65, 66, 67, 68, 69, 70, 71, 72, 73, 74, 75, 76, 77, 78, 79, 80, 81, 82, 83, 84]\n",
            "[63, 64, 65, 66, 67, 68, 69, 70, 71, 72, 73, 74, 75, 76, 77, 78, 79, 80, 81, 82, 83, 84]\n",
            "[63, 70, 77, 84]\n",
            "[250047, 343000, 456533, 592704]\n"
          ]
        }
      ]
    },
    {
      "cell_type": "code",
      "source": [
        "#Compute y = 7.4x + 51 for the set of values 40, 50, 120, -8, and 6\n",
        "compute = {40, 50, 120, -8, 6}\n",
        "print(compute)\n",
        "answers = set()\n",
        "for x in compute:\n",
        "  y = (7.4 * x) + 51\n",
        "  answers.add(y)\n",
        "print(answers)"
      ],
      "metadata": {
        "colab": {
          "base_uri": "https://localhost:8080/"
        },
        "id": "ANN21b_35PfX",
        "outputId": "c3b03f69-f780-48cf-f44c-7f21034f7dd8"
      },
      "execution_count": 90,
      "outputs": [
        {
          "output_type": "stream",
          "name": "stdout",
          "text": [
            "{50, 6, 40, -8, 120}\n",
            "{421.0, 939.0, -8.200000000000003, 347.0, 95.4}\n"
          ]
        }
      ]
    }
  ]
}