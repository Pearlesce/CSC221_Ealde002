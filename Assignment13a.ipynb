{
  "nbformat": 4,
  "nbformat_minor": 0,
  "metadata": {
    "colab": {
      "provenance": [],
      "authorship_tag": "ABX9TyN5Te8l7mQJwxGM2aM3eBWC",
      "include_colab_link": true
    },
    "kernelspec": {
      "name": "python3",
      "display_name": "Python 3"
    },
    "language_info": {
      "name": "python"
    }
  },
  "cells": [
    {
      "cell_type": "markdown",
      "metadata": {
        "id": "view-in-github",
        "colab_type": "text"
      },
      "source": [
        "<a href=\"https://colab.research.google.com/github/Pearlesce/CSC221_Ealde002/blob/main/Assignment13a.ipynb\" target=\"_parent\"><img src=\"https://colab.research.google.com/assets/colab-badge.svg\" alt=\"Open In Colab\"/></a>"
      ]
    },
    {
      "cell_type": "markdown",
      "source": [
        "Liz Alden\n",
        "\n",
        "Assignment 13: Fun with Files\n",
        "\n",
        "Do 10-1 and 10-4 TIY in the book\n",
        "\n",
        "Do the parser exersize."
      ],
      "metadata": {
        "id": "PY8ajsLcxN0H"
      }
    },
    {
      "cell_type": "code",
      "source": [
        "#Try It Yourself 10-1\n",
        "\n",
        "%%file learning_python.txt\n",
        "I learned the python language\n",
        "I learned to be confident writing programs"
      ],
      "metadata": {
        "id": "Tm2lNqSrxofK",
        "colab": {
          "base_uri": "https://localhost:8080/"
        },
        "outputId": "40ce8a8d-1c48-4dbb-b94c-264940957cb2"
      },
      "execution_count": 1,
      "outputs": [
        {
          "output_type": "stream",
          "name": "stdout",
          "text": [
            "Writing learning_python.txt\n"
          ]
        }
      ]
    },
    {
      "cell_type": "code",
      "source": [
        "file = open('learning_python.txt', 'r')\n",
        "list_to_print = []\n",
        "while line := file.readline():\n",
        "    print(line)\n",
        "    line = line.strip()\n",
        "    fields = line.split(\" \")\n",
        "    print(fields)"
      ],
      "metadata": {
        "colab": {
          "base_uri": "https://localhost:8080/"
        },
        "id": "m_7iHKvSYlxA",
        "outputId": "54e97218-c694-4fc7-c282-e468dd7f4f1c"
      },
      "execution_count": 2,
      "outputs": [
        {
          "output_type": "stream",
          "name": "stdout",
          "text": [
            "I learned the python language\n",
            "\n",
            "['I', 'learned', 'the', 'python', 'language']\n",
            "I learned to be confident writing programs\n",
            "\n",
            "['I', 'learned', 'to', 'be', 'confident', 'writing', 'programs']\n"
          ]
        }
      ]
    },
    {
      "cell_type": "code",
      "source": [
        "#Try It Yourself 10-4\n",
        "\n",
        "%%file guest.txt\n",
        "What is your name?"
      ],
      "metadata": {
        "id": "4StVODrpyMqR",
        "colab": {
          "base_uri": "https://localhost:8080/"
        },
        "outputId": "5c6b978f-240d-4132-80f2-112156467955"
      },
      "execution_count": 3,
      "outputs": [
        {
          "output_type": "stream",
          "name": "stdout",
          "text": [
            "Writing guest.txt\n"
          ]
        }
      ]
    },
    {
      "cell_type": "code",
      "source": [
        "name = input(\"What is your name?\")\n",
        "file = open('guest.txt', 'w')\n",
        "file.write(name)\n",
        "file.close()\n"
      ],
      "metadata": {
        "colab": {
          "base_uri": "https://localhost:8080/"
        },
        "id": "7xsoRt_M7Fnz",
        "outputId": "dd85a7ca-09ce-4807-99d6-b933eed061b7"
      },
      "execution_count": 4,
      "outputs": [
        {
          "name": "stdout",
          "output_type": "stream",
          "text": [
            "What is your name?andy\n"
          ]
        }
      ]
    },
    {
      "cell_type": "code",
      "source": [
        "file = open('guest.txt', 'r')\n",
        "line = file.readline()\n",
        "print(line)"
      ],
      "metadata": {
        "colab": {
          "base_uri": "https://localhost:8080/"
        },
        "id": "bcpXndq173dN",
        "outputId": "46550e90-dd95-45cb-dc23-435d7e05d24d"
      },
      "execution_count": 5,
      "outputs": [
        {
          "output_type": "stream",
          "name": "stdout",
          "text": [
            "andy\n"
          ]
        }
      ]
    },
    {
      "cell_type": "markdown",
      "source": [
        "File Parsing Exersize\n",
        "\n",
        "For the parsing exersize, check Assignment13b.ipynb in my github repository"
      ],
      "metadata": {
        "id": "vQreaOIbyRNK"
      }
    },
    {
      "cell_type": "code",
      "source": [],
      "metadata": {
        "id": "F7felXOlycg3"
      },
      "execution_count": null,
      "outputs": []
    }
  ]
}