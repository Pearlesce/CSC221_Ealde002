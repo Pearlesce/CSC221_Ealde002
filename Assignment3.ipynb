{
  "nbformat": 4,
  "nbformat_minor": 0,
  "metadata": {
    "colab": {
      "provenance": [],
      "authorship_tag": "ABX9TyNyNjZy0ynqogeTNKnbO14O",
      "include_colab_link": true
    },
    "kernelspec": {
      "name": "python3",
      "display_name": "Python 3"
    },
    "language_info": {
      "name": "python"
    }
  },
  "cells": [
    {
      "cell_type": "markdown",
      "metadata": {
        "id": "view-in-github",
        "colab_type": "text"
      },
      "source": [
        "<a href=\"https://colab.research.google.com/github/Pearlesce/CSC221_Ealde002/blob/main/Assignment3.ipynb\" target=\"_parent\"><img src=\"https://colab.research.google.com/assets/colab-badge.svg\" alt=\"Open In Colab\"/></a>"
      ]
    },
    {
      "cell_type": "code",
      "source": [
        "print(\"Hello Python world!\")"
      ],
      "metadata": {
        "colab": {
          "base_uri": "https://localhost:8080/"
        },
        "id": "AKvsIjdLwCCz",
        "outputId": "e2a62b56-b263-4d49-d3d7-9c64eb3c5051"
      },
      "execution_count": 39,
      "outputs": [
        {
          "output_type": "stream",
          "name": "stdout",
          "text": [
            "Hello Python world!\n"
          ]
        }
      ]
    },
    {
      "cell_type": "code",
      "source": [
        "message = \"Hello Python world\"\n",
        "print(message)\n",
        "message = \"Hello Python Crash Course world!\"\n",
        "print(message)"
      ],
      "metadata": {
        "colab": {
          "base_uri": "https://localhost:8080/"
        },
        "id": "84JQcjHNwML3",
        "outputId": "cce40a8a-1ea2-4d72-9af6-a22a42e92acb"
      },
      "execution_count": 42,
      "outputs": [
        {
          "output_type": "stream",
          "name": "stdout",
          "text": [
            "Hello Python world\n",
            "Hello Python Crash Course world!\n"
          ]
        }
      ]
    },
    {
      "cell_type": "code",
      "source": [
        "mesage = \"Hello Python Crash Course reader!\"\n",
        "print(mesage)"
      ],
      "metadata": {
        "colab": {
          "base_uri": "https://localhost:8080/"
        },
        "id": "WAfsfeDnwlpE",
        "outputId": "2cb323a1-675f-471d-ceb7-a91aa8929415"
      },
      "execution_count": 43,
      "outputs": [
        {
          "output_type": "stream",
          "name": "stdout",
          "text": [
            "Hello Python Crash Course reader!\n"
          ]
        }
      ]
    },
    {
      "cell_type": "code",
      "execution_count": 1,
      "metadata": {
        "colab": {
          "base_uri": "https://localhost:8080/"
        },
        "id": "JI2SncB6lT1G",
        "outputId": "88193193-520d-4581-f9ef-2794cd5a11d8"
      },
      "outputs": [
        {
          "output_type": "stream",
          "name": "stdout",
          "text": [
            "How was your day, Professor?\n"
          ]
        }
      ],
      "source": [
        "#Try it\n",
        "simple_message_1 = \"How was your day, Professor?\"\n",
        "print(simple_message_1)"
      ]
    },
    {
      "cell_type": "code",
      "source": [
        "#Try it\n",
        "simple_message_2 = \"This class is about Java!\"\n",
        "print(simple_message_2)\n",
        "simple_message_2 = \"This class is about Python!\"\n",
        "print(simple_message_2)"
      ],
      "metadata": {
        "colab": {
          "base_uri": "https://localhost:8080/"
        },
        "id": "ehWYF3L0mMEF",
        "outputId": "78ac7a45-a4a3-4c2e-9d0d-40ce44e335b8"
      },
      "execution_count": 3,
      "outputs": [
        {
          "output_type": "stream",
          "name": "stdout",
          "text": [
            "This class is about Java!\n",
            "This class is about Python!\n"
          ]
        }
      ]
    },
    {
      "cell_type": "code",
      "source": [
        "name = \"ada lovelace\"\n",
        "print(name.title())"
      ],
      "metadata": {
        "colab": {
          "base_uri": "https://localhost:8080/"
        },
        "id": "dRpmDJXyxAJt",
        "outputId": "f7f0a0e3-5653-4093-aaf3-4300d7e53aae"
      },
      "execution_count": 44,
      "outputs": [
        {
          "output_type": "stream",
          "name": "stdout",
          "text": [
            "Ada Lovelace\n"
          ]
        }
      ]
    },
    {
      "cell_type": "code",
      "source": [
        "name = \"Ada Lovelace\"\n",
        "print(name.upper())\n",
        "print(name.lower())"
      ],
      "metadata": {
        "colab": {
          "base_uri": "https://localhost:8080/"
        },
        "id": "RUXOg33jxL_O",
        "outputId": "96cdebd5-54bc-4930-94fa-e8aab460b4de"
      },
      "execution_count": 45,
      "outputs": [
        {
          "output_type": "stream",
          "name": "stdout",
          "text": [
            "ADA LOVELACE\n",
            "ada lovelace\n"
          ]
        }
      ]
    },
    {
      "cell_type": "code",
      "source": [
        "first_name = \"ada\"\n",
        "last_name = \"lovelace\"\n",
        "full_name = f\"{first_name} {last_name}\"\n",
        "print(full_name)\n",
        "print(f\"Hello, {full_name.title()}!\")\n",
        "message = (f\"Hello, {full_name.title()}!\")\n",
        "print(message)"
      ],
      "metadata": {
        "colab": {
          "base_uri": "https://localhost:8080/"
        },
        "id": "FpmOZsDoxaVW",
        "outputId": "792c3aaa-b2d0-4922-b4f8-192a739e8f15"
      },
      "execution_count": 51,
      "outputs": [
        {
          "output_type": "stream",
          "name": "stdout",
          "text": [
            "ada lovelace\n",
            "Hello, Ada Lovelace!\n",
            "Hello, Ada Lovelace!\n"
          ]
        }
      ]
    },
    {
      "cell_type": "code",
      "source": [
        "print(\"Python\")\n",
        "print(\"\\tPython\")\n",
        "print(\"Languages:\\nPython\\nC\\nJavaScript\")\n",
        "print(\"Languages:\\n\\tPython\\n\\tC\\n\\tJavaScript\")"
      ],
      "metadata": {
        "colab": {
          "base_uri": "https://localhost:8080/"
        },
        "id": "U7EhNNqAyY0h",
        "outputId": "72e4067e-8baf-494b-cbce-411e6d0418b4"
      },
      "execution_count": 54,
      "outputs": [
        {
          "output_type": "stream",
          "name": "stdout",
          "text": [
            "Python\n",
            "\tPython\n",
            "Languages:\n",
            "Python\n",
            "C\n",
            "JavaScript\n",
            "Languages:\n",
            "\tPython\n",
            "\tC\n",
            "\tJavaScript\n"
          ]
        }
      ]
    },
    {
      "cell_type": "code",
      "source": [
        "favorite_language = 'python   '\n",
        "print(favorite_language)\n",
        "print(favorite_language.rstrip())\n",
        "favorite_language = favorite_language.rstrip()\n",
        "print(favorite_language)"
      ],
      "metadata": {
        "colab": {
          "base_uri": "https://localhost:8080/"
        },
        "id": "roCX8HUZzzcu",
        "outputId": "ca638312-15b1-4672-fd36-7cd8a1eda71e"
      },
      "execution_count": 61,
      "outputs": [
        {
          "output_type": "stream",
          "name": "stdout",
          "text": [
            "python   \n",
            "python\n",
            "python\n"
          ]
        }
      ]
    },
    {
      "cell_type": "code",
      "source": [
        "favorite_language = '  python'\n",
        "print(favorite_language)\n",
        "print(favorite_language.lstrip())\n",
        "favorite_language = favorite_language.lstrip()\n",
        "print(favorite_language)"
      ],
      "metadata": {
        "colab": {
          "base_uri": "https://localhost:8080/"
        },
        "id": "4y4nuryKy-HK",
        "outputId": "ae81f394-75f6-495c-e278-c24edaf5114a"
      },
      "execution_count": 60,
      "outputs": [
        {
          "output_type": "stream",
          "name": "stdout",
          "text": [
            "  python\n",
            "python\n",
            "python\n"
          ]
        }
      ]
    },
    {
      "cell_type": "code",
      "source": [
        "nostarch_url = 'https://nostarch.com'\n",
        "nostarch_url.removeprefix('https://')\n",
        "simple_url = nostarch_url.removeprefix('https://')\n",
        "print(simple_url)"
      ],
      "metadata": {
        "colab": {
          "base_uri": "https://localhost:8080/"
        },
        "id": "HM5sgZAS0APz",
        "outputId": "31eec923-6f41-4bc6-aad2-c3e13312d5c2"
      },
      "execution_count": 66,
      "outputs": [
        {
          "output_type": "stream",
          "name": "stdout",
          "text": [
            "nostarch.com\n"
          ]
        }
      ]
    },
    {
      "cell_type": "code",
      "source": [
        "message_apostrophy = \"One of Python's strengths is its diverse community.\"\n",
        "print(message_apostrophy)\n",
        "#the following is an example of bad code\n",
        "#message_apostrophy2 = 'One of Python's strengths is its diverse community.'"
      ],
      "metadata": {
        "colab": {
          "base_uri": "https://localhost:8080/"
        },
        "id": "1dVCViYN0tMP",
        "outputId": "ecf9c089-3b57-4449-9a60-7978daa4a375"
      },
      "execution_count": 67,
      "outputs": [
        {
          "output_type": "stream",
          "name": "stdout",
          "text": [
            "One of Python's strengths is its diverse community.\n"
          ]
        }
      ]
    },
    {
      "cell_type": "code",
      "source": [
        "#Try it\n",
        "name_1 = \"Juno\"\n",
        "print(f\"I don't have a friend named {name_1}\")"
      ],
      "metadata": {
        "colab": {
          "base_uri": "https://localhost:8080/"
        },
        "id": "DqDaede0mjhp",
        "outputId": "e521334b-5b54-42b4-f4a6-a6da11c6a8c6"
      },
      "execution_count": 9,
      "outputs": [
        {
          "output_type": "stream",
          "name": "stdout",
          "text": [
            "I don't have a friend named Juno\n"
          ]
        }
      ]
    },
    {
      "cell_type": "code",
      "source": [
        "#Try it\n",
        "name_2_first = \"adrian\"\n",
        "name_2_last = \"grey\"\n",
        "name_2_full_name = f\"{name_2_first} {name_2_last}\"\n",
        "print(name_2_full_name.title())\n",
        "print(name_2_full_name.upper())\n",
        "print(name_2_full_name.lower())"
      ],
      "metadata": {
        "colab": {
          "base_uri": "https://localhost:8080/"
        },
        "id": "SeaHL5tYoJQQ",
        "outputId": "169999e2-4db3-4e94-d6b7-ade98740ee74"
      },
      "execution_count": 10,
      "outputs": [
        {
          "output_type": "stream",
          "name": "stdout",
          "text": [
            "Adrian Grey\n",
            "ADRIAN GREY\n",
            "adrian grey\n"
          ]
        }
      ]
    },
    {
      "cell_type": "code",
      "source": [
        "#Try it\n",
        "print(f'JRR Tolkien once said, \"All that is gold does not glitter.\"')"
      ],
      "metadata": {
        "colab": {
          "base_uri": "https://localhost:8080/"
        },
        "id": "k6XYIU_ApFre",
        "outputId": "c8236c79-8e8c-4e80-9384-8661234b93e2"
      },
      "execution_count": 14,
      "outputs": [
        {
          "output_type": "stream",
          "name": "stdout",
          "text": [
            "JRR Tolkien once said, \"All that is gold does not glitter.\"\n"
          ]
        }
      ]
    },
    {
      "cell_type": "code",
      "source": [
        "#Try it\n",
        "famous_person = \"JRR Tolkien\"\n",
        "message_quote = \"All that is gold does not glitter.\"\n",
        "print(f'{famous_person} once said, \"{message_quote}\"')"
      ],
      "metadata": {
        "colab": {
          "base_uri": "https://localhost:8080/"
        },
        "id": "yDd-ZJ0oqXE2",
        "outputId": "c61d2b22-6b84-476e-be33-ef7438b2f6bc"
      },
      "execution_count": 49,
      "outputs": [
        {
          "output_type": "stream",
          "name": "stdout",
          "text": [
            "JRR Tolkien once said, \"All that is gold does not glitter.\"\n"
          ]
        }
      ]
    },
    {
      "cell_type": "code",
      "source": [
        "#Try it\n",
        "name_3 = '\\tAndrew\\nSmith    '\n",
        "print(name_3)\n",
        "print(name_3.strip())\n",
        "print(name_3.lstrip())\n",
        "print(name_3.rstrip())"
      ],
      "metadata": {
        "colab": {
          "base_uri": "https://localhost:8080/"
        },
        "id": "_rKMk9rArDLB",
        "outputId": "ae5046f4-fde3-4dfb-b193-6f25ec600e0f"
      },
      "execution_count": 21,
      "outputs": [
        {
          "output_type": "stream",
          "name": "stdout",
          "text": [
            "\tAndrew\n",
            "Smith    \n",
            "Andrew\n",
            "Smith\n",
            "Andrew\n",
            "Smith    \n",
            "\tAndrew\n",
            "Smith\n"
          ]
        }
      ]
    },
    {
      "cell_type": "code",
      "source": [
        "#Try it\n",
        "filename = 'python_notes.txt'\n",
        "filename.removesuffix('.txt')\n"
      ],
      "metadata": {
        "colab": {
          "base_uri": "https://localhost:8080/",
          "height": 35
        },
        "id": "l2zxo59rsZIU",
        "outputId": "1e9c0cc0-bf41-41fd-e780-b1db381f0df7"
      },
      "execution_count": 35,
      "outputs": [
        {
          "output_type": "execute_result",
          "data": {
            "text/plain": [
              "'python_notes'"
            ],
            "application/vnd.google.colaboratory.intrinsic+json": {
              "type": "string"
            }
          },
          "metadata": {},
          "execution_count": 35
        }
      ]
    },
    {
      "cell_type": "code",
      "source": [
        "2 + 3"
      ],
      "metadata": {
        "colab": {
          "base_uri": "https://localhost:8080/"
        },
        "id": "LdCYky151b9X",
        "outputId": "610dd110-174b-426a-8067-494f8a4a24f9"
      },
      "execution_count": 73,
      "outputs": [
        {
          "output_type": "execute_result",
          "data": {
            "text/plain": [
              "5"
            ]
          },
          "metadata": {},
          "execution_count": 73
        }
      ]
    },
    {
      "cell_type": "code",
      "source": [
        "3 - 2"
      ],
      "metadata": {
        "colab": {
          "base_uri": "https://localhost:8080/"
        },
        "id": "LLMUS-Hf2txM",
        "outputId": "5445df9f-94e8-48d5-a9d6-b6e4d15d9de9"
      },
      "execution_count": 74,
      "outputs": [
        {
          "output_type": "execute_result",
          "data": {
            "text/plain": [
              "1"
            ]
          },
          "metadata": {},
          "execution_count": 74
        }
      ]
    },
    {
      "cell_type": "code",
      "source": [
        "2 * 3"
      ],
      "metadata": {
        "colab": {
          "base_uri": "https://localhost:8080/"
        },
        "id": "h-ZvmvpJ2toH",
        "outputId": "2d55075b-e8c3-4824-d8af-d40695ca4ba2"
      },
      "execution_count": 75,
      "outputs": [
        {
          "output_type": "execute_result",
          "data": {
            "text/plain": [
              "6"
            ]
          },
          "metadata": {},
          "execution_count": 75
        }
      ]
    },
    {
      "cell_type": "code",
      "source": [
        "3 / 2"
      ],
      "metadata": {
        "colab": {
          "base_uri": "https://localhost:8080/"
        },
        "id": "aeDoyAVi2tTn",
        "outputId": "58c29393-ce4f-40cb-e3ca-73519856d830"
      },
      "execution_count": 81,
      "outputs": [
        {
          "output_type": "execute_result",
          "data": {
            "text/plain": [
              "1.5"
            ]
          },
          "metadata": {},
          "execution_count": 81
        }
      ]
    },
    {
      "cell_type": "code",
      "source": [
        "3 ** 2"
      ],
      "metadata": {
        "colab": {
          "base_uri": "https://localhost:8080/"
        },
        "id": "sBpTz-PQ2ZMw",
        "outputId": "7c315d28-330c-4e51-934d-05ed5b081e0c"
      },
      "execution_count": 80,
      "outputs": [
        {
          "output_type": "execute_result",
          "data": {
            "text/plain": [
              "9"
            ]
          },
          "metadata": {},
          "execution_count": 80
        }
      ]
    },
    {
      "cell_type": "code",
      "source": [
        "3 ** 3"
      ],
      "metadata": {
        "colab": {
          "base_uri": "https://localhost:8080/"
        },
        "id": "yhNlibHZ2ZDq",
        "outputId": "c8e6c3de-5350-4ddb-8e5b-4c089708cbc5"
      },
      "execution_count": 79,
      "outputs": [
        {
          "output_type": "execute_result",
          "data": {
            "text/plain": [
              "27"
            ]
          },
          "metadata": {},
          "execution_count": 79
        }
      ]
    },
    {
      "cell_type": "code",
      "source": [
        "10 ** 6"
      ],
      "metadata": {
        "colab": {
          "base_uri": "https://localhost:8080/"
        },
        "id": "Fie2od9z2Y6i",
        "outputId": "1aedb617-47c6-4391-f540-2cdb14d0d49c"
      },
      "execution_count": 78,
      "outputs": [
        {
          "output_type": "execute_result",
          "data": {
            "text/plain": [
              "1000000"
            ]
          },
          "metadata": {},
          "execution_count": 78
        }
      ]
    },
    {
      "cell_type": "code",
      "source": [
        "2 + (3 * 4)"
      ],
      "metadata": {
        "colab": {
          "base_uri": "https://localhost:8080/"
        },
        "id": "n3vqRzK52Yuw",
        "outputId": "d6f54783-655f-4dcd-9972-d28321f3fc27"
      },
      "execution_count": 77,
      "outputs": [
        {
          "output_type": "execute_result",
          "data": {
            "text/plain": [
              "14"
            ]
          },
          "metadata": {},
          "execution_count": 77
        }
      ]
    },
    {
      "cell_type": "code",
      "source": [
        "(2 + 3) * 4"
      ],
      "metadata": {
        "colab": {
          "base_uri": "https://localhost:8080/"
        },
        "id": "vaNrUnLS2YZs",
        "outputId": "8bd4b78d-f10a-44c3-c2d7-043f1167898f"
      },
      "execution_count": 76,
      "outputs": [
        {
          "output_type": "execute_result",
          "data": {
            "text/plain": [
              "20"
            ]
          },
          "metadata": {},
          "execution_count": 76
        }
      ]
    },
    {
      "cell_type": "code",
      "source": [
        "0.1 + 0.1"
      ],
      "metadata": {
        "colab": {
          "base_uri": "https://localhost:8080/"
        },
        "id": "U0vk5Dd525rz",
        "outputId": "b8ec1968-849c-4079-d945-83e81acff704"
      },
      "execution_count": 82,
      "outputs": [
        {
          "output_type": "execute_result",
          "data": {
            "text/plain": [
              "0.2"
            ]
          },
          "metadata": {},
          "execution_count": 82
        }
      ]
    },
    {
      "cell_type": "code",
      "source": [
        "0.2 + 0.2"
      ],
      "metadata": {
        "colab": {
          "base_uri": "https://localhost:8080/"
        },
        "id": "9M2t5nUi269_",
        "outputId": "adda6a75-6757-4971-b284-bd32e2dead18"
      },
      "execution_count": 87,
      "outputs": [
        {
          "output_type": "execute_result",
          "data": {
            "text/plain": [
              "0.4"
            ]
          },
          "metadata": {},
          "execution_count": 87
        }
      ]
    },
    {
      "cell_type": "code",
      "source": [
        "2 * 0.1"
      ],
      "metadata": {
        "colab": {
          "base_uri": "https://localhost:8080/"
        },
        "id": "u3gadmLQ28RP",
        "outputId": "0e3ba60e-68fb-4b34-84da-d44f450077e0"
      },
      "execution_count": 86,
      "outputs": [
        {
          "output_type": "execute_result",
          "data": {
            "text/plain": [
              "0.2"
            ]
          },
          "metadata": {},
          "execution_count": 86
        }
      ]
    },
    {
      "cell_type": "code",
      "source": [
        "2 * 0.2"
      ],
      "metadata": {
        "colab": {
          "base_uri": "https://localhost:8080/"
        },
        "id": "kPmCgVf028kW",
        "outputId": "952eef37-3d58-495c-ffe6-e7040afc9e5d"
      },
      "execution_count": 85,
      "outputs": [
        {
          "output_type": "execute_result",
          "data": {
            "text/plain": [
              "0.4"
            ]
          },
          "metadata": {},
          "execution_count": 85
        }
      ]
    },
    {
      "cell_type": "code",
      "source": [
        "0.2 + 0.1"
      ],
      "metadata": {
        "colab": {
          "base_uri": "https://localhost:8080/"
        },
        "id": "g2adLX5y29VM",
        "outputId": "1f1c4c24-46b2-4871-d776-0249fe1eae2b"
      },
      "execution_count": 84,
      "outputs": [
        {
          "output_type": "execute_result",
          "data": {
            "text/plain": [
              "0.30000000000000004"
            ]
          },
          "metadata": {},
          "execution_count": 84
        }
      ]
    },
    {
      "cell_type": "code",
      "source": [
        "3 * 0.1"
      ],
      "metadata": {
        "colab": {
          "base_uri": "https://localhost:8080/"
        },
        "id": "-nurvVix29qS",
        "outputId": "f9cd5274-30e4-47f5-f1b1-45815c5aae2b"
      },
      "execution_count": 83,
      "outputs": [
        {
          "output_type": "execute_result",
          "data": {
            "text/plain": [
              "0.30000000000000004"
            ]
          },
          "metadata": {},
          "execution_count": 83
        }
      ]
    },
    {
      "cell_type": "code",
      "source": [
        "4 / 2"
      ],
      "metadata": {
        "colab": {
          "base_uri": "https://localhost:8080/"
        },
        "id": "0cKeV0WS3Qkr",
        "outputId": "fd654e5e-6bbe-402e-ca2d-4d873cdd7100"
      },
      "execution_count": 88,
      "outputs": [
        {
          "output_type": "execute_result",
          "data": {
            "text/plain": [
              "2.0"
            ]
          },
          "metadata": {},
          "execution_count": 88
        }
      ]
    },
    {
      "cell_type": "code",
      "source": [
        "1 + 2.0"
      ],
      "metadata": {
        "colab": {
          "base_uri": "https://localhost:8080/"
        },
        "id": "bmwy_8DG3Ren",
        "outputId": "bc8bf228-fe6a-4a58-89a8-db528a79b67a"
      },
      "execution_count": 89,
      "outputs": [
        {
          "output_type": "execute_result",
          "data": {
            "text/plain": [
              "3.0"
            ]
          },
          "metadata": {},
          "execution_count": 89
        }
      ]
    },
    {
      "cell_type": "code",
      "source": [
        "2 * 3.0"
      ],
      "metadata": {
        "colab": {
          "base_uri": "https://localhost:8080/"
        },
        "id": "Pwc9JzuR3SFs",
        "outputId": "8d39c8a7-793a-49cc-ec2e-262b7c6841ed"
      },
      "execution_count": 90,
      "outputs": [
        {
          "output_type": "execute_result",
          "data": {
            "text/plain": [
              "6.0"
            ]
          },
          "metadata": {},
          "execution_count": 90
        }
      ]
    },
    {
      "cell_type": "code",
      "source": [
        "3.0 ** 2"
      ],
      "metadata": {
        "colab": {
          "base_uri": "https://localhost:8080/"
        },
        "id": "bpbB2GHv3Scj",
        "outputId": "3cfbc5ac-0f12-4a51-d6d2-f63834105581"
      },
      "execution_count": 91,
      "outputs": [
        {
          "output_type": "execute_result",
          "data": {
            "text/plain": [
              "9.0"
            ]
          },
          "metadata": {},
          "execution_count": 91
        }
      ]
    },
    {
      "cell_type": "code",
      "source": [
        "universe_age = 14_000_000_000\n",
        "print(universe_age)"
      ],
      "metadata": {
        "colab": {
          "base_uri": "https://localhost:8080/"
        },
        "id": "_NohV1qX3c7T",
        "outputId": "8d1d65b0-eaad-4aa6-924c-71d42e9998ad"
      },
      "execution_count": 92,
      "outputs": [
        {
          "output_type": "stream",
          "name": "stdout",
          "text": [
            "14000000000\n"
          ]
        }
      ]
    },
    {
      "cell_type": "code",
      "source": [
        "x, y, z = 0, 0, 0\n",
        "print(x)\n",
        "print(y)\n",
        "print(z)"
      ],
      "metadata": {
        "colab": {
          "base_uri": "https://localhost:8080/"
        },
        "id": "0hmTEw3N3mNr",
        "outputId": "f77e45b9-aaa8-4b71-dc95-c9078cdbb60c"
      },
      "execution_count": 93,
      "outputs": [
        {
          "output_type": "stream",
          "name": "stdout",
          "text": [
            "0\n",
            "0\n",
            "0\n"
          ]
        }
      ]
    },
    {
      "cell_type": "code",
      "source": [
        "MAX_CONNECTIONS = 5000\n",
        "#is a constant"
      ],
      "metadata": {
        "id": "cPrsXotB3rtl"
      },
      "execution_count": null,
      "outputs": []
    },
    {
      "cell_type": "code",
      "source": [
        "#Try it\n",
        "print(5 + 3)\n",
        "print(16 - 8)\n",
        "print(4 * 2)\n",
        "print(104 / 13)"
      ],
      "metadata": {
        "colab": {
          "base_uri": "https://localhost:8080/"
        },
        "id": "5GwGj6q8uAxh",
        "outputId": "3d5afb64-0594-4a85-d24c-772c817fb8bb"
      },
      "execution_count": 36,
      "outputs": [
        {
          "output_type": "stream",
          "name": "stdout",
          "text": [
            "8\n",
            "8\n",
            "8\n",
            "8.0\n"
          ]
        }
      ]
    },
    {
      "cell_type": "code",
      "source": [
        "#Try it\n",
        "favorite_number = 13\n",
        "print(f'My favorite number is: {favorite_number}')"
      ],
      "metadata": {
        "colab": {
          "base_uri": "https://localhost:8080/"
        },
        "id": "m_BhvNtSuxwX",
        "outputId": "585ddaa4-5207-4111-f2a7-ebc636b93f17"
      },
      "execution_count": 37,
      "outputs": [
        {
          "output_type": "stream",
          "name": "stdout",
          "text": [
            "My favorite number is: 13\n"
          ]
        }
      ]
    },
    {
      "cell_type": "code",
      "source": [
        "#Try it\n",
        "#writing comments at the bottom because its useless\n",
        "#and its also funny!\n",
        "#Anyway, these were the example exercises in the book to try!"
      ],
      "metadata": {
        "id": "lVDq3Irbu_3l"
      },
      "execution_count": null,
      "outputs": []
    },
    {
      "cell_type": "code",
      "source": [
        "#Try it\n",
        "import this"
      ],
      "metadata": {
        "colab": {
          "base_uri": "https://localhost:8080/"
        },
        "id": "DTPu8DiXvmll",
        "outputId": "c2893ef3-e51d-4883-bba5-412da591a39e"
      },
      "execution_count": 38,
      "outputs": [
        {
          "output_type": "stream",
          "name": "stdout",
          "text": [
            "The Zen of Python, by Tim Peters\n",
            "\n",
            "Beautiful is better than ugly.\n",
            "Explicit is better than implicit.\n",
            "Simple is better than complex.\n",
            "Complex is better than complicated.\n",
            "Flat is better than nested.\n",
            "Sparse is better than dense.\n",
            "Readability counts.\n",
            "Special cases aren't special enough to break the rules.\n",
            "Although practicality beats purity.\n",
            "Errors should never pass silently.\n",
            "Unless explicitly silenced.\n",
            "In the face of ambiguity, refuse the temptation to guess.\n",
            "There should be one-- and preferably only one --obvious way to do it.\n",
            "Although that way may not be obvious at first unless you're Dutch.\n",
            "Now is better than never.\n",
            "Although never is often better than *right* now.\n",
            "If the implementation is hard to explain, it's a bad idea.\n",
            "If the implementation is easy to explain, it may be a good idea.\n",
            "Namespaces are one honking great idea -- let's do more of those!\n"
          ]
        }
      ]
    },
    {
      "cell_type": "code",
      "source": [],
      "metadata": {
        "id": "NL0E6o2Evsym"
      },
      "execution_count": null,
      "outputs": []
    }
  ]
}