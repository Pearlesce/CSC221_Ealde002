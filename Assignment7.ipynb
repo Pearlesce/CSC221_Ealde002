{
  "nbformat": 4,
  "nbformat_minor": 0,
  "metadata": {
    "colab": {
      "provenance": [],
      "authorship_tag": "ABX9TyMQDE1banLTuOsfFDOCvjvf",
      "include_colab_link": true
    },
    "kernelspec": {
      "name": "python3",
      "display_name": "Python 3"
    },
    "language_info": {
      "name": "python"
    }
  },
  "cells": [
    {
      "cell_type": "markdown",
      "metadata": {
        "id": "view-in-github",
        "colab_type": "text"
      },
      "source": [
        "<a href=\"https://colab.research.google.com/github/Pearlesce/CSC221_Ealde002/blob/main/Assignment7.ipynb\" target=\"_parent\"><img src=\"https://colab.research.google.com/assets/colab-badge.svg\" alt=\"Open In Colab\"/></a>"
      ]
    },
    {
      "cell_type": "markdown",
      "source": [
        "Read through Crash Ch. 6, Dictionaries and work through it as a Colab like we did in class. You will \"hand in\" a big Colab called Assignment7.ipynb that I can just run from your GitHub.\n",
        "\n",
        "Try the examples as shown in the text.\n",
        "\n",
        "Try It Yourself challenges 6-1, 6-2, 6-3, 6-4, and 6-11.\n",
        "\n",
        "Do what is suggested in 6-12! Extend one of these dictionaries and make it look like you understand what is going on! There should be no two submissions that are similar. Make sure your work is unique!\n"
      ],
      "metadata": {
        "id": "7ZtIbFnIIEn9"
      }
    },
    {
      "cell_type": "code",
      "execution_count": 11,
      "metadata": {
        "colab": {
          "base_uri": "https://localhost:8080/"
        },
        "id": "hs7HgO45GeD0",
        "outputId": "d0fc3019-4ffc-4107-eb47-8cc1035d6843"
      },
      "outputs": [
        {
          "output_type": "stream",
          "name": "stdout",
          "text": [
            "{'color': 'green', 'points': 5}\n",
            "{'color': 'green', 'points': 5, 'x_position': 0, 'y_position': 25}\n",
            "{'color': 'green', 'points': 5}\n",
            "The alien is green\n",
            "The alien is now yellow\n",
            "\n",
            "Original position: 0\n",
            "New position: 2\n",
            "{'color': 'green', 'points': 5}\n",
            "{'color': 'green'}\n"
          ]
        }
      ],
      "source": [
        "#In Text Exercises\n",
        "\n",
        "alien_0 = {'color': 'green', 'points': 5}\n",
        "print(alien_0)\n",
        "#print(alien_0['color'])\n",
        "#print(alien_0['points'])\n",
        "#new_points = alien_0['points']\n",
        "#print(f\"You just earned {new_points} points!\")\n",
        "alien_0['x_position'] = 0\n",
        "alien_0['y_position'] = 25\n",
        "print(alien_0)\n",
        "\n",
        "alien_1 = {}\n",
        "alien_1['color'] = 'green'\n",
        "alien_1['points'] = 5\n",
        "print(alien_1)\n",
        "\n",
        "alien_2 = {'color': 'green'}\n",
        "print(f\"The alien is {alien_2['color']}\")\n",
        "alien_2['color'] = 'yellow'\n",
        "print(f\"The alien is now {alien_2['color']}\")\n",
        "\n",
        "alien_3 = {'x_position': 0, 'y_position': 25, 'speed': 'medium'}\n",
        "print(f\"\\nOriginal position: {alien_3['x_position']}\")\n",
        "if alien_3['speed'] == 'slow':\n",
        "    x_increment = 1\n",
        "elif alien_3['speed'] == 'medium':\n",
        "    x_increment = 2\n",
        "else:\n",
        "    x_increment = 3\n",
        "alien_3['x_position'] = alien_3['x_position'] + x_increment\n",
        "print(f\"New position: {alien_3['x_position']}\")\n",
        "\n",
        "alien_4 = {'color':'green', 'points': 5}\n",
        "print(alien_4)\n",
        "del alien_4['points']\n",
        "print(alien_4)"
      ]
    },
    {
      "cell_type": "code",
      "source": [
        "favorite_languages = {'jen': 'python', 'sarah': 'c', 'edward': 'rust',\n",
        "                      'phil': 'python'}\n",
        "language = favorite_languages['sarah'].title()\n",
        "print(f\"Sarah's favorite language is {language}\")"
      ],
      "metadata": {
        "colab": {
          "base_uri": "https://localhost:8080/"
        },
        "id": "lCGftQoTM7iR",
        "outputId": "e6b10f15-2b3e-426a-8058-1ee30e329429"
      },
      "execution_count": 12,
      "outputs": [
        {
          "output_type": "stream",
          "name": "stdout",
          "text": [
            "Sarah's favorite language is C\n"
          ]
        }
      ]
    },
    {
      "cell_type": "code",
      "source": [
        "alien_5 = {'color': 'green', 'speed': 'slow'}\n",
        "point_value = alien_5.get('points', 'No point value assigned.')\n",
        "print(point_value)"
      ],
      "metadata": {
        "colab": {
          "base_uri": "https://localhost:8080/"
        },
        "id": "_1GHfuJ2NyPF",
        "outputId": "f605929c-95be-4982-e772-7e4ab295bdf2"
      },
      "execution_count": 13,
      "outputs": [
        {
          "output_type": "stream",
          "name": "stdout",
          "text": [
            "No point value assigned.\n"
          ]
        }
      ]
    },
    {
      "cell_type": "code",
      "source": [
        "#Try It Yourself 6-1\n",
        "person = {'first_name': 'niahm', 'last_name': 'alden', 'age': 37, 'city': 'potsdam'}\n",
        "print(f\"Her first name is {person['first_name']}\")\n",
        "print(f\"Her last name is {person['last_name']}\")\n",
        "print(f\"She is {person['age']} years old\")\n",
        "print(f\"She lives in {person['city']}\")"
      ],
      "metadata": {
        "colab": {
          "base_uri": "https://localhost:8080/"
        },
        "id": "ljbOqJXNOR-3",
        "outputId": "8b107153-ac65-418e-bbab-470f87a2fdc5"
      },
      "execution_count": 14,
      "outputs": [
        {
          "output_type": "stream",
          "name": "stdout",
          "text": [
            "Her first name is niahm\n",
            "Her last name is alden\n",
            "She is 37 years old\n",
            "She lives in potsdam\n"
          ]
        }
      ]
    },
    {
      "cell_type": "code",
      "source": [
        "#Try It Yourself 6-2\n",
        "fav_numbers = {'sauron': 1, 'elves': 3, 'dwarves': 7, 'men': 9, 'hobbits': 0}\n",
        "print(f\"Sauron made {fav_numbers['sauron']} ring!\")\n",
        "print(f\"Sauron couldn't find the {fav_numbers['elves']} Elven rings!\")\n",
        "print(f\"Sauron lost the {fav_numbers['dwarves']} Dwarven rings!\")\n",
        "print(f\"Sauron corrupted {fav_numbers['men']} rings of Men!\")\n",
        "print(f\"Sauron never knew of Hobbits. They had {fav_numbers['hobbits']} rings!\")"
      ],
      "metadata": {
        "colab": {
          "base_uri": "https://localhost:8080/"
        },
        "id": "1Mz51YedPmTH",
        "outputId": "bd2aa935-f95c-4438-df09-c7b194088c2f"
      },
      "execution_count": 17,
      "outputs": [
        {
          "output_type": "stream",
          "name": "stdout",
          "text": [
            "Sauron made 1 ring!\n",
            "Sauron couldn't find the 3 Elven rings!\n",
            "Sauron lost the 7 Dwarven rings!\n",
            "Sauron corrupted 9 rings of Men!\n",
            "Sauron never knew of Hobbits. They had 0 rings!\n"
          ]
        }
      ]
    },
    {
      "cell_type": "code",
      "source": [
        "#Try It Yourself 6-3\n",
        "glossary = {'variables': 'labels you can assign to values',\n",
        "            'whitespace': 'non-printing characters like space or tab',\n",
        "            '.strip()': 'method remove the whitespace characters',\n",
        "            'indeces': 'they start at 0, not 1',\n",
        "            'del': 'deletes an element fron a list'}\n",
        "\n",
        "print(f\"{'variables'}\")\n",
        "print(f\"\\t{glossary['variables']}\")\n",
        "print(f\"{'whitespace'}\")\n",
        "print(f\"\\t{glossary['whitespace']}\")\n",
        "print(f\"{'.strip()'}\")\n",
        "print(f\"\\t{glossary['.strip()']}\")\n",
        "print(f\"{'indeces'}\")\n",
        "print(f\"\\t{glossary['indeces']}\")\n",
        "print(f\"{'del'}\")\n",
        "print(f\"\\t{glossary['del']}\")"
      ],
      "metadata": {
        "colab": {
          "base_uri": "https://localhost:8080/"
        },
        "id": "YXFjofVoSQg3",
        "outputId": "5a4e6040-ae7b-4b78-9d4b-4f741b6fbb75"
      },
      "execution_count": 31,
      "outputs": [
        {
          "output_type": "stream",
          "name": "stdout",
          "text": [
            "variables\n",
            "\tlabels you can assign to values\n",
            "whitespace\n",
            "\tnon-printing characters like space or tab\n",
            ".strip()\n",
            "\tmethod remove the whitespace characters\n",
            "indeces\n",
            "\tthey start at 0, not 1\n",
            "del\n",
            "\tdeletes an element fron a list\n"
          ]
        }
      ]
    },
    {
      "cell_type": "code",
      "source": [
        "#In Text Examples\n",
        "user_0 = {'username': 'efermi', 'first': 'enrico', 'last': 'fermi'}\n",
        "for key, value in user_0.items():\n",
        "    print(f\"\\nKey: {key}\")\n",
        "    print(f\"Value: {value}\")"
      ],
      "metadata": {
        "colab": {
          "base_uri": "https://localhost:8080/"
        },
        "id": "KypsbxHVZl0D",
        "outputId": "7f6152e8-3889-46d0-da53-7b2084aa41fa"
      },
      "execution_count": 32,
      "outputs": [
        {
          "output_type": "stream",
          "name": "stdout",
          "text": [
            "\n",
            "Key: username\n",
            "Value: efermi\n",
            "\n",
            "Key: first\n",
            "Value: enrico\n",
            "\n",
            "Key: last\n",
            "Value: fermi\n"
          ]
        }
      ]
    },
    {
      "cell_type": "code",
      "source": [
        "#for name, language in favorite_languages.items():\n",
        "    #print(f\"{name.title()}'s favorite language is {language.title()}\")\n",
        "#for name in favorite_languages:\n",
        "    #print(name.title())\n",
        "\n",
        "\n",
        "friends = ['phil', 'sarah']\n",
        "for name in favorite_languages:\n",
        "    print(f\"Hi {name.title()}.\")\n",
        "    if name in friends:\n",
        "        language = favorite_languages[name].title()\n",
        "        print(f\"\\t{name.title()}, I see you love {language}!\")\n",
        "if 'erin' not in favorite_languages.keys():\n",
        "    print(\"Erin, please take our poll!\\n\")\n",
        "\n",
        "for name in sorted(favorite_languages.keys()):\n",
        "    print(f\"{name.title()}, thank you for taking the poll.\")\n",
        "print(\"\\nThe following languages have been mentioned:\")\n",
        "for language in set(favorite_languages.values()):\n",
        "    print(language.title())"
      ],
      "metadata": {
        "colab": {
          "base_uri": "https://localhost:8080/"
        },
        "id": "S2kkq45UaRY0",
        "outputId": "e8123ce9-eb5e-412d-fafc-b7525554233c"
      },
      "execution_count": 45,
      "outputs": [
        {
          "output_type": "stream",
          "name": "stdout",
          "text": [
            "Hi Jen.\n",
            "Hi Sarah.\n",
            "\tSarah, I see you love C!\n",
            "Hi Edward.\n",
            "Hi Phil.\n",
            "\tPhil, I see you love Python!\n",
            "Erin, please take our poll!\n",
            "\n",
            "Edward, thank you for taking the poll.\n",
            "Jen, thank you for taking the poll.\n",
            "Phil, thank you for taking the poll.\n",
            "Sarah, thank you for taking the poll.\n",
            "\n",
            "The following languages have been mentioned:\n",
            "Rust\n",
            "C\n",
            "Python\n"
          ]
        }
      ]
    },
    {
      "cell_type": "code",
      "source": [
        "#Try It Yourself 6-4\n",
        "for item in glossary:\n",
        "    print(f\"{item} is: \\n\\t{glossary[item]}\")\n"
      ],
      "metadata": {
        "colab": {
          "base_uri": "https://localhost:8080/"
        },
        "id": "0Cf6Y-AQc-rg",
        "outputId": "565d4f1c-2f27-4539-fd5f-63699c41c62d"
      },
      "execution_count": 46,
      "outputs": [
        {
          "output_type": "stream",
          "name": "stdout",
          "text": [
            "variables is: \n",
            "\tlabels you can assign to values\n",
            "whitespace is: \n",
            "\tnon-printing characters like space or tab\n",
            ".strip() is: \n",
            "\tmethod remove the whitespace characters\n",
            "indeces is: \n",
            "\tthey start at 0, not 1\n",
            "del is: \n",
            "\tdeletes an element fron a list\n"
          ]
        }
      ]
    },
    {
      "cell_type": "code",
      "source": [
        "'''\n",
        "alien_0 = {'color': 'green', 'points': 5}\n",
        "alien_1 = {'color': 'yellow', 'points': 10}\n",
        "alien_2 = {'color': 'red', 'points': 15}\n",
        "\n",
        "aliens = [alien_0, alien_1, alien_2]\n",
        "\n",
        "for alien in aliens:\n",
        "    print(alien)\n",
        "'''\n",
        "\n",
        "aliens = []\n",
        "\n",
        "for alien_number in range(30):\n",
        "    new_alien = {'color': 'green', 'points' : 5, 'speed': 'slow'}\n",
        "    aliens.append(new_alien)\n",
        "for alien in aliens[0:3]:\n",
        "    if alien['color'] == 'green':\n",
        "        alien['color'] = 'yellow'\n",
        "        alien['speed'] = 'medium'\n",
        "        alien['points'] = 10\n",
        "    elif alien['color'] == 'yellow':\n",
        "        alien['color'] = 'red'\n",
        "        alien['speed'] = 'fast'\n",
        "        alien['points'] = 15\n",
        "for alien in aliens[:5]:\n",
        "    print(alien)\n",
        "print(\"...\")\n",
        "print(f\"Total number of aliens : {len(aliens)}\")"
      ],
      "metadata": {
        "colab": {
          "base_uri": "https://localhost:8080/"
        },
        "id": "HgKCctWbeoJQ",
        "outputId": "935af5af-2a26-4c6b-fea5-244680723ae4"
      },
      "execution_count": 53,
      "outputs": [
        {
          "output_type": "stream",
          "name": "stdout",
          "text": [
            "{'color': 'yellow', 'points': 10, 'speed': 'medium'}\n",
            "{'color': 'yellow', 'points': 10, 'speed': 'medium'}\n",
            "{'color': 'yellow', 'points': 10, 'speed': 'medium'}\n",
            "{'color': 'green', 'points': 5, 'speed': 'slow'}\n",
            "{'color': 'green', 'points': 5, 'speed': 'slow'}\n",
            "...\n",
            "Total number of aliens : 30\n"
          ]
        }
      ]
    },
    {
      "cell_type": "code",
      "source": [
        "pizza = {'crust': 'thick', 'toppings': ['mushrooms', 'extra cheese']}\n",
        "print(f\"You ordered a {pizza['crust']}-crust pizza \"\n",
        "    \"with the following toppings:\")\n",
        "for topping in pizza['toppings']:\n",
        "    print(f\"\\t{topping}\")"
      ],
      "metadata": {
        "colab": {
          "base_uri": "https://localhost:8080/"
        },
        "id": "sdFqZzD3g5C2",
        "outputId": "3f104031-160d-4780-e809-da3fe95dd81e"
      },
      "execution_count": 54,
      "outputs": [
        {
          "output_type": "stream",
          "name": "stdout",
          "text": [
            "You ordered a thick-crust pizza with the following toppings:\n",
            "\tmushrooms\n",
            "\textra cheese\n"
          ]
        }
      ]
    },
    {
      "cell_type": "code",
      "source": [
        "favorite_languages = {'jen': ['python', 'rust'],\n",
        "                      'sarah': ['c'],\n",
        "                      'edward': ['rust', 'go'],\n",
        "                      'phil': ['python', 'haskell']}\n",
        "for name, languages in favorite_languages.items():\n",
        "    print(f\"\\n{name.title()}'s favorite laguages are:\")\n",
        "    for language in languages:\n",
        "        print(f\"\\t{language.title()}\")"
      ],
      "metadata": {
        "colab": {
          "base_uri": "https://localhost:8080/"
        },
        "id": "tT5clYk_hoAn",
        "outputId": "a0ee9700-2b67-4ffe-f92f-be2d5bd91b11"
      },
      "execution_count": 55,
      "outputs": [
        {
          "output_type": "stream",
          "name": "stdout",
          "text": [
            "\n",
            "Jen's favorite laguages are:\n",
            "\tPython\n",
            "\tRust\n",
            "\n",
            "Sarah's favorite laguages are:\n",
            "\tC\n",
            "\n",
            "Edward's favorite laguages are:\n",
            "\tRust\n",
            "\tGo\n",
            "\n",
            "Phil's favorite laguages are:\n",
            "\tPython\n",
            "\tHaskell\n"
          ]
        }
      ]
    },
    {
      "cell_type": "code",
      "source": [
        "users = {'aeinstein': {\n",
        "            'first': 'albert',\n",
        "            'last': 'einstein',\n",
        "            'location': 'princeton'},\n",
        "         'mcurie' : {\n",
        "              'first': 'marie',\n",
        "              'last': 'curie',\n",
        "              'location': 'paris'}\n",
        "         }\n",
        "for username, user_info in users.items():\n",
        "    print(f\"\\nUsername: {username}\")\n",
        "    full_name = f\"{user_info['first']} {user_info['last']}\"\n",
        "    location = user_info['location']\n",
        "\n",
        "    print(f\"\\tFull name: {full_name.title()}\")\n",
        "    print(f\"\\tLocation: {location.title()}\")"
      ],
      "metadata": {
        "colab": {
          "base_uri": "https://localhost:8080/"
        },
        "id": "mRf_hbpNilng",
        "outputId": "3d49f707-a377-4ebf-b597-16bdfd841acb"
      },
      "execution_count": 56,
      "outputs": [
        {
          "output_type": "stream",
          "name": "stdout",
          "text": [
            "\n",
            "Username: aeinstein\n",
            "\tFull name: Albert Einstein\n",
            "\tLocation: Princeton\n",
            "\n",
            "Username: mcurie\n",
            "\tFull name: Marie Curie\n",
            "\tLocation: Paris\n"
          ]
        }
      ]
    },
    {
      "cell_type": "code",
      "source": [
        "#Try It Yourself 6-11\n",
        "cities = {'potsdam': {'country': 'united states',\n",
        "                      'population': 15322,\n",
        "                      'fact': 'motto: all roads lead to potsdam'},\n",
        "          'plattsburgh': {'country': 'united states',\n",
        "                          'population': 19841,\n",
        "                          'fact': 'motto: virtue is its own reward'},\n",
        "          'denver': {'country': 'united states',\n",
        "                     'population': 715522,\n",
        "                     'fact': 'nil sine numine'}\n",
        "          }\n",
        "for city, city_info in cities.items():\n",
        "    print(f\"\\nI've lived in {city.title()}\")\n",
        "    location = f\"{city_info['country']}\"\n",
        "    pop = f\"{city_info['population']}\"\n",
        "    info = f\"{city_info['fact']}\"\n",
        "\n",
        "    print(f\"\\tIts located in the {location.title()}\")\n",
        "    print(f\"\\tIts population is {pop}\")\n",
        "    print(f\"\\tIts motto is {info.title()}\")"
      ],
      "metadata": {
        "colab": {
          "base_uri": "https://localhost:8080/"
        },
        "id": "WwWKU17rj9F2",
        "outputId": "28c22771-dd13-436f-e40c-5b4becf41372"
      },
      "execution_count": 57,
      "outputs": [
        {
          "output_type": "stream",
          "name": "stdout",
          "text": [
            "\n",
            "I've lived in Potsdam\n",
            "\tIts located in the United States\n",
            "\tIts population is 15322\n",
            "\tIts motto is Motto: All Roads Lead To Potsdam\n",
            "\n",
            "I've lived in Plattsburgh\n",
            "\tIts located in the United States\n",
            "\tIts population is 19841\n",
            "\tIts motto is Motto: Virtue Is Its Own Reward\n",
            "\n",
            "I've lived in Denver\n",
            "\tIts located in the United States\n",
            "\tIts population is 715522\n",
            "\tIts motto is Nil Sine Numine\n"
          ]
        }
      ]
    },
    {
      "cell_type": "code",
      "source": [
        "#Try It Yourself 6-12\n",
        "fav_numbers = {'sauron': '1',\n",
        "               'elves' : ['gil-galad owned narya, the fire',\n",
        "                          'galadriel owned nenya, the adamant',\n",
        "                          'elrond owned vilya, the air'],\n",
        "               'men': ['bane of rhun owned sakhla, the cruek one',\n",
        "                       'woe of khand owned adash, the foe-maker',\n",
        "                       'cursed rider of the east owned orom, the war-monger',\n",
        "                       'grim southron owned juru, herald of mourning',\n",
        "                       'high sorcerer of harad owned mebat, the mirth-eater',\n",
        "                       'forsaken reaver owned khanto, the pain-giver',\n",
        "                       'black blade of lebennin owned sapthan, the foolstone',\n",
        "                       'gloom of nirn owned nitir, terrors sting',\n",
        "                       'witch-king of angmar owned uri, the heart-stopper'],\n",
        "               'dwarves': '7',\n",
        "               'hobbits': '0'}\n",
        "for peoples, names in fav_numbers.items():\n",
        "    print(f\"These are the owners of the rings: {peoples.title()}\")\n",
        "    for name in names:\n",
        "        print(f\"\\t{name.title()}\")\n"
      ],
      "metadata": {
        "colab": {
          "base_uri": "https://localhost:8080/"
        },
        "id": "Ch68ej-ypEZb",
        "outputId": "42823102-7a0b-4287-c892-f33caa3e9edd"
      },
      "execution_count": 70,
      "outputs": [
        {
          "output_type": "stream",
          "name": "stdout",
          "text": [
            "These are the owners of the rings: Sauron\n",
            "\t1\n",
            "These are the owners of the rings: Elves\n",
            "\tGil-Galad Owned Narya, The Fire\n",
            "\tGaladriel Owned Nenya, The Adamant\n",
            "\tElrond Owned Vilya, The Air\n",
            "These are the owners of the rings: Men\n",
            "\tBane Of Rhun Owned Sakhla, The Cruek One\n",
            "\tWoe Of Khand Owned Adash, The Foe-Maker\n",
            "\tCursed Rider Of The East Owned Orom, The War-Monger\n",
            "\tGrim Southron Owned Juru, Herald Of Mourning\n",
            "\tHigh Sorcerer Of Harad Owned Mebat, The Mirth-Eater\n",
            "\tForsaken Reaver Owned Khanto, The Pain-Giver\n",
            "\tBlack Blade Of Lebennin Owned Sapthan, The Foolstone\n",
            "\tGloom Of Nirn Owned Nitir, Terrors Sting\n",
            "\tWitch-King Of Angmar Owned Uri, The Heart-Stopper\n",
            "These are the owners of the rings: Dwarves\n",
            "\t7\n",
            "These are the owners of the rings: Hobbits\n",
            "\t0\n"
          ]
        }
      ]
    }
  ]
}