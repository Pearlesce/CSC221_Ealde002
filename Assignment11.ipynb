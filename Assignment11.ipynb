{
  "nbformat": 4,
  "nbformat_minor": 0,
  "metadata": {
    "colab": {
      "provenance": [],
      "authorship_tag": "ABX9TyMscIoV5SZ6ipG7Xyutf14n",
      "include_colab_link": true
    },
    "kernelspec": {
      "name": "python3",
      "display_name": "Python 3"
    },
    "language_info": {
      "name": "python"
    }
  },
  "cells": [
    {
      "cell_type": "markdown",
      "metadata": {
        "id": "view-in-github",
        "colab_type": "text"
      },
      "source": [
        "<a href=\"https://colab.research.google.com/github/Pearlesce/CSC221_Ealde002/blob/main/Assignment11.ipynb\" target=\"_parent\"><img src=\"https://colab.research.google.com/assets/colab-badge.svg\" alt=\"Open In Colab\"/></a>"
      ]
    },
    {
      "cell_type": "markdown",
      "source": [
        "Liz Alden\n",
        "\n",
        "Assignment 11: Classes Part 1\n",
        "\n",
        "Read Chapter 9, Classes.\n",
        "\n",
        "Work through all of the example code in the text involving dogs and cars.\n",
        "\n",
        "Do TIY 9-1, 9-2, and 9-3, 9-6, and 9-7."
      ],
      "metadata": {
        "id": "5Ds-d6NTHJA8"
      }
    },
    {
      "cell_type": "code",
      "source": [
        "#In Text Exercises using Dogs and Cars\n",
        "\n",
        "class Dog:\n",
        "    \"\"\"A simple attempt to model a dog.\"\"\"\n",
        "\n",
        "    def __init__(self, name, age):\n",
        "        \"\"\"Initializa name and age attirbutes\"\"\"\n",
        "        self.name = name\n",
        "        self.age = age\n",
        "\n",
        "    def sit(self):\n",
        "        \"\"\"Simulate a dog sitting in response to a command\"\"\"\n",
        "        print(f\"{self.name} is now sitting.\")\n",
        "\n",
        "    def roll_over(self):\n",
        "        \"\"\"Simulate rolling over in response to a command\"\"\"\n",
        "        print(f\"{self.name} rolled over!\")\n",
        "\n"
      ],
      "metadata": {
        "id": "MhNFWyg7HcSw"
      },
      "execution_count": 3,
      "outputs": []
    },
    {
      "cell_type": "code",
      "source": [
        "my_dog = Dog('Willie', 6)\n",
        "your_dog = Dog('Lucy', 3)\n",
        "\n",
        "print(f\"My dog's name is {my_dog.name}.\")\n",
        "print(f\"My dog is {my_dog.age} years old.\")\n",
        "my_dog.sit()\n",
        "\n",
        "print(f\"\\nYour dog's name is {your_dog.name}.\")\n",
        "print(f\"Your dog is {your_dog.age} years old.\")\n",
        "your_dog.sit()"
      ],
      "metadata": {
        "colab": {
          "base_uri": "https://localhost:8080/"
        },
        "id": "J3PAHT0XXyK2",
        "outputId": "f29ade05-3b61-4859-9c6a-07fc8786ea2c"
      },
      "execution_count": 5,
      "outputs": [
        {
          "output_type": "stream",
          "name": "stdout",
          "text": [
            "My dog's name is Willie.\n",
            "My dog is 6 years old.\n",
            "Willie is now sitting.\n",
            "\n",
            "Your dog's name is Lucy.\n",
            "Your dog is 3 years old.\n",
            "Lucy is now sitting.\n"
          ]
        }
      ]
    },
    {
      "cell_type": "code",
      "source": [
        "#Try It Yourself 9-1\n",
        "\n",
        "class Restaurant:\n",
        "    \"\"\"A simple class describing a restaurant\"\"\"\n",
        "\n",
        "    def __init__(self, name, cuisine_type):\n",
        "        \"\"\"Initialize the restaurant name and its cuisine type\"\"\"\n",
        "\n",
        "        self.restaurant_name = name\n",
        "        self.cuisine_type = cuisine_type\n",
        "\n",
        "    def describe_restaurant(self):\n",
        "        \"\"\"This method prints the name and cuisine of the restaurant\"\"\"\n",
        "\n",
        "        print(f\"\\nWelcome to {self.restaurant_name.title()}!\")\n",
        "        print(f\"We serve only the finest {self.cuisine_type} here.\")\n",
        "\n",
        "    def open_restaurant(self):\n",
        "        \"\"\"Prints a message as to whether the restaurant is open\"\"\"\n",
        "\n",
        "        print(f\"\\n{self.restaurant_name.title()} is now open!\")\n",
        "\n",
        "restaurant_one = Restaurant('raquette river pub', 'hot wings')\n",
        "print(f\"The restaurant is {restaurant_one.restaurant_name}\")\n",
        "print(f\"This place serves {restaurant_one.cuisine_type}\")\n",
        "restaurant_one.describe_restaurant()\n",
        "restaurant_one.open_restaurant()"
      ],
      "metadata": {
        "colab": {
          "base_uri": "https://localhost:8080/"
        },
        "id": "ImZADrBcY37Z",
        "outputId": "b7cae0d0-bad5-4d86-8525-2beeb513079c"
      },
      "execution_count": 10,
      "outputs": [
        {
          "output_type": "stream",
          "name": "stdout",
          "text": [
            "The restaurant is raquette river pub\n",
            "This place serves hot wings\n",
            "\n",
            "Welcome to Raquette River Pub!\n",
            "We serve only the finest hot wings here.\n",
            "\n",
            "Raquette River Pub is now open!\n"
          ]
        }
      ]
    },
    {
      "cell_type": "code",
      "source": [
        "#Try It Yourself 9-2\n",
        "\n",
        "restaurant_two = Restaurant('great wall', 'chinese')\n",
        "restaurant_two.describe_restaurant()\n",
        "restaurant_three = Restaurant('swamp rats', 'cajun')\n",
        "restaurant_three.describe_restaurant()\n",
        "restaurant_four = Restaurant('mama mia', 'italian')\n",
        "restaurant_four.describe_restaurant()"
      ],
      "metadata": {
        "colab": {
          "base_uri": "https://localhost:8080/"
        },
        "id": "2vZoqW3Ic4_l",
        "outputId": "9c0f3714-4eb2-44d8-a8a5-b4eb8cbb7b62"
      },
      "execution_count": 11,
      "outputs": [
        {
          "output_type": "stream",
          "name": "stdout",
          "text": [
            "\n",
            "Welcome to Great Wall!\n",
            "We serve only the finest chinese here.\n",
            "\n",
            "Welcome to Swamp Rats!\n",
            "We serve only the finest cajun here.\n",
            "\n",
            "Welcome to Mama Mia!\n",
            "We serve only the finest italian here.\n"
          ]
        }
      ]
    },
    {
      "cell_type": "code",
      "source": [
        "#Try It Yourself 9-3\n",
        "\n",
        "class User:\n",
        "    \"\"\"This class describes a user and related information\"\"\"\n",
        "\n",
        "    def __init__(self, first_name, last_name, game_class, game_race, level):\n",
        "        \"\"\"initializing the first and last name, the class, and level of the\n",
        "        user\"\"\"\n",
        "\n",
        "        self.first_name = first_name\n",
        "        self.last_name = last_name\n",
        "        self.game_class = game_class\n",
        "        self.race = game_race\n",
        "        self.level = level\n",
        "\n",
        "    def describe_user(self):\n",
        "        \"\"\"This method provides a summary of the user's information\"\"\"\n",
        "\n",
        "        print(f\"You've chosen the {self.game_class} class.\")\n",
        "        print(f\"You've chosen the {self.race} race.\")\n",
        "        print(f\"Your current level is {self.level}.\\n\")\n",
        "    def greet_user(self):\n",
        "        \"\"\"This method greets the user\"\"\"\n",
        "\n",
        "        print(f\"Welcome, {self.first_name.title()} {self.last_name.title()}!\")\n",
        "\n",
        "player_one = User('liadon', 'greyhame', 'fighter', 'dwarf', 12)\n",
        "player_two = User('warlen', 'greensleeves', 'cleric', 'high elf', 16)\n",
        "player_three = User('moraiah', 'silvertongue', 'bard', 'human', 10)\n",
        "player_four = User('fequa', 'appledore', 'assassin', 'halfling', 14)\n",
        "\n",
        "player_one.greet_user()\n",
        "player_one.describe_user()\n",
        "player_two.greet_user()\n",
        "player_two.describe_user()\n",
        "player_three.greet_user()\n",
        "player_three.describe_user()\n",
        "player_four.greet_user()\n",
        "player_four.describe_user()"
      ],
      "metadata": {
        "colab": {
          "base_uri": "https://localhost:8080/"
        },
        "id": "klKHwWtPd-Or",
        "outputId": "abeddffe-0985-42b7-b7c2-96ccc937eb1a"
      },
      "execution_count": 13,
      "outputs": [
        {
          "output_type": "stream",
          "name": "stdout",
          "text": [
            "Welcome, Liadon Greyhame!\n",
            "You've chosen the fighter class.\n",
            "You've chosen the dwarf race.\n",
            "Your current level is 12.\n",
            "\n",
            "Welcome, Warlen Greensleeves!\n",
            "You've chosen the cleric class.\n",
            "You've chosen the high elf race.\n",
            "Your current level is 16.\n",
            "\n",
            "Welcome, Moraiah Silvertongue!\n",
            "You've chosen the bard class.\n",
            "You've chosen the human race.\n",
            "Your current level is 10.\n",
            "\n",
            "Welcome, Fequa Appledore!\n",
            "You've chosen the assassin class.\n",
            "You've chosen the halfling race.\n",
            "Your current level is 14.\n",
            "\n"
          ]
        }
      ]
    },
    {
      "cell_type": "code",
      "source": [
        "#In-Text Exercises\n",
        "\n",
        "class Car:\n",
        "    \"\"\"A simple attempt to represent a car.\"\"\"\n",
        "\n",
        "    def __init__(self, make, model, year):\n",
        "        \"\"\"Initialize attributes to describe a car.\"\"\"\n",
        "\n",
        "        self.make = make\n",
        "        self.model = model\n",
        "        self.year = year\n",
        "        self.odometer_reading = 0\n",
        "\n",
        "    def get_descriptive_name(self):\n",
        "        \"\"\"Return a neatly formatted descriptive name\"\"\"\n",
        "\n",
        "        long_name = f\"{self.year} {self.make} {self.model}\"\n",
        "        return long_name.title()\n",
        "\n",
        "    def read_odometer(self):\n",
        "        \"\"\"Print a statement showing the car's mileage\"\"\"\n",
        "\n",
        "        print(f\"This car has {self.odometer_reading} miles on it\")\n",
        "\n",
        "    def update_odometer(self, mileage):\n",
        "        \"\"\"\n",
        "        Set the odometer reading to the given value.\n",
        "        Reject the change if it attempts to roll the odometer back.\n",
        "        \"\"\"\n",
        "        if mileage >= self.odometer_reading:\n",
        "            self.odometer_reading = mileage\n",
        "        else:\n",
        "            print(\"You can't roll back an odometer!\")\n",
        "\n",
        "    def increment_odometer(self, miles):\n",
        "        \"\"\"Add the given amount to the odometer reading.\"\"\"\n",
        "\n",
        "        self.odometer_reading += miles\n",
        "\n",
        "    def fill_gas_tank(self, miles):\n",
        "        \"\"\"Tells when you have to fill the gas tank of the car.\"\"\"\n",
        "        if miles <= 450:\n",
        "            print(\"No need to fill up the tank yet.\")\n",
        "        else:\n",
        "            print(\"You're on empty!\")\n",
        "\n",
        "class Battery:\n",
        "    \"\"\"A simple attmept to model a battery for an electric car.\"\"\"\n",
        "\n",
        "    def __init__(self, battery_size=40):\n",
        "        \"\"\"Initialize the battery's attributes.\"\"\"\n",
        "\n",
        "        self.battery_size = battery_size\n",
        "\n",
        "    def describe_battery(self):\n",
        "        \"\"\"Print a statement describing the battery size.\"\"\"\n",
        "\n",
        "        print(f\"This car has a {self.battery_size}-kWh battery.\")\n",
        "\n",
        "    def get_range(self):\n",
        "        \"\"\"Print a statement about the range this battery provides.\"\"\"\n",
        "\n",
        "        if self.battery_size == 40:\n",
        "            range = 150\n",
        "        elif self.battery_size == 65:\n",
        "            range = 225\n",
        "        print(f\"This car can go about {range} miles on a full charge.\")\n",
        "\n",
        "class ElectricCar(Car):\n",
        "    \"\"\"Represents aspects of a car, specific to electric vehicles.\"\"\"\n",
        "\n",
        "    def __init__(self, make, model, year):\n",
        "        \"\"\"\n",
        "        Initialize attributes of the parent class.\n",
        "        Then initialize attributes specific to an electric car.\n",
        "        \"\"\"\n",
        "\n",
        "        super().__init__(make, model, year)\n",
        "        self.battery = Battery()\n",
        "\n",
        "\n",
        "    def fill_gas_tank(self):\n",
        "        \"\"\"Electric cars don't have gas tanks.\"\"\"\n",
        "        print(\"This car doesn't have a gas tank!\")\n",
        "\n",
        "my_new_car = Car('audi', 'a4', 2024)\n",
        "print(my_new_car.get_descriptive_name())\n",
        "my_new_car.update_odometer(23)\n",
        "my_new_car.read_odometer()\n",
        "my_new_car.fill_gas_tank(100)\n",
        "print()\n",
        "\n",
        "my_used_car = Car('subaru', 'outback', 2019)\n",
        "print(my_used_car.get_descriptive_name())\n",
        "my_used_car.update_odometer(23_500)\n",
        "my_used_car.read_odometer()\n",
        "my_used_car.increment_odometer(100)\n",
        "my_used_car.read_odometer()\n",
        "my_used_car.fill_gas_tank(500)\n",
        "print()\n",
        "\n",
        "my_leaf = ElectricCar('nissan', 'leaf', 2024)\n",
        "print(my_leaf.get_descriptive_name())\n",
        "my_leaf.battery.describe_battery()\n",
        "my_leaf.battery.get_range()"
      ],
      "metadata": {
        "colab": {
          "base_uri": "https://localhost:8080/"
        },
        "id": "YnF6niDGjyYt",
        "outputId": "ccbac5b0-6578-40e4-d189-a3dff35bcb74"
      },
      "execution_count": 28,
      "outputs": [
        {
          "output_type": "stream",
          "name": "stdout",
          "text": [
            "2024 Audi A4\n",
            "This car has 23 miles on it\n",
            "No need to fill up the tank yet.\n",
            "\n",
            "2019 Subaru Outback\n",
            "This car has 23500 miles on it\n",
            "This car has 23600 miles on it\n",
            "You're on empty!\n",
            "\n",
            "2024 Nissan Leaf\n",
            "This car has a 40-kWh battery.\n",
            "This car can go about 150 miles on a full charge.\n"
          ]
        }
      ]
    },
    {
      "cell_type": "code",
      "source": [
        "#Try It Yourself 9-6, 9-7\n",
        "\n",
        "class IceCreamStand(Restaurant):\n",
        "    \"\"\"An attempt to describe an Ice Cream Stand\"\"\"\n",
        "    def __init__(self, name, cuisine_type):\n",
        "        \"\"\"Initializing an Ice Cream Stand restaurant\"\"\"\n",
        "\n",
        "        super().__init__(name, cuisine_type)\n",
        "        self.flavors = ['vanilla', 'chocolate', 'cookie dough', 'strawberry',\n",
        "                        'pistachio']\n",
        "\n",
        "    def show_flavors(self):\n",
        "        \"\"\"Prints the flavors of the Ice Cream Stand\"\"\"\n",
        "\n",
        "        print(\"The flavors we have are: \")\n",
        "        for flavor in self.flavors:\n",
        "            print(flavor.title())\n",
        "restaurant_five = IceCreamStand('freezi peasy', 'ice cream')\n",
        "restaurant_five.describe_restaurant()\n",
        "restaurant_five.show_flavors()"
      ],
      "metadata": {
        "colab": {
          "base_uri": "https://localhost:8080/"
        },
        "id": "OKLLvSYvmeVj",
        "outputId": "840313f0-7076-4e8f-9696-9c559cdb0e4e"
      },
      "execution_count": 34,
      "outputs": [
        {
          "output_type": "stream",
          "name": "stdout",
          "text": [
            "\n",
            "Welcome to Freezi Peasy!\n",
            "We serve only the finest ice cream here.\n",
            "The flavors we have are: \n",
            "Vanilla\n",
            "Chocolate\n",
            "Cookie Dough\n",
            "Strawberry\n",
            "Pistachio\n"
          ]
        }
      ]
    },
    {
      "cell_type": "code",
      "source": [
        "class Admin(User):\n",
        "    \"\"\"An attempt to display the Admin\"\"\"\n",
        "    def __init__(self, first_name, last_name, game_class, game_race, level):\n",
        "        \"\"\"Initializing the Admin\"\"\"\n",
        "        super().__init__(first_name, last_name, game_class, game_race, level)\n",
        "        self.privileges = ['creates dungeons', 'can ban user',\n",
        "                           'can distribute loot', 'is god']\n",
        "\n",
        "    def show_privileges(self):\n",
        "        \"\"\"Prints the set of privileges for the admin\"\"\"\n",
        "        for privilege in self.privileges:\n",
        "            print(privilege)\n",
        "\n",
        "player_five = Admin('game', 'master', 'GM', 'god', 999)\n",
        "player_five.greet_user()\n",
        "player_five.show_privileges()"
      ],
      "metadata": {
        "colab": {
          "base_uri": "https://localhost:8080/"
        },
        "id": "UYf_IfvKwih6",
        "outputId": "0d33a0b4-304f-4a79-83a6-13d4990480af"
      },
      "execution_count": 37,
      "outputs": [
        {
          "output_type": "stream",
          "name": "stdout",
          "text": [
            "Welcome, Game Master!\n",
            "creates dungeons\n",
            "can ban user\n",
            "can distribute loot\n",
            "is god\n"
          ]
        }
      ]
    },
    {
      "cell_type": "markdown",
      "source": [
        "I decided against doing the importing bits at the end of the chapter as we will have spent over 2 and a half weeks on importing from modules in Lab class by the time this is graded. I've also done some importing of modules and files in my Java classes before at SUNY Potsdam."
      ],
      "metadata": {
        "id": "tNzd1_gez15V"
      }
    }
  ]
}